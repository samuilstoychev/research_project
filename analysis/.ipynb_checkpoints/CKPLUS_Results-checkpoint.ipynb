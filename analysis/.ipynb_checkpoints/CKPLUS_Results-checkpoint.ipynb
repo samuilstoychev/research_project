{
 "cells": [
  {
   "cell_type": "code",
   "execution_count": 33,
   "metadata": {},
   "outputs": [],
   "source": [
    "import matplotlib.pyplot as plt\n",
    "import numpy as np\n",
    "import pandas as pd"
   ]
  },
  {
   "cell_type": "markdown",
   "metadata": {},
   "source": [
    "# CK+ Results"
   ]
  },
  {
   "cell_type": "code",
   "execution_count": 34,
   "metadata": {},
   "outputs": [
    {
     "name": "stdout",
     "output_type": "stream",
     "text": [
      "/Users/samuilstoychev/Desktop/research_project_repo/research_project/experiments/ckplus/2021-04-26-04-51\n"
     ]
    }
   ],
   "source": [
    "%cd ~/Desktop/research_project_repo/research_project/experiments/ckplus/2021-04-26-04-51/"
   ]
  },
  {
   "cell_type": "code",
   "execution_count": 35,
   "metadata": {},
   "outputs": [
    {
     "name": "stdout",
     "output_type": "stream",
     "text": [
      "gr_112    grd_112   lgr_112   lgrd_112  lr_112    nr_112\r\n",
      "gr_1229   grd_1229  lgr_1229  lgrd_1229 lr_1229   nr_1229\r\n",
      "gr_8032   grd_8032  lgr_8032  lgrd_8032 lr_8032   nr_8032\r\n"
     ]
    }
   ],
   "source": [
    "!ls"
   ]
  },
  {
   "cell_type": "code",
   "execution_count": 36,
   "metadata": {},
   "outputs": [],
   "source": [
    "logs = !ls"
   ]
  },
  {
   "cell_type": "code",
   "execution_count": 37,
   "metadata": {},
   "outputs": [],
   "source": [
    "def extract_metrics_gpu(filename): \n",
    "    f = open(filename, 'r')\n",
    "    lines = f.readlines() \n",
    "    ram_init = None\n",
    "    ram_peak = None\n",
    "    cpu_init = None \n",
    "    cpu_end = None \n",
    "    for line in lines: \n",
    "        if \"=> Average precision\" in line: \n",
    "            accuracy = float(line.split(\" \")[-1])\n",
    "        if \"=> Total training time\" in line: \n",
    "            training_time = float(line.split(\" \")[-2])\n",
    "        if \"RAM BEFORE TRAINING:\" in line: \n",
    "            ram_init = float(line.split(\" \")[-1])\n",
    "        if \"PEAK TRAINING RAM:\" in line: \n",
    "            ram_peak = float(line.split(\" \")[-1])\n",
    "        if \"CPU BEFORE TRAINING:\" in line: \n",
    "            cpu_init = eval(line.split(\":\")[-1])\n",
    "        if \"CPU BEFORE EVALUATION:\" in line: \n",
    "            cpu_end = eval(line.split(\":\")[-1])\n",
    "        if \"GPU BEFORE EVALUATION:\" in line: \n",
    "            gpu_u, gpu_mem = eval(line.split(\":\")[-1])\n",
    "        \n",
    "    cpu_u, cpu_k = (cpu_end[0] - cpu_init[0], cpu_end[1] - cpu_init[1])\n",
    "    return (accuracy * 100, training_time, (ram_peak-ram_init) * 1024, cpu_u + cpu_k, gpu_u, gpu_mem)"
   ]
  },
  {
   "cell_type": "code",
   "execution_count": 51,
   "metadata": {},
   "outputs": [],
   "source": [
    "def calculate_metrics_gpu(files): \n",
    "    metrics = dict()\n",
    "    \n",
    "    for file in files: \n",
    "        method, seed = file.split(\"_\") \n",
    "        if method in metrics: \n",
    "            metrics[method].append(extract_metrics_gpu(file))\n",
    "        else: \n",
    "            metrics[method] = [extract_metrics_gpu(file)] \n",
    "    \n",
    "    return metrics"
   ]
  },
  {
   "cell_type": "code",
   "execution_count": 52,
   "metadata": {},
   "outputs": [],
   "source": [
    "def get_means(metrics): \n",
    "    return {method: [sum(x)/len(x) for x in list(zip(*metrics[method]))] for method in metrics}"
   ]
  },
  {
   "cell_type": "code",
   "execution_count": 53,
   "metadata": {},
   "outputs": [],
   "source": [
    "def get_sds(metrics): \n",
    "    return {method: [np.std(x) for x in list(zip(*metrics[method]))] for method in metrics}"
   ]
  },
  {
   "cell_type": "code",
   "execution_count": 54,
   "metadata": {},
   "outputs": [],
   "source": [
    "ckplus_metrics = calculate_metrics_gpu(logs)\n",
    "ckplus_means = get_means(ckplus_metrics)\n",
    "ckplus_sds = get_sds(ckplus_metrics)"
   ]
  },
  {
   "cell_type": "code",
   "execution_count": 55,
   "metadata": {},
   "outputs": [],
   "source": [
    "df = pd.DataFrame(ckplus_means, index=['Accuracy (%)', \n",
    "                                 'Training time (s)', \n",
    "                                 'RAM Usage (MB)', \n",
    "                                 'CPU Usage (s)', \n",
    "                                 'GPU Usage (%)', \n",
    "                                 'GPU Memory (MB)'])\n",
    "df = df.filter([\"nr\", \"lr\", \"gr\", \"lgr\", \"grd\", \"lgrd\"])"
   ]
  },
  {
   "cell_type": "code",
   "execution_count": 56,
   "metadata": {},
   "outputs": [
    {
     "data": {
      "text/html": [
       "<div>\n",
       "<style scoped>\n",
       "    .dataframe tbody tr th:only-of-type {\n",
       "        vertical-align: middle;\n",
       "    }\n",
       "\n",
       "    .dataframe tbody tr th {\n",
       "        vertical-align: top;\n",
       "    }\n",
       "\n",
       "    .dataframe thead th {\n",
       "        text-align: right;\n",
       "    }\n",
       "</style>\n",
       "<table border=\"1\" class=\"dataframe\">\n",
       "  <thead>\n",
       "    <tr style=\"text-align: right;\">\n",
       "      <th></th>\n",
       "      <th>nr</th>\n",
       "      <th>lr</th>\n",
       "      <th>gr</th>\n",
       "      <th>lgr</th>\n",
       "      <th>grd</th>\n",
       "      <th>lgrd</th>\n",
       "    </tr>\n",
       "  </thead>\n",
       "  <tbody>\n",
       "    <tr>\n",
       "      <th>Accuracy (%)</th>\n",
       "      <td>85.573333</td>\n",
       "      <td>85.446667</td>\n",
       "      <td>81.083333</td>\n",
       "      <td>80.356667</td>\n",
       "      <td>81.436667</td>\n",
       "      <td>84.930000</td>\n",
       "    </tr>\n",
       "    <tr>\n",
       "      <th>Training time (s)</th>\n",
       "      <td>1096.000000</td>\n",
       "      <td>978.933333</td>\n",
       "      <td>1463.133333</td>\n",
       "      <td>1034.700000</td>\n",
       "      <td>1480.900000</td>\n",
       "      <td>1030.866667</td>\n",
       "    </tr>\n",
       "    <tr>\n",
       "      <th>RAM Usage (MB)</th>\n",
       "      <td>22.708333</td>\n",
       "      <td>14.311198</td>\n",
       "      <td>15.330729</td>\n",
       "      <td>15.897135</td>\n",
       "      <td>15.613281</td>\n",
       "      <td>15.520833</td>\n",
       "    </tr>\n",
       "    <tr>\n",
       "      <th>CPU Usage (s)</th>\n",
       "      <td>1206.696667</td>\n",
       "      <td>1082.183333</td>\n",
       "      <td>1557.976667</td>\n",
       "      <td>1127.570000</td>\n",
       "      <td>1576.466667</td>\n",
       "      <td>1123.496667</td>\n",
       "    </tr>\n",
       "    <tr>\n",
       "      <th>GPU Usage (%)</th>\n",
       "      <td>29.228120</td>\n",
       "      <td>20.731327</td>\n",
       "      <td>45.486425</td>\n",
       "      <td>20.978260</td>\n",
       "      <td>44.584223</td>\n",
       "      <td>21.217949</td>\n",
       "    </tr>\n",
       "    <tr>\n",
       "      <th>GPU Memory (MB)</th>\n",
       "      <td>2826.000000</td>\n",
       "      <td>218.666667</td>\n",
       "      <td>4348.000000</td>\n",
       "      <td>14.000000</td>\n",
       "      <td>4348.000000</td>\n",
       "      <td>14.000000</td>\n",
       "    </tr>\n",
       "  </tbody>\n",
       "</table>\n",
       "</div>"
      ],
      "text/plain": [
       "                            nr           lr           gr          lgr  \\\n",
       "Accuracy (%)         85.573333    85.446667    81.083333    80.356667   \n",
       "Training time (s)  1096.000000   978.933333  1463.133333  1034.700000   \n",
       "RAM Usage (MB)       22.708333    14.311198    15.330729    15.897135   \n",
       "CPU Usage (s)      1206.696667  1082.183333  1557.976667  1127.570000   \n",
       "GPU Usage (%)        29.228120    20.731327    45.486425    20.978260   \n",
       "GPU Memory (MB)    2826.000000   218.666667  4348.000000    14.000000   \n",
       "\n",
       "                           grd         lgrd  \n",
       "Accuracy (%)         81.436667    84.930000  \n",
       "Training time (s)  1480.900000  1030.866667  \n",
       "RAM Usage (MB)       15.613281    15.520833  \n",
       "CPU Usage (s)      1576.466667  1123.496667  \n",
       "GPU Usage (%)        44.584223    21.217949  \n",
       "GPU Memory (MB)    4348.000000    14.000000  "
      ]
     },
     "execution_count": 56,
     "metadata": {},
     "output_type": "execute_result"
    }
   ],
   "source": [
    "df"
   ]
  },
  {
   "cell_type": "markdown",
   "metadata": {},
   "source": [
    "# New CK+ Results (new hyperparameters)"
   ]
  },
  {
   "cell_type": "code",
   "execution_count": 65,
   "metadata": {},
   "outputs": [
    {
     "name": "stdout",
     "output_type": "stream",
     "text": [
      "/Users/samuilstoychev/Desktop/research_project_repo/research_project/experiments/ckplus/2021-05-01-15-30\n"
     ]
    }
   ],
   "source": [
    "%cd ~/Desktop/research_project_repo/research_project/experiments/ckplus/2021-05-01-15-30/"
   ]
  },
  {
   "cell_type": "code",
   "execution_count": 66,
   "metadata": {},
   "outputs": [],
   "source": [
    "logs = !ls"
   ]
  },
  {
   "cell_type": "code",
   "execution_count": 67,
   "metadata": {},
   "outputs": [],
   "source": [
    "ckplus_metrics = calculate_metrics_gpu(logs)\n",
    "ckplus_means = get_means(ckplus_metrics)\n",
    "ckplus_sds = get_sds(ckplus_metrics)"
   ]
  },
  {
   "cell_type": "code",
   "execution_count": 69,
   "metadata": {},
   "outputs": [],
   "source": [
    "df = pd.DataFrame(ckplus_means, index=['Accuracy (%)', \n",
    "                                 'Training time (s)', \n",
    "                                 'RAM Usage (MB)', \n",
    "                                 'CPU Usage (s)', \n",
    "                                 'GPU Usage (%)', \n",
    "                                 'GPU Memory (MB)'])\n",
    "df = df.filter([\"nr\", \"lr\", \"gr\", \"lgr\", \"grd\", \"lgrd\"])"
   ]
  },
  {
   "cell_type": "code",
   "execution_count": 70,
   "metadata": {},
   "outputs": [
    {
     "data": {
      "text/html": [
       "<div>\n",
       "<style scoped>\n",
       "    .dataframe tbody tr th:only-of-type {\n",
       "        vertical-align: middle;\n",
       "    }\n",
       "\n",
       "    .dataframe tbody tr th {\n",
       "        vertical-align: top;\n",
       "    }\n",
       "\n",
       "    .dataframe thead th {\n",
       "        text-align: right;\n",
       "    }\n",
       "</style>\n",
       "<table border=\"1\" class=\"dataframe\">\n",
       "  <thead>\n",
       "    <tr style=\"text-align: right;\">\n",
       "      <th></th>\n",
       "      <th>nr</th>\n",
       "      <th>lr</th>\n",
       "      <th>gr</th>\n",
       "      <th>lgr</th>\n",
       "      <th>grd</th>\n",
       "      <th>lgrd</th>\n",
       "    </tr>\n",
       "  </thead>\n",
       "  <tbody>\n",
       "    <tr>\n",
       "      <th>Accuracy (%)</th>\n",
       "      <td>85.573333</td>\n",
       "      <td>85.446667</td>\n",
       "      <td>81.083333</td>\n",
       "      <td>80.356667</td>\n",
       "      <td>81.436667</td>\n",
       "      <td>84.930000</td>\n",
       "    </tr>\n",
       "    <tr>\n",
       "      <th>Training time (s)</th>\n",
       "      <td>1096.000000</td>\n",
       "      <td>978.933333</td>\n",
       "      <td>1463.133333</td>\n",
       "      <td>1034.700000</td>\n",
       "      <td>1480.900000</td>\n",
       "      <td>1030.866667</td>\n",
       "    </tr>\n",
       "    <tr>\n",
       "      <th>RAM Usage (MB)</th>\n",
       "      <td>22.708333</td>\n",
       "      <td>14.311198</td>\n",
       "      <td>15.330729</td>\n",
       "      <td>15.897135</td>\n",
       "      <td>15.613281</td>\n",
       "      <td>15.520833</td>\n",
       "    </tr>\n",
       "    <tr>\n",
       "      <th>CPU Usage (s)</th>\n",
       "      <td>1206.696667</td>\n",
       "      <td>1082.183333</td>\n",
       "      <td>1557.976667</td>\n",
       "      <td>1127.570000</td>\n",
       "      <td>1576.466667</td>\n",
       "      <td>1123.496667</td>\n",
       "    </tr>\n",
       "    <tr>\n",
       "      <th>GPU Usage (%)</th>\n",
       "      <td>29.228120</td>\n",
       "      <td>20.731327</td>\n",
       "      <td>45.486425</td>\n",
       "      <td>20.978260</td>\n",
       "      <td>44.584223</td>\n",
       "      <td>21.217949</td>\n",
       "    </tr>\n",
       "    <tr>\n",
       "      <th>GPU Memory (MB)</th>\n",
       "      <td>2826.000000</td>\n",
       "      <td>218.666667</td>\n",
       "      <td>4348.000000</td>\n",
       "      <td>14.000000</td>\n",
       "      <td>4348.000000</td>\n",
       "      <td>14.000000</td>\n",
       "    </tr>\n",
       "  </tbody>\n",
       "</table>\n",
       "</div>"
      ],
      "text/plain": [
       "                            nr           lr           gr          lgr  \\\n",
       "Accuracy (%)         85.573333    85.446667    81.083333    80.356667   \n",
       "Training time (s)  1096.000000   978.933333  1463.133333  1034.700000   \n",
       "RAM Usage (MB)       22.708333    14.311198    15.330729    15.897135   \n",
       "CPU Usage (s)      1206.696667  1082.183333  1557.976667  1127.570000   \n",
       "GPU Usage (%)        29.228120    20.731327    45.486425    20.978260   \n",
       "GPU Memory (MB)    2826.000000   218.666667  4348.000000    14.000000   \n",
       "\n",
       "                           grd         lgrd  \n",
       "Accuracy (%)         81.436667    84.930000  \n",
       "Training time (s)  1480.900000  1030.866667  \n",
       "RAM Usage (MB)       15.613281    15.520833  \n",
       "CPU Usage (s)      1576.466667  1123.496667  \n",
       "GPU Usage (%)        44.584223    21.217949  \n",
       "GPU Memory (MB)    4348.000000    14.000000  "
      ]
     },
     "execution_count": 70,
     "metadata": {},
     "output_type": "execute_result"
    }
   ],
   "source": [
    "df"
   ]
  },
  {
   "cell_type": "markdown",
   "metadata": {},
   "source": [
    "# Class-IL Results"
   ]
  },
  {
   "cell_type": "code",
   "execution_count": 17,
   "metadata": {},
   "outputs": [
    {
     "name": "stdout",
     "output_type": "stream",
     "text": [
      "/Users/samuilstoychev/Desktop/research_project_repo/research_project/experiments/ckplus_class/2021-05-10-02-00\n"
     ]
    }
   ],
   "source": [
    "%cd ~/Desktop/research_project_repo/research_project/experiments/ckplus_class/2021-05-10-02-00/"
   ]
  },
  {
   "cell_type": "code",
   "execution_count": 18,
   "metadata": {},
   "outputs": [
    {
     "name": "stdout",
     "output_type": "stream",
     "text": [
      "gr_3312   grd_3312  lgr_3312  lgrd_3312 lr_3312   nr_3312\r\n",
      "gr_7711   grd_7711  lgr_7711  lgrd_7711 lr_7711   nr_7711\r\n",
      "gr_7888   grd_7888  lgr_7888  lgrd_7888 lr_7888   nr_7888\r\n"
     ]
    }
   ],
   "source": [
    "!ls"
   ]
  },
  {
   "cell_type": "code",
   "execution_count": 19,
   "metadata": {},
   "outputs": [],
   "source": [
    "logs = !ls"
   ]
  },
  {
   "cell_type": "code",
   "execution_count": 20,
   "metadata": {},
   "outputs": [],
   "source": [
    "ckplus_metrics = calculate_metrics_gpu(logs)\n",
    "ckplus_means = get_means(ckplus_metrics)\n",
    "ckplus_sds = get_sds(ckplus_metrics)"
   ]
  },
  {
   "cell_type": "code",
   "execution_count": 21,
   "metadata": {},
   "outputs": [],
   "source": [
    "df = pd.DataFrame(ckplus_means, index=['Accuracy (%)', \n",
    "                                 'Training time (s)', \n",
    "                                 'RAM Usage (MB)', \n",
    "                                 'CPU Usage (s)', \n",
    "                                 'GPU Usage (%)', \n",
    "                                 'GPU Memory (MB)'])\n",
    "df = df.filter([\"nr\", \"lr\", \"gr\", \"lgr\", \"grd\", \"lgrd\"])"
   ]
  },
  {
   "cell_type": "code",
   "execution_count": 22,
   "metadata": {},
   "outputs": [
    {
     "data": {
      "text/html": [
       "<div>\n",
       "<style scoped>\n",
       "    .dataframe tbody tr th:only-of-type {\n",
       "        vertical-align: middle;\n",
       "    }\n",
       "\n",
       "    .dataframe tbody tr th {\n",
       "        vertical-align: top;\n",
       "    }\n",
       "\n",
       "    .dataframe thead th {\n",
       "        text-align: right;\n",
       "    }\n",
       "</style>\n",
       "<table border=\"1\" class=\"dataframe\">\n",
       "  <thead>\n",
       "    <tr style=\"text-align: right;\">\n",
       "      <th></th>\n",
       "      <th>nr</th>\n",
       "      <th>lr</th>\n",
       "      <th>gr</th>\n",
       "      <th>lgr</th>\n",
       "      <th>grd</th>\n",
       "      <th>lgrd</th>\n",
       "    </tr>\n",
       "  </thead>\n",
       "  <tbody>\n",
       "    <tr>\n",
       "      <th>Accuracy (%)</th>\n",
       "      <td>55.463333</td>\n",
       "      <td>54.706667</td>\n",
       "      <td>12.500000</td>\n",
       "      <td>36.530000</td>\n",
       "      <td>12.543333</td>\n",
       "      <td>38.240000</td>\n",
       "    </tr>\n",
       "    <tr>\n",
       "      <th>Training time (s)</th>\n",
       "      <td>4527.433333</td>\n",
       "      <td>3985.466667</td>\n",
       "      <td>5635.666667</td>\n",
       "      <td>4252.866667</td>\n",
       "      <td>5642.066667</td>\n",
       "      <td>4272.433333</td>\n",
       "    </tr>\n",
       "    <tr>\n",
       "      <th>RAM Usage (MB)</th>\n",
       "      <td>13.972656</td>\n",
       "      <td>14.075521</td>\n",
       "      <td>15.541667</td>\n",
       "      <td>15.821615</td>\n",
       "      <td>15.529948</td>\n",
       "      <td>16.045573</td>\n",
       "    </tr>\n",
       "    <tr>\n",
       "      <th>CPU Usage (s)</th>\n",
       "      <td>4844.996667</td>\n",
       "      <td>4301.950000</td>\n",
       "      <td>5951.446667</td>\n",
       "      <td>4550.973333</td>\n",
       "      <td>5951.033333</td>\n",
       "      <td>4576.586667</td>\n",
       "    </tr>\n",
       "    <tr>\n",
       "      <th>GPU Usage (%)</th>\n",
       "      <td>23.936548</td>\n",
       "      <td>14.993520</td>\n",
       "      <td>38.971825</td>\n",
       "      <td>15.947930</td>\n",
       "      <td>38.677608</td>\n",
       "      <td>15.840392</td>\n",
       "    </tr>\n",
       "    <tr>\n",
       "      <th>GPU Memory (MB)</th>\n",
       "      <td>2818.000000</td>\n",
       "      <td>312.666667</td>\n",
       "      <td>4348.000000</td>\n",
       "      <td>26.000000</td>\n",
       "      <td>4348.000000</td>\n",
       "      <td>26.000000</td>\n",
       "    </tr>\n",
       "  </tbody>\n",
       "</table>\n",
       "</div>"
      ],
      "text/plain": [
       "                            nr           lr           gr          lgr  \\\n",
       "Accuracy (%)         55.463333    54.706667    12.500000    36.530000   \n",
       "Training time (s)  4527.433333  3985.466667  5635.666667  4252.866667   \n",
       "RAM Usage (MB)       13.972656    14.075521    15.541667    15.821615   \n",
       "CPU Usage (s)      4844.996667  4301.950000  5951.446667  4550.973333   \n",
       "GPU Usage (%)        23.936548    14.993520    38.971825    15.947930   \n",
       "GPU Memory (MB)    2818.000000   312.666667  4348.000000    26.000000   \n",
       "\n",
       "                           grd         lgrd  \n",
       "Accuracy (%)         12.543333    38.240000  \n",
       "Training time (s)  5642.066667  4272.433333  \n",
       "RAM Usage (MB)       15.529948    16.045573  \n",
       "CPU Usage (s)      5951.033333  4576.586667  \n",
       "GPU Usage (%)        38.677608    15.840392  \n",
       "GPU Memory (MB)    4348.000000    26.000000  "
      ]
     },
     "execution_count": 22,
     "metadata": {},
     "output_type": "execute_result"
    }
   ],
   "source": [
    "df"
   ]
  },
  {
   "cell_type": "markdown",
   "metadata": {},
   "source": [
    "# CK+ + Task-IL (Split ordering)"
   ]
  },
  {
   "cell_type": "code",
   "execution_count": 76,
   "metadata": {},
   "outputs": [],
   "source": [
    "def split_orderings(metrics): \n",
    "    res = {}\n",
    "    for m in ckplus_metrics: \n",
    "        for i in range(3): \n",
    "            res[m + str(i + 1)] = metrics[m][i]\n",
    "    return res"
   ]
  },
  {
   "cell_type": "code",
   "execution_count": 77,
   "metadata": {},
   "outputs": [
    {
     "name": "stdout",
     "output_type": "stream",
     "text": [
      "/Users/samuilstoychev/Desktop/research_project_repo/research_project/experiments/ckplus/2021-05-01-15-30\n"
     ]
    }
   ],
   "source": [
    "%cd ~/Desktop/research_project_repo/research_project/experiments/ckplus/2021-05-01-15-30/"
   ]
  },
  {
   "cell_type": "code",
   "execution_count": 78,
   "metadata": {},
   "outputs": [],
   "source": [
    "logs = !ls"
   ]
  },
  {
   "cell_type": "code",
   "execution_count": 79,
   "metadata": {},
   "outputs": [],
   "source": [
    "ckplus_metrics = calculate_metrics_gpu(logs)\n",
    "ckplus_split_metrics = split_orderings(ckplus_metrics)"
   ]
  },
  {
   "cell_type": "code",
   "execution_count": 80,
   "metadata": {},
   "outputs": [],
   "source": [
    "df = pd.DataFrame(ckplus_split_metrics, index=['Accuracy (%)', \n",
    "                                 'Training time (s)', \n",
    "                                 'RAM Usage (MB)', \n",
    "                                 'CPU Usage (s)', \n",
    "                                 'GPU Usage (%)', \n",
    "                                 'GPU Memory (MB)'])\n",
    "# df = df.filter([\"nr\", \"lr\", \"gr\", \"lgr\", \"grd\", \"lgrd\"])"
   ]
  },
  {
   "cell_type": "code",
   "execution_count": 81,
   "metadata": {},
   "outputs": [
    {
     "data": {
      "text/html": [
       "<div>\n",
       "<style scoped>\n",
       "    .dataframe tbody tr th:only-of-type {\n",
       "        vertical-align: middle;\n",
       "    }\n",
       "\n",
       "    .dataframe tbody tr th {\n",
       "        vertical-align: top;\n",
       "    }\n",
       "\n",
       "    .dataframe thead th {\n",
       "        text-align: right;\n",
       "    }\n",
       "</style>\n",
       "<table border=\"1\" class=\"dataframe\">\n",
       "  <thead>\n",
       "    <tr style=\"text-align: right;\">\n",
       "      <th></th>\n",
       "      <th>gr1</th>\n",
       "      <th>gr2</th>\n",
       "      <th>gr3</th>\n",
       "      <th>grd1</th>\n",
       "      <th>grd2</th>\n",
       "      <th>grd3</th>\n",
       "      <th>lgr1</th>\n",
       "      <th>lgr2</th>\n",
       "      <th>lgr3</th>\n",
       "      <th>lgrd1</th>\n",
       "      <th>lgrd2</th>\n",
       "      <th>lgrd3</th>\n",
       "      <th>lr1</th>\n",
       "      <th>lr2</th>\n",
       "      <th>lr3</th>\n",
       "      <th>nr1</th>\n",
       "      <th>nr2</th>\n",
       "      <th>nr3</th>\n",
       "    </tr>\n",
       "  </thead>\n",
       "  <tbody>\n",
       "    <tr>\n",
       "      <th>Accuracy (%)</th>\n",
       "      <td>80.080000</td>\n",
       "      <td>79.190000</td>\n",
       "      <td>83.980000</td>\n",
       "      <td>80.220000</td>\n",
       "      <td>82.580000</td>\n",
       "      <td>81.510000</td>\n",
       "      <td>81.050000</td>\n",
       "      <td>79.030000</td>\n",
       "      <td>80.990000</td>\n",
       "      <td>85.170000</td>\n",
       "      <td>85.900000</td>\n",
       "      <td>83.720000</td>\n",
       "      <td>81.950000</td>\n",
       "      <td>86.650000</td>\n",
       "      <td>87.740000</td>\n",
       "      <td>81.630000</td>\n",
       "      <td>87.750000</td>\n",
       "      <td>87.340000</td>\n",
       "    </tr>\n",
       "    <tr>\n",
       "      <th>Training time (s)</th>\n",
       "      <td>1458.200000</td>\n",
       "      <td>1455.800000</td>\n",
       "      <td>1475.400000</td>\n",
       "      <td>1482.800000</td>\n",
       "      <td>1492.400000</td>\n",
       "      <td>1467.500000</td>\n",
       "      <td>1041.800000</td>\n",
       "      <td>1029.500000</td>\n",
       "      <td>1032.800000</td>\n",
       "      <td>1031.500000</td>\n",
       "      <td>1031.000000</td>\n",
       "      <td>1030.100000</td>\n",
       "      <td>973.300000</td>\n",
       "      <td>984.400000</td>\n",
       "      <td>979.100000</td>\n",
       "      <td>1103.700000</td>\n",
       "      <td>1088.400000</td>\n",
       "      <td>1095.900000</td>\n",
       "    </tr>\n",
       "    <tr>\n",
       "      <th>RAM Usage (MB)</th>\n",
       "      <td>15.484375</td>\n",
       "      <td>14.949219</td>\n",
       "      <td>15.558594</td>\n",
       "      <td>15.492188</td>\n",
       "      <td>15.757812</td>\n",
       "      <td>15.589844</td>\n",
       "      <td>15.164062</td>\n",
       "      <td>16.484375</td>\n",
       "      <td>16.042969</td>\n",
       "      <td>15.265625</td>\n",
       "      <td>15.492188</td>\n",
       "      <td>15.804688</td>\n",
       "      <td>15.343750</td>\n",
       "      <td>13.574219</td>\n",
       "      <td>14.015625</td>\n",
       "      <td>28.175781</td>\n",
       "      <td>25.660156</td>\n",
       "      <td>14.289062</td>\n",
       "    </tr>\n",
       "    <tr>\n",
       "      <th>CPU Usage (s)</th>\n",
       "      <td>1548.650000</td>\n",
       "      <td>1559.830000</td>\n",
       "      <td>1565.450000</td>\n",
       "      <td>1593.460000</td>\n",
       "      <td>1562.810000</td>\n",
       "      <td>1573.130000</td>\n",
       "      <td>1122.050000</td>\n",
       "      <td>1125.600000</td>\n",
       "      <td>1135.060000</td>\n",
       "      <td>1122.760000</td>\n",
       "      <td>1125.800000</td>\n",
       "      <td>1121.930000</td>\n",
       "      <td>1085.900000</td>\n",
       "      <td>1068.450000</td>\n",
       "      <td>1092.200000</td>\n",
       "      <td>1213.100000</td>\n",
       "      <td>1189.770000</td>\n",
       "      <td>1217.220000</td>\n",
       "    </tr>\n",
       "    <tr>\n",
       "      <th>GPU Usage (%)</th>\n",
       "      <td>45.301370</td>\n",
       "      <td>45.684932</td>\n",
       "      <td>45.472973</td>\n",
       "      <td>44.818792</td>\n",
       "      <td>43.906667</td>\n",
       "      <td>45.027211</td>\n",
       "      <td>20.685714</td>\n",
       "      <td>21.902913</td>\n",
       "      <td>20.346154</td>\n",
       "      <td>21.048077</td>\n",
       "      <td>21.250000</td>\n",
       "      <td>21.355769</td>\n",
       "      <td>20.714286</td>\n",
       "      <td>20.989899</td>\n",
       "      <td>20.489796</td>\n",
       "      <td>29.234234</td>\n",
       "      <td>29.513761</td>\n",
       "      <td>28.936364</td>\n",
       "    </tr>\n",
       "    <tr>\n",
       "      <th>GPU Memory (MB)</th>\n",
       "      <td>4348.000000</td>\n",
       "      <td>4348.000000</td>\n",
       "      <td>4348.000000</td>\n",
       "      <td>4348.000000</td>\n",
       "      <td>4348.000000</td>\n",
       "      <td>4348.000000</td>\n",
       "      <td>14.000000</td>\n",
       "      <td>14.000000</td>\n",
       "      <td>14.000000</td>\n",
       "      <td>14.000000</td>\n",
       "      <td>14.000000</td>\n",
       "      <td>14.000000</td>\n",
       "      <td>222.000000</td>\n",
       "      <td>220.000000</td>\n",
       "      <td>214.000000</td>\n",
       "      <td>2826.000000</td>\n",
       "      <td>2826.000000</td>\n",
       "      <td>2826.000000</td>\n",
       "    </tr>\n",
       "  </tbody>\n",
       "</table>\n",
       "</div>"
      ],
      "text/plain": [
       "                           gr1          gr2          gr3         grd1  \\\n",
       "Accuracy (%)         80.080000    79.190000    83.980000    80.220000   \n",
       "Training time (s)  1458.200000  1455.800000  1475.400000  1482.800000   \n",
       "RAM Usage (MB)       15.484375    14.949219    15.558594    15.492188   \n",
       "CPU Usage (s)      1548.650000  1559.830000  1565.450000  1593.460000   \n",
       "GPU Usage (%)        45.301370    45.684932    45.472973    44.818792   \n",
       "GPU Memory (MB)    4348.000000  4348.000000  4348.000000  4348.000000   \n",
       "\n",
       "                          grd2         grd3         lgr1         lgr2  \\\n",
       "Accuracy (%)         82.580000    81.510000    81.050000    79.030000   \n",
       "Training time (s)  1492.400000  1467.500000  1041.800000  1029.500000   \n",
       "RAM Usage (MB)       15.757812    15.589844    15.164062    16.484375   \n",
       "CPU Usage (s)      1562.810000  1573.130000  1122.050000  1125.600000   \n",
       "GPU Usage (%)        43.906667    45.027211    20.685714    21.902913   \n",
       "GPU Memory (MB)    4348.000000  4348.000000    14.000000    14.000000   \n",
       "\n",
       "                          lgr3        lgrd1        lgrd2        lgrd3  \\\n",
       "Accuracy (%)         80.990000    85.170000    85.900000    83.720000   \n",
       "Training time (s)  1032.800000  1031.500000  1031.000000  1030.100000   \n",
       "RAM Usage (MB)       16.042969    15.265625    15.492188    15.804688   \n",
       "CPU Usage (s)      1135.060000  1122.760000  1125.800000  1121.930000   \n",
       "GPU Usage (%)        20.346154    21.048077    21.250000    21.355769   \n",
       "GPU Memory (MB)      14.000000    14.000000    14.000000    14.000000   \n",
       "\n",
       "                           lr1          lr2          lr3          nr1  \\\n",
       "Accuracy (%)         81.950000    86.650000    87.740000    81.630000   \n",
       "Training time (s)   973.300000   984.400000   979.100000  1103.700000   \n",
       "RAM Usage (MB)       15.343750    13.574219    14.015625    28.175781   \n",
       "CPU Usage (s)      1085.900000  1068.450000  1092.200000  1213.100000   \n",
       "GPU Usage (%)        20.714286    20.989899    20.489796    29.234234   \n",
       "GPU Memory (MB)     222.000000   220.000000   214.000000  2826.000000   \n",
       "\n",
       "                           nr2          nr3  \n",
       "Accuracy (%)         87.750000    87.340000  \n",
       "Training time (s)  1088.400000  1095.900000  \n",
       "RAM Usage (MB)       25.660156    14.289062  \n",
       "CPU Usage (s)      1189.770000  1217.220000  \n",
       "GPU Usage (%)        29.513761    28.936364  \n",
       "GPU Memory (MB)    2826.000000  2826.000000  "
      ]
     },
     "execution_count": 81,
     "metadata": {},
     "output_type": "execute_result"
    }
   ],
   "source": [
    "df"
   ]
  },
  {
   "cell_type": "code",
   "execution_count": null,
   "metadata": {},
   "outputs": [],
   "source": []
  }
 ],
 "metadata": {
  "kernelspec": {
   "display_name": "Python 3",
   "language": "python",
   "name": "python3"
  },
  "language_info": {
   "codemirror_mode": {
    "name": "ipython",
    "version": 3
   },
   "file_extension": ".py",
   "mimetype": "text/x-python",
   "name": "python",
   "nbconvert_exporter": "python",
   "pygments_lexer": "ipython3",
   "version": "3.7.9"
  }
 },
 "nbformat": 4,
 "nbformat_minor": 2
}
