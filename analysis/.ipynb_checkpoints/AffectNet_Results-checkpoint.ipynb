{
 "cells": [
  {
   "cell_type": "code",
   "execution_count": 1,
   "metadata": {},
   "outputs": [],
   "source": [
    "import matplotlib.pyplot as plt\n",
    "import numpy as np\n",
    "import pandas as pd"
   ]
  },
  {
   "cell_type": "code",
   "execution_count": 2,
   "metadata": {},
   "outputs": [],
   "source": [
    "def extract_metrics_gpu(filename): \n",
    "    f = open(filename, 'r')\n",
    "    lines = f.readlines() \n",
    "    ram_init = None\n",
    "    ram_peak = None\n",
    "    cpu_init = None \n",
    "    cpu_end = None \n",
    "    for line in lines: \n",
    "        if \"=> Average precision\" in line: \n",
    "            accuracy = float(line.split(\" \")[-1])\n",
    "        if \"=> Total training time\" in line: \n",
    "            training_time = float(line.split(\" \")[-2])\n",
    "        if \"RAM BEFORE TRAINING:\" in line: \n",
    "            ram_init = float(line.split(\" \")[-1])\n",
    "        if \"PEAK TRAINING RAM:\" in line: \n",
    "            ram_peak = float(line.split(\" \")[-1])\n",
    "        if \"CPU BEFORE TRAINING:\" in line: \n",
    "            cpu_init = eval(line.split(\":\")[-1])\n",
    "        if \"CPU BEFORE EVALUATION:\" in line: \n",
    "            cpu_end = eval(line.split(\":\")[-1])\n",
    "        if \"GPU BEFORE EVALUATION:\" in line: \n",
    "            gpu_u, gpu_mem = eval(line.split(\":\")[-1])\n",
    "        \n",
    "    cpu_u, cpu_k = (cpu_end[0] - cpu_init[0], cpu_end[1] - cpu_init[1])\n",
    "    return (accuracy * 100, training_time, (ram_peak-ram_init) * 1024, cpu_u + cpu_k, gpu_u, gpu_mem)"
   ]
  },
  {
   "cell_type": "code",
   "execution_count": 3,
   "metadata": {},
   "outputs": [],
   "source": [
    "def calculate_metrics_gpu(files): \n",
    "    metrics = dict()\n",
    "    \n",
    "    for file in files: \n",
    "        method, seed = file.split(\"_\") \n",
    "        \n",
    "        if method in metrics: \n",
    "            metrics[method].append(extract_metrics_gpu(file))\n",
    "        else: \n",
    "            metrics[method] = [extract_metrics_gpu(file)] \n",
    "    \n",
    "    return metrics"
   ]
  },
  {
   "cell_type": "code",
   "execution_count": 4,
   "metadata": {},
   "outputs": [],
   "source": [
    "def get_means(metrics): \n",
    "    return {method: [sum(x)/len(x) for x in list(zip(*metrics[method]))] for method in metrics}"
   ]
  },
  {
   "cell_type": "code",
   "execution_count": 5,
   "metadata": {},
   "outputs": [],
   "source": [
    "def get_sds(metrics): \n",
    "    return {method: [np.std(x) for x in list(zip(*metrics[method]))] for method in metrics}"
   ]
  },
  {
   "cell_type": "markdown",
   "metadata": {},
   "source": [
    "# AffectNet Results (semi-balanced dataset)"
   ]
  },
  {
   "cell_type": "code",
   "execution_count": 6,
   "metadata": {},
   "outputs": [
    {
     "name": "stdout",
     "output_type": "stream",
     "text": [
      "/Users/samuilstoychev/Desktop/research_project_repo/research_project/experiments/affectnet/2021-05-04-00-14\n"
     ]
    }
   ],
   "source": [
    "%cd ~/Desktop/research_project_repo/research_project/experiments/affectnet/2021-05-04-00-14/"
   ]
  },
  {
   "cell_type": "code",
   "execution_count": 7,
   "metadata": {},
   "outputs": [
    {
     "name": "stdout",
     "output_type": "stream",
     "text": [
      "gr_114    grd_114   lgr_114   lgrd_114  lr_114    nr_114\r\n",
      "gr_2474   grd_2474  lgr_2474  lgrd_2474 lr_2474   nr_2474\r\n",
      "gr_8750   grd_8750  lgr_8750  lgrd_8750 lr_8750   nr_8750\r\n"
     ]
    }
   ],
   "source": [
    "!ls"
   ]
  },
  {
   "cell_type": "code",
   "execution_count": 8,
   "metadata": {},
   "outputs": [],
   "source": [
    "logs = !ls"
   ]
  },
  {
   "cell_type": "code",
   "execution_count": 9,
   "metadata": {},
   "outputs": [],
   "source": [
    "affectnet_metrics = calculate_metrics_gpu(logs)\n",
    "affectnet_means = get_means(affectnet_metrics)\n",
    "affectnet_sds = get_sds(affectnet_metrics)"
   ]
  },
  {
   "cell_type": "code",
   "execution_count": 16,
   "metadata": {},
   "outputs": [],
   "source": [
    "df = pd.DataFrame(affectnet_means, index=['Accuracy (%)', \n",
    "                                 'Training time (s)', \n",
    "                                 'RAM Usage (MB)', \n",
    "                                 'CPU Usage (s)', \n",
    "                                 'GPU Usage (%)', \n",
    "                                 'GPU Memory (MB)'])\n",
    "df = df.filter([\"nr\", \"lr\", \"gr\", \"lgr\", \"grd\", \"lgrd\"])"
   ]
  },
  {
   "cell_type": "code",
   "execution_count": 17,
   "metadata": {},
   "outputs": [
    {
     "data": {
      "text/html": [
       "<div>\n",
       "<style scoped>\n",
       "    .dataframe tbody tr th:only-of-type {\n",
       "        vertical-align: middle;\n",
       "    }\n",
       "\n",
       "    .dataframe tbody tr th {\n",
       "        vertical-align: top;\n",
       "    }\n",
       "\n",
       "    .dataframe thead th {\n",
       "        text-align: right;\n",
       "    }\n",
       "</style>\n",
       "<table border=\"1\" class=\"dataframe\">\n",
       "  <thead>\n",
       "    <tr style=\"text-align: right;\">\n",
       "      <th></th>\n",
       "      <th>nr</th>\n",
       "      <th>lr</th>\n",
       "      <th>gr</th>\n",
       "      <th>lgr</th>\n",
       "      <th>grd</th>\n",
       "      <th>lgrd</th>\n",
       "    </tr>\n",
       "  </thead>\n",
       "  <tbody>\n",
       "    <tr>\n",
       "      <td>Accuracy (%)</td>\n",
       "      <td>63.833333</td>\n",
       "      <td>64.223333</td>\n",
       "      <td>61.850000</td>\n",
       "      <td>59.500000</td>\n",
       "      <td>63.163333</td>\n",
       "      <td>62.926667</td>\n",
       "    </tr>\n",
       "    <tr>\n",
       "      <td>Training time (s)</td>\n",
       "      <td>1473.500000</td>\n",
       "      <td>1391.866667</td>\n",
       "      <td>1869.500000</td>\n",
       "      <td>1437.466667</td>\n",
       "      <td>1858.633333</td>\n",
       "      <td>1435.300000</td>\n",
       "    </tr>\n",
       "    <tr>\n",
       "      <td>RAM Usage (MB)</td>\n",
       "      <td>47.578125</td>\n",
       "      <td>51.973958</td>\n",
       "      <td>46.891927</td>\n",
       "      <td>49.118490</td>\n",
       "      <td>49.386719</td>\n",
       "      <td>49.209635</td>\n",
       "    </tr>\n",
       "    <tr>\n",
       "      <td>CPU Usage (s)</td>\n",
       "      <td>1580.716667</td>\n",
       "      <td>1496.606667</td>\n",
       "      <td>1971.743333</td>\n",
       "      <td>1539.490000</td>\n",
       "      <td>1960.496667</td>\n",
       "      <td>1540.766667</td>\n",
       "    </tr>\n",
       "    <tr>\n",
       "      <td>GPU Usage (%)</td>\n",
       "      <td>22.224609</td>\n",
       "      <td>14.343535</td>\n",
       "      <td>36.118594</td>\n",
       "      <td>15.021976</td>\n",
       "      <td>34.902465</td>\n",
       "      <td>15.221319</td>\n",
       "    </tr>\n",
       "    <tr>\n",
       "      <td>GPU Memory (MB)</td>\n",
       "      <td>2826.000000</td>\n",
       "      <td>218.666667</td>\n",
       "      <td>4348.000000</td>\n",
       "      <td>14.000000</td>\n",
       "      <td>4348.000000</td>\n",
       "      <td>14.000000</td>\n",
       "    </tr>\n",
       "  </tbody>\n",
       "</table>\n",
       "</div>"
      ],
      "text/plain": [
       "                            nr           lr           gr          lgr  \\\n",
       "Accuracy (%)         63.833333    64.223333    61.850000    59.500000   \n",
       "Training time (s)  1473.500000  1391.866667  1869.500000  1437.466667   \n",
       "RAM Usage (MB)       47.578125    51.973958    46.891927    49.118490   \n",
       "CPU Usage (s)      1580.716667  1496.606667  1971.743333  1539.490000   \n",
       "GPU Usage (%)        22.224609    14.343535    36.118594    15.021976   \n",
       "GPU Memory (MB)    2826.000000   218.666667  4348.000000    14.000000   \n",
       "\n",
       "                           grd         lgrd  \n",
       "Accuracy (%)         63.163333    62.926667  \n",
       "Training time (s)  1858.633333  1435.300000  \n",
       "RAM Usage (MB)       49.386719    49.209635  \n",
       "CPU Usage (s)      1960.496667  1540.766667  \n",
       "GPU Usage (%)        34.902465    15.221319  \n",
       "GPU Memory (MB)    4348.000000    14.000000  "
      ]
     },
     "execution_count": 17,
     "metadata": {},
     "output_type": "execute_result"
    }
   ],
   "source": [
    "df"
   ]
  },
  {
   "cell_type": "code",
   "execution_count": 21,
   "metadata": {},
   "outputs": [
    {
     "name": "stdout",
     "output_type": "stream",
     "text": [
      "gr_114    grd_114   lgr_114   lgrd_114  lr_114    nr_114\r\n",
      "gr_2474   grd_2474  lgr_2474  lgrd_2474 lr_2474   nr_2474\r\n",
      "gr_8750   grd_8750  lgr_8750  lgrd_8750 lr_8750   nr_8750\r\n"
     ]
    }
   ],
   "source": [
    "!ls"
   ]
  },
  {
   "cell_type": "markdown",
   "metadata": {},
   "source": [
    "## AffectNet Results (fully-balanced dataset)"
   ]
  },
  {
   "cell_type": "code",
   "execution_count": 6,
   "metadata": {},
   "outputs": [
    {
     "name": "stdout",
     "output_type": "stream",
     "text": [
      "/Users/samuilstoychev/Desktop/research_project_repo/research_project/experiments/affectnet/2021-05-04-14-11\n"
     ]
    }
   ],
   "source": [
    "%cd ~/Desktop/research_project_repo/research_project/experiments/affectnet/2021-05-04-14-11/"
   ]
  },
  {
   "cell_type": "code",
   "execution_count": 7,
   "metadata": {},
   "outputs": [
    {
     "name": "stdout",
     "output_type": "stream",
     "text": [
      "gr_1842   grd_1842  lgr_1842  lgrd_1842 lr_1842   nr_1842\r\n",
      "gr_1856   grd_1856  lgr_1856  lgrd_1856 lr_1856   nr_1856\r\n",
      "gr_2306   grd_2306  lgr_2306  lgrd_2306 lr_2306   nr_2306\r\n"
     ]
    }
   ],
   "source": [
    "!ls"
   ]
  },
  {
   "cell_type": "code",
   "execution_count": 8,
   "metadata": {},
   "outputs": [],
   "source": [
    "logs = !ls"
   ]
  },
  {
   "cell_type": "code",
   "execution_count": 9,
   "metadata": {},
   "outputs": [],
   "source": [
    "affectnet_metrics = calculate_metrics_gpu(logs)\n",
    "affectnet_means = get_means(affectnet_metrics)\n",
    "affectnet_sds = get_sds(affectnet_metrics)"
   ]
  },
  {
   "cell_type": "code",
   "execution_count": 10,
   "metadata": {},
   "outputs": [],
   "source": [
    "df = pd.DataFrame(affectnet_means, index=['Accuracy (%)', \n",
    "                                 'Training time (s)', \n",
    "                                 'RAM Usage (MB)', \n",
    "                                 'CPU Usage (s)', \n",
    "                                 'GPU Usage (%)', \n",
    "                                 'GPU Memory (MB)'])\n",
    "df = df.filter([\"nr\", \"lr\", \"gr\", \"lgr\", \"grd\", \"lgrd\"])"
   ]
  },
  {
   "cell_type": "code",
   "execution_count": 11,
   "metadata": {},
   "outputs": [
    {
     "data": {
      "text/html": [
       "<div>\n",
       "<style scoped>\n",
       "    .dataframe tbody tr th:only-of-type {\n",
       "        vertical-align: middle;\n",
       "    }\n",
       "\n",
       "    .dataframe tbody tr th {\n",
       "        vertical-align: top;\n",
       "    }\n",
       "\n",
       "    .dataframe thead th {\n",
       "        text-align: right;\n",
       "    }\n",
       "</style>\n",
       "<table border=\"1\" class=\"dataframe\">\n",
       "  <thead>\n",
       "    <tr style=\"text-align: right;\">\n",
       "      <th></th>\n",
       "      <th>nr</th>\n",
       "      <th>lr</th>\n",
       "      <th>gr</th>\n",
       "      <th>lgr</th>\n",
       "      <th>grd</th>\n",
       "      <th>lgrd</th>\n",
       "    </tr>\n",
       "  </thead>\n",
       "  <tbody>\n",
       "    <tr>\n",
       "      <td>Accuracy (%)</td>\n",
       "      <td>65.350000</td>\n",
       "      <td>65.600000</td>\n",
       "      <td>60.946667</td>\n",
       "      <td>61.203333</td>\n",
       "      <td>65.216667</td>\n",
       "      <td>66.300000</td>\n",
       "    </tr>\n",
       "    <tr>\n",
       "      <td>Training time (s)</td>\n",
       "      <td>1529.966667</td>\n",
       "      <td>1398.333333</td>\n",
       "      <td>1894.700000</td>\n",
       "      <td>1453.233333</td>\n",
       "      <td>1910.466667</td>\n",
       "      <td>1478.700000</td>\n",
       "    </tr>\n",
       "    <tr>\n",
       "      <td>RAM Usage (MB)</td>\n",
       "      <td>41.863281</td>\n",
       "      <td>45.790365</td>\n",
       "      <td>47.989583</td>\n",
       "      <td>45.871094</td>\n",
       "      <td>42.837240</td>\n",
       "      <td>44.787760</td>\n",
       "    </tr>\n",
       "    <tr>\n",
       "      <td>CPU Usage (s)</td>\n",
       "      <td>1632.536667</td>\n",
       "      <td>1500.913333</td>\n",
       "      <td>1996.993333</td>\n",
       "      <td>1555.106667</td>\n",
       "      <td>2011.396667</td>\n",
       "      <td>1580.340000</td>\n",
       "    </tr>\n",
       "    <tr>\n",
       "      <td>GPU Usage (%)</td>\n",
       "      <td>21.466829</td>\n",
       "      <td>14.575475</td>\n",
       "      <td>36.345355</td>\n",
       "      <td>15.599474</td>\n",
       "      <td>35.747473</td>\n",
       "      <td>15.235617</td>\n",
       "    </tr>\n",
       "    <tr>\n",
       "      <td>GPU Memory (MB)</td>\n",
       "      <td>2759.333333</td>\n",
       "      <td>216.000000</td>\n",
       "      <td>4348.000000</td>\n",
       "      <td>14.000000</td>\n",
       "      <td>4348.000000</td>\n",
       "      <td>14.000000</td>\n",
       "    </tr>\n",
       "  </tbody>\n",
       "</table>\n",
       "</div>"
      ],
      "text/plain": [
       "                            nr           lr           gr          lgr  \\\n",
       "Accuracy (%)         65.350000    65.600000    60.946667    61.203333   \n",
       "Training time (s)  1529.966667  1398.333333  1894.700000  1453.233333   \n",
       "RAM Usage (MB)       41.863281    45.790365    47.989583    45.871094   \n",
       "CPU Usage (s)      1632.536667  1500.913333  1996.993333  1555.106667   \n",
       "GPU Usage (%)        21.466829    14.575475    36.345355    15.599474   \n",
       "GPU Memory (MB)    2759.333333   216.000000  4348.000000    14.000000   \n",
       "\n",
       "                           grd         lgrd  \n",
       "Accuracy (%)         65.216667    66.300000  \n",
       "Training time (s)  1910.466667  1478.700000  \n",
       "RAM Usage (MB)       42.837240    44.787760  \n",
       "CPU Usage (s)      2011.396667  1580.340000  \n",
       "GPU Usage (%)        35.747473    15.235617  \n",
       "GPU Memory (MB)    4348.000000    14.000000  "
      ]
     },
     "execution_count": 11,
     "metadata": {},
     "output_type": "execute_result"
    }
   ],
   "source": [
    "df"
   ]
  }
 ],
 "metadata": {
  "kernelspec": {
   "display_name": "Python 3",
   "language": "python",
   "name": "python3"
  },
  "language_info": {
   "codemirror_mode": {
    "name": "ipython",
    "version": 3
   },
   "file_extension": ".py",
   "mimetype": "text/x-python",
   "name": "python",
   "nbconvert_exporter": "python",
   "pygments_lexer": "ipython3",
   "version": "3.7.4"
  }
 },
 "nbformat": 4,
 "nbformat_minor": 2
}
