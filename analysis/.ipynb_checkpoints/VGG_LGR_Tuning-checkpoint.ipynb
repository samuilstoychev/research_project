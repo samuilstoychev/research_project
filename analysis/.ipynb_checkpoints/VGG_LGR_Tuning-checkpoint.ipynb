{
 "cells": [
  {
   "cell_type": "code",
   "execution_count": 1,
   "metadata": {},
   "outputs": [],
   "source": [
    "import matplotlib.pyplot as plt\n",
    "import numpy as np\n",
    "import pandas as pd\n",
    "import seaborn as sns"
   ]
  },
  {
   "cell_type": "code",
   "execution_count": 2,
   "metadata": {},
   "outputs": [
    {
     "name": "stdout",
     "output_type": "stream",
     "text": [
      "/Users/samuilstoychev/Desktop/research_project_repo/research_project/experiments/vgg_lgr_tuning/2021-04-22-16-38\n"
     ]
    }
   ],
   "source": [
    "%cd ../experiments/vgg_lgr_tuning/2021-04-22-16-38"
   ]
  },
  {
   "cell_type": "code",
   "execution_count": 3,
   "metadata": {},
   "outputs": [
    {
     "name": "stdout",
     "output_type": "stream",
     "text": [
      "1000_1600_0 1000_400_1  2000_200_2  3000_1600_0 3000_400_1  500_200_2\r\n",
      "1000_1600_1 1000_400_2  2000_3200_0 3000_1600_1 3000_400_2  500_3200_0\r\n",
      "1000_1600_2 1000_800_0  2000_3200_1 3000_1600_2 3000_800_0  500_3200_1\r\n",
      "1000_200_0  1000_800_1  2000_3200_2 3000_200_0  3000_800_1  500_3200_2\r\n",
      "1000_200_1  1000_800_2  2000_400_0  3000_200_1  3000_800_2  500_400_0\r\n",
      "1000_200_2  2000_1600_0 2000_400_1  3000_200_2  500_1600_0  500_400_1\r\n",
      "1000_3200_0 2000_1600_1 2000_400_2  3000_3200_0 500_1600_1  500_400_2\r\n",
      "1000_3200_1 2000_1600_2 2000_800_0  3000_3200_1 500_1600_2  500_800_0\r\n",
      "1000_3200_2 2000_200_0  2000_800_1  3000_3200_2 500_200_0   500_800_1\r\n",
      "1000_400_0  2000_200_1  2000_800_2  3000_400_0  500_200_1   500_800_2\r\n"
     ]
    }
   ],
   "source": [
    "!ls "
   ]
  },
  {
   "cell_type": "code",
   "execution_count": 4,
   "metadata": {},
   "outputs": [],
   "source": [
    "a = !ls"
   ]
  },
  {
   "cell_type": "code",
   "execution_count": 5,
   "metadata": {},
   "outputs": [],
   "source": [
    "class Metrics: \n",
    "    def __init__(self, logs): \n",
    "        self.logs = logs \n",
    "        self.raw_metrics = self.calculate_metrics(logs)\n",
    "        \n",
    "    def extract_metrics(self, filename): \n",
    "        f = open(filename, 'r')\n",
    "        lines = f.readlines() \n",
    "        gpu_usage = None\n",
    "        gpu_mem = None\n",
    "        for line in lines: \n",
    "            if \"=> Average precision\" in line: \n",
    "                accuracy = float(line.split(\" \")[-1])\n",
    "            if \"=> Total training time\" in line: \n",
    "                training_time = float(line.split(\" \")[-2])\n",
    "            if \"GPU BEFORE EVALUATION:\" in line: \n",
    "                gpu_usage, gpu_mem = eval(line[22:])\n",
    "        return (accuracy, training_time, gpu_usage, gpu_mem)\n",
    "    \n",
    "    def calculate_metrics(self, files): \n",
    "        metrics = dict()\n",
    "\n",
    "        for file in files: \n",
    "            iters, g_fc_uni, _ = file.split(\"_\")\n",
    "            iters = int(iters)\n",
    "            g_fc_uni = int(g_fc_uni)\n",
    "            if (iters, g_fc_uni) in metrics: \n",
    "                metrics[(iters, g_fc_uni)].append(self.extract_metrics(file))\n",
    "            else: \n",
    "                metrics[(iters, g_fc_uni)] = [self.extract_metrics(file)] \n",
    "\n",
    "        return metrics\n",
    "    \n",
    "    def get_metrics_df(self): \n",
    "        rows = []\n",
    "        for key in self.raw_metrics: \n",
    "            vals = self.raw_metrics[key]\n",
    "            rows.append([key[0], key[1]] + [np.mean(x) for x in list(zip(*vals))])\n",
    "        return pd.DataFrame(rows, columns=[\"iters\", \"g_fc_uni\", \"Accuracy\", \"Training time (s)\", \"GPU Usage (%)\", \"GPU Memory (MB)\"])\n",
    "            "
   ]
  },
  {
   "cell_type": "code",
   "execution_count": 6,
   "metadata": {},
   "outputs": [
    {
     "data": {
      "text/html": [
       "<div>\n",
       "<style scoped>\n",
       "    .dataframe tbody tr th:only-of-type {\n",
       "        vertical-align: middle;\n",
       "    }\n",
       "\n",
       "    .dataframe tbody tr th {\n",
       "        vertical-align: top;\n",
       "    }\n",
       "\n",
       "    .dataframe thead th {\n",
       "        text-align: right;\n",
       "    }\n",
       "</style>\n",
       "<table border=\"1\" class=\"dataframe\">\n",
       "  <thead>\n",
       "    <tr style=\"text-align: right;\">\n",
       "      <th></th>\n",
       "      <th>iters</th>\n",
       "      <th>g_fc_uni</th>\n",
       "      <th>Accuracy</th>\n",
       "      <th>Training time (s)</th>\n",
       "      <th>GPU Usage (%)</th>\n",
       "      <th>GPU Memory (MB)</th>\n",
       "    </tr>\n",
       "  </thead>\n",
       "  <tbody>\n",
       "    <tr>\n",
       "      <th>0</th>\n",
       "      <td>1000</td>\n",
       "      <td>1600</td>\n",
       "      <td>0.818733</td>\n",
       "      <td>702.400000</td>\n",
       "      <td>18.402479</td>\n",
       "      <td>354.0</td>\n",
       "    </tr>\n",
       "    <tr>\n",
       "      <th>1</th>\n",
       "      <td>1000</td>\n",
       "      <td>200</td>\n",
       "      <td>0.817067</td>\n",
       "      <td>686.666667</td>\n",
       "      <td>15.830918</td>\n",
       "      <td>14.0</td>\n",
       "    </tr>\n",
       "    <tr>\n",
       "      <th>2</th>\n",
       "      <td>1000</td>\n",
       "      <td>3200</td>\n",
       "      <td>0.845400</td>\n",
       "      <td>727.333333</td>\n",
       "      <td>22.015783</td>\n",
       "      <td>1504.0</td>\n",
       "    </tr>\n",
       "    <tr>\n",
       "      <th>3</th>\n",
       "      <td>1000</td>\n",
       "      <td>400</td>\n",
       "      <td>0.813867</td>\n",
       "      <td>691.500000</td>\n",
       "      <td>16.209090</td>\n",
       "      <td>24.0</td>\n",
       "    </tr>\n",
       "    <tr>\n",
       "      <th>4</th>\n",
       "      <td>1000</td>\n",
       "      <td>800</td>\n",
       "      <td>0.839900</td>\n",
       "      <td>694.500000</td>\n",
       "      <td>16.411297</td>\n",
       "      <td>138.0</td>\n",
       "    </tr>\n",
       "    <tr>\n",
       "      <th>5</th>\n",
       "      <td>2000</td>\n",
       "      <td>1600</td>\n",
       "      <td>0.829333</td>\n",
       "      <td>1412.866667</td>\n",
       "      <td>18.252969</td>\n",
       "      <td>354.0</td>\n",
       "    </tr>\n",
       "    <tr>\n",
       "      <th>6</th>\n",
       "      <td>2000</td>\n",
       "      <td>200</td>\n",
       "      <td>0.803767</td>\n",
       "      <td>1412.033333</td>\n",
       "      <td>15.664671</td>\n",
       "      <td>14.0</td>\n",
       "    </tr>\n",
       "    <tr>\n",
       "      <th>7</th>\n",
       "      <td>2000</td>\n",
       "      <td>3200</td>\n",
       "      <td>0.848467</td>\n",
       "      <td>1454.533333</td>\n",
       "      <td>21.975654</td>\n",
       "      <td>1504.0</td>\n",
       "    </tr>\n",
       "    <tr>\n",
       "      <th>8</th>\n",
       "      <td>2000</td>\n",
       "      <td>400</td>\n",
       "      <td>0.823267</td>\n",
       "      <td>1407.600000</td>\n",
       "      <td>16.228226</td>\n",
       "      <td>24.0</td>\n",
       "    </tr>\n",
       "    <tr>\n",
       "      <th>9</th>\n",
       "      <td>2000</td>\n",
       "      <td>800</td>\n",
       "      <td>0.831500</td>\n",
       "      <td>1385.933333</td>\n",
       "      <td>17.021027</td>\n",
       "      <td>138.0</td>\n",
       "    </tr>\n",
       "    <tr>\n",
       "      <th>10</th>\n",
       "      <td>3000</td>\n",
       "      <td>1600</td>\n",
       "      <td>0.829400</td>\n",
       "      <td>2096.200000</td>\n",
       "      <td>18.374530</td>\n",
       "      <td>354.0</td>\n",
       "    </tr>\n",
       "    <tr>\n",
       "      <th>11</th>\n",
       "      <td>3000</td>\n",
       "      <td>200</td>\n",
       "      <td>0.838433</td>\n",
       "      <td>2073.533333</td>\n",
       "      <td>16.203399</td>\n",
       "      <td>14.0</td>\n",
       "    </tr>\n",
       "    <tr>\n",
       "      <th>12</th>\n",
       "      <td>3000</td>\n",
       "      <td>3200</td>\n",
       "      <td>0.849067</td>\n",
       "      <td>2188.866667</td>\n",
       "      <td>22.057076</td>\n",
       "      <td>1504.0</td>\n",
       "    </tr>\n",
       "    <tr>\n",
       "      <th>13</th>\n",
       "      <td>3000</td>\n",
       "      <td>400</td>\n",
       "      <td>0.837033</td>\n",
       "      <td>2080.000000</td>\n",
       "      <td>16.563742</td>\n",
       "      <td>26.0</td>\n",
       "    </tr>\n",
       "    <tr>\n",
       "      <th>14</th>\n",
       "      <td>3000</td>\n",
       "      <td>800</td>\n",
       "      <td>0.852733</td>\n",
       "      <td>2066.333333</td>\n",
       "      <td>17.067896</td>\n",
       "      <td>138.0</td>\n",
       "    </tr>\n",
       "    <tr>\n",
       "      <th>15</th>\n",
       "      <td>500</td>\n",
       "      <td>1600</td>\n",
       "      <td>0.770100</td>\n",
       "      <td>354.900000</td>\n",
       "      <td>17.925926</td>\n",
       "      <td>354.0</td>\n",
       "    </tr>\n",
       "    <tr>\n",
       "      <th>16</th>\n",
       "      <td>500</td>\n",
       "      <td>200</td>\n",
       "      <td>0.778833</td>\n",
       "      <td>343.666667</td>\n",
       "      <td>15.771289</td>\n",
       "      <td>14.0</td>\n",
       "    </tr>\n",
       "    <tr>\n",
       "      <th>17</th>\n",
       "      <td>500</td>\n",
       "      <td>3200</td>\n",
       "      <td>0.759500</td>\n",
       "      <td>364.133333</td>\n",
       "      <td>21.882883</td>\n",
       "      <td>1504.0</td>\n",
       "    </tr>\n",
       "    <tr>\n",
       "      <th>18</th>\n",
       "      <td>500</td>\n",
       "      <td>400</td>\n",
       "      <td>0.794733</td>\n",
       "      <td>356.566667</td>\n",
       "      <td>15.759259</td>\n",
       "      <td>24.0</td>\n",
       "    </tr>\n",
       "    <tr>\n",
       "      <th>19</th>\n",
       "      <td>500</td>\n",
       "      <td>800</td>\n",
       "      <td>0.820767</td>\n",
       "      <td>350.200000</td>\n",
       "      <td>16.531217</td>\n",
       "      <td>138.0</td>\n",
       "    </tr>\n",
       "  </tbody>\n",
       "</table>\n",
       "</div>"
      ],
      "text/plain": [
       "    iters  g_fc_uni  Accuracy  Training time (s)  GPU Usage (%)  \\\n",
       "0    1000      1600  0.818733         702.400000      18.402479   \n",
       "1    1000       200  0.817067         686.666667      15.830918   \n",
       "2    1000      3200  0.845400         727.333333      22.015783   \n",
       "3    1000       400  0.813867         691.500000      16.209090   \n",
       "4    1000       800  0.839900         694.500000      16.411297   \n",
       "5    2000      1600  0.829333        1412.866667      18.252969   \n",
       "6    2000       200  0.803767        1412.033333      15.664671   \n",
       "7    2000      3200  0.848467        1454.533333      21.975654   \n",
       "8    2000       400  0.823267        1407.600000      16.228226   \n",
       "9    2000       800  0.831500        1385.933333      17.021027   \n",
       "10   3000      1600  0.829400        2096.200000      18.374530   \n",
       "11   3000       200  0.838433        2073.533333      16.203399   \n",
       "12   3000      3200  0.849067        2188.866667      22.057076   \n",
       "13   3000       400  0.837033        2080.000000      16.563742   \n",
       "14   3000       800  0.852733        2066.333333      17.067896   \n",
       "15    500      1600  0.770100         354.900000      17.925926   \n",
       "16    500       200  0.778833         343.666667      15.771289   \n",
       "17    500      3200  0.759500         364.133333      21.882883   \n",
       "18    500       400  0.794733         356.566667      15.759259   \n",
       "19    500       800  0.820767         350.200000      16.531217   \n",
       "\n",
       "    GPU Memory (MB)  \n",
       "0             354.0  \n",
       "1              14.0  \n",
       "2            1504.0  \n",
       "3              24.0  \n",
       "4             138.0  \n",
       "5             354.0  \n",
       "6              14.0  \n",
       "7            1504.0  \n",
       "8              24.0  \n",
       "9             138.0  \n",
       "10            354.0  \n",
       "11             14.0  \n",
       "12           1504.0  \n",
       "13             26.0  \n",
       "14            138.0  \n",
       "15            354.0  \n",
       "16             14.0  \n",
       "17           1504.0  \n",
       "18             24.0  \n",
       "19            138.0  "
      ]
     },
     "execution_count": 6,
     "metadata": {},
     "output_type": "execute_result"
    }
   ],
   "source": [
    "m = Metrics(a)\n",
    "df = m.get_metrics_df()\n",
    "df"
   ]
  },
  {
   "cell_type": "code",
   "execution_count": 7,
   "metadata": {},
   "outputs": [
    {
     "data": {
      "text/plain": [
       "[(0.8195, 685.2, 15.217391304347826, 14),\n",
       " (0.826, 692.7, 16.0, 14),\n",
       " (0.8057, 682.1, 16.27536231884058, 14)]"
      ]
     },
     "execution_count": 7,
     "metadata": {},
     "output_type": "execute_result"
    }
   ],
   "source": [
    "m.raw_metrics[(1000, 200)]"
   ]
  },
  {
   "cell_type": "markdown",
   "metadata": {},
   "source": [
    "# LGR: Accuracy"
   ]
  },
  {
   "cell_type": "code",
   "execution_count": 8,
   "metadata": {
    "scrolled": true
   },
   "outputs": [
    {
     "data": {
      "image/png": "[encoded data removed]",
      "text/plain": [
       "<Figure size 576x360 with 2 Axes>"
      ]
     },
     "metadata": {
      "needs_background": "light"
     },
     "output_type": "display_data"
    }
   ],
   "source": [
    "fig, ax = plt.subplots(figsize=(8, 5))         # Sample figsize in inches\n",
    "sns.heatmap(df.pivot('iters','g_fc_uni','Accuracy'), annot=True, linewidths=.5, ax=ax)\n",
    "\n",
    "# Source for the code below: https://github.com/mwaskom/seaborn/issues/1773\n",
    "b, t = plt.ylim() \n",
    "b += 0.5 \n",
    "t -= 0.5 \n",
    "plt.ylim(b, t) \n",
    "ax.invert_yaxis()\n",
    "\n",
    "plt.show() "
   ]
  },
  {
   "cell_type": "markdown",
   "metadata": {},
   "source": [
    "# LGR: GPU Memory Consumption (MB)"
   ]
  },
  {
   "cell_type": "code",
   "execution_count": 9,
   "metadata": {},
   "outputs": [
    {
     "data": {
      "image/png": "[encoded data removed]",
      "text/plain": [
       "<Figure size 576x360 with 2 Axes>"
      ]
     },
     "metadata": {
      "needs_background": "light"
     },
     "output_type": "display_data"
    }
   ],
   "source": [
    "fig, ax = plt.subplots(figsize=(8, 5))         # Sample figsize in inches\n",
    "sns.heatmap(df.pivot('iters','g_fc_uni','GPU Memory (MB)'), annot=True, linewidths=.5, ax=ax)\n",
    "\n",
    "# Source for the code below: https://github.com/mwaskom/seaborn/issues/1773\n",
    "b, t = plt.ylim() \n",
    "b += 0.5 \n",
    "t -= 0.5 \n",
    "plt.ylim(b, t) \n",
    "ax.invert_yaxis()\n",
    "\n",
    "plt.show() "
   ]
  },
  {
   "cell_type": "markdown",
   "metadata": {},
   "source": [
    "# LGR: Average GPU Usage (%)"
   ]
  },
  {
   "cell_type": "code",
   "execution_count": 10,
   "metadata": {},
   "outputs": [
    {
     "data": {
      "image/png": "[encoded data removed]",
      "text/plain": [
       "<Figure size 576x360 with 2 Axes>"
      ]
     },
     "metadata": {
      "needs_background": "light"
     },
     "output_type": "display_data"
    }
   ],
   "source": [
    "fig, ax = plt.subplots(figsize=(8, 5))         # Sample figsize in inches\n",
    "sns.heatmap(df.pivot('iters','g_fc_uni','GPU Usage (%)'), annot=True, linewidths=.5, ax=ax)\n",
    "\n",
    "# Source for the code below: https://github.com/mwaskom/seaborn/issues/1773\n",
    "b, t = plt.ylim() \n",
    "b += 0.5 \n",
    "t -= 0.5 \n",
    "plt.ylim(b, t) \n",
    "ax.invert_yaxis()\n",
    "\n",
    "plt.show() "
   ]
  },
  {
   "cell_type": "code",
   "execution_count": null,
   "metadata": {},
   "outputs": [],
   "source": [
    "# New Results! Smaller learning rate. "
   ]
  }
 ],
 "metadata": {
  "kernelspec": {
   "display_name": "Python 3",
   "language": "python",
   "name": "python3"
  },
  "language_info": {
   "codemirror_mode": {
    "name": "ipython",
    "version": 3
   },
   "file_extension": ".py",
   "mimetype": "text/x-python",
   "name": "python",
   "nbconvert_exporter": "python",
   "pygments_lexer": "ipython3",
   "version": "3.7.4"
  }
 },
 "nbformat": 4,
 "nbformat_minor": 2
}
