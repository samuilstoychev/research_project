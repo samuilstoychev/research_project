{
 "cells": [
  {
   "cell_type": "code",
   "execution_count": 1,
   "metadata": {},
   "outputs": [],
   "source": [
    "import matplotlib.pyplot as plt\n",
    "import numpy as np\n",
    "import pandas as pd\n",
    "import seaborn as sns"
   ]
  },
  {
   "cell_type": "code",
   "execution_count": 2,
   "metadata": {},
   "outputs": [],
   "source": [
    "import matplotlib\n",
    "font = {'size' : 16}\n",
    "\n",
    "matplotlib.rc('font', **font)\n",
    "\n",
    "matplotlib.rcParams['mathtext.fontset'] = 'stix'\n",
    "matplotlib.rcParams['font.family'] = 'STIXGeneral'"
   ]
  },
  {
   "cell_type": "code",
   "execution_count": 4,
   "metadata": {},
   "outputs": [],
   "source": [
    "class Metrics: \n",
    "    def __init__(self, logs): \n",
    "        self.logs = logs \n",
    "        self.raw_metrics = self.calculate_metrics(logs)\n",
    "        \n",
    "    def extract_metrics(self, filename): \n",
    "        f = open(filename, 'r')\n",
    "        lines = f.readlines() \n",
    "        gpu_usage = None\n",
    "        gpu_mem = None\n",
    "        for line in lines: \n",
    "            if \"=> Average precision\" in line: \n",
    "                accuracy = float(line.split(\" \")[-1])\n",
    "            if \"=> Total training time\" in line: \n",
    "                training_time = float(line.split(\" \")[-2])\n",
    "            if \"GPU BEFORE EVALUATION:\" in line: \n",
    "                gpu_usage, gpu_mem = eval(line[22:])\n",
    "        return (accuracy, training_time, gpu_usage, gpu_mem)\n",
    "    \n",
    "    def calculate_metrics(self, files): \n",
    "        metrics = dict()\n",
    "\n",
    "        for file in files: \n",
    "            iters, g_fc_uni, _ = file.split(\"_\")\n",
    "            iters = int(iters)\n",
    "            g_fc_uni = int(g_fc_uni)\n",
    "            if (iters, g_fc_uni) in metrics: \n",
    "                metrics[(iters, g_fc_uni)].append(self.extract_metrics(file))\n",
    "            else: \n",
    "                metrics[(iters, g_fc_uni)] = [self.extract_metrics(file)] \n",
    "\n",
    "        return metrics\n",
    "    \n",
    "    def get_metrics_df(self): \n",
    "        rows = []\n",
    "        for key in self.raw_metrics: \n",
    "            vals = self.raw_metrics[key]\n",
    "            rows.append([key[0], key[1]] + [np.mean(x) for x in list(zip(*vals))])\n",
    "        return pd.DataFrame(rows, columns=[\"iters\", \"g_fc_uni\", \"Accuracy\", \"Training time (s)\", \"GPU Usage (%)\", \"GPU Memory (MB)\"])\n",
    "            "
   ]
  },
  {
   "cell_type": "markdown",
   "metadata": {},
   "source": [
    "# LGR Tuning Results"
   ]
  },
  {
   "cell_type": "code",
   "execution_count": 5,
   "metadata": {},
   "outputs": [
    {
     "name": "stdout",
     "output_type": "stream",
     "text": [
      "/Users/samuilstoychev/Desktop/research_project_repo/research_project/experiments/vgg_lgr_tuning/2021-04-29-11-52\n"
     ]
    }
   ],
   "source": [
    "%cd ~/Desktop/research_project_repo/research_project/experiments/vgg_lgr_tuning/2021-04-29-11-52/"
   ]
  },
  {
   "cell_type": "code",
   "execution_count": 6,
   "metadata": {},
   "outputs": [],
   "source": [
    "a = !ls"
   ]
  },
  {
   "cell_type": "code",
   "execution_count": 7,
   "metadata": {},
   "outputs": [
    {
     "data": {
      "text/html": [
       "<div>\n",
       "<style scoped>\n",
       "    .dataframe tbody tr th:only-of-type {\n",
       "        vertical-align: middle;\n",
       "    }\n",
       "\n",
       "    .dataframe tbody tr th {\n",
       "        vertical-align: top;\n",
       "    }\n",
       "\n",
       "    .dataframe thead th {\n",
       "        text-align: right;\n",
       "    }\n",
       "</style>\n",
       "<table border=\"1\" class=\"dataframe\">\n",
       "  <thead>\n",
       "    <tr style=\"text-align: right;\">\n",
       "      <th></th>\n",
       "      <th>iters</th>\n",
       "      <th>g_fc_uni</th>\n",
       "      <th>Accuracy</th>\n",
       "      <th>Training time (s)</th>\n",
       "      <th>GPU Usage (%)</th>\n",
       "      <th>GPU Memory (MB)</th>\n",
       "    </tr>\n",
       "  </thead>\n",
       "  <tbody>\n",
       "    <tr>\n",
       "      <td>0</td>\n",
       "      <td>1000</td>\n",
       "      <td>1600</td>\n",
       "      <td>0.794633</td>\n",
       "      <td>537.666667</td>\n",
       "      <td>23.474299</td>\n",
       "      <td>354.000000</td>\n",
       "    </tr>\n",
       "    <tr>\n",
       "      <td>1</td>\n",
       "      <td>1000</td>\n",
       "      <td>200</td>\n",
       "      <td>0.754300</td>\n",
       "      <td>522.000000</td>\n",
       "      <td>20.179003</td>\n",
       "      <td>14.000000</td>\n",
       "    </tr>\n",
       "    <tr>\n",
       "      <td>2</td>\n",
       "      <td>1000</td>\n",
       "      <td>3200</td>\n",
       "      <td>0.847133</td>\n",
       "      <td>549.433333</td>\n",
       "      <td>27.023369</td>\n",
       "      <td>1504.000000</td>\n",
       "    </tr>\n",
       "    <tr>\n",
       "      <td>3</td>\n",
       "      <td>1000</td>\n",
       "      <td>400</td>\n",
       "      <td>0.804967</td>\n",
       "      <td>524.800000</td>\n",
       "      <td>21.748428</td>\n",
       "      <td>24.000000</td>\n",
       "    </tr>\n",
       "    <tr>\n",
       "      <td>4</td>\n",
       "      <td>1000</td>\n",
       "      <td>800</td>\n",
       "      <td>0.821467</td>\n",
       "      <td>522.533333</td>\n",
       "      <td>21.973149</td>\n",
       "      <td>138.000000</td>\n",
       "    </tr>\n",
       "    <tr>\n",
       "      <td>5</td>\n",
       "      <td>2000</td>\n",
       "      <td>1600</td>\n",
       "      <td>0.841967</td>\n",
       "      <td>1056.533333</td>\n",
       "      <td>24.042605</td>\n",
       "      <td>354.000000</td>\n",
       "    </tr>\n",
       "    <tr>\n",
       "      <td>6</td>\n",
       "      <td>2000</td>\n",
       "      <td>200</td>\n",
       "      <td>0.839133</td>\n",
       "      <td>1033.166667</td>\n",
       "      <td>21.250716</td>\n",
       "      <td>14.000000</td>\n",
       "    </tr>\n",
       "    <tr>\n",
       "      <td>7</td>\n",
       "      <td>2000</td>\n",
       "      <td>3200</td>\n",
       "      <td>0.851767</td>\n",
       "      <td>1114.266667</td>\n",
       "      <td>27.920676</td>\n",
       "      <td>1504.000000</td>\n",
       "    </tr>\n",
       "    <tr>\n",
       "      <td>8</td>\n",
       "      <td>2000</td>\n",
       "      <td>400</td>\n",
       "      <td>0.843533</td>\n",
       "      <td>1043.833333</td>\n",
       "      <td>21.368254</td>\n",
       "      <td>24.000000</td>\n",
       "    </tr>\n",
       "    <tr>\n",
       "      <td>9</td>\n",
       "      <td>2000</td>\n",
       "      <td>800</td>\n",
       "      <td>0.842433</td>\n",
       "      <td>1052.833333</td>\n",
       "      <td>22.003585</td>\n",
       "      <td>138.000000</td>\n",
       "    </tr>\n",
       "    <tr>\n",
       "      <td>10</td>\n",
       "      <td>3000</td>\n",
       "      <td>1600</td>\n",
       "      <td>0.859667</td>\n",
       "      <td>1600.266667</td>\n",
       "      <td>23.788664</td>\n",
       "      <td>354.000000</td>\n",
       "    </tr>\n",
       "    <tr>\n",
       "      <td>11</td>\n",
       "      <td>3000</td>\n",
       "      <td>200</td>\n",
       "      <td>0.839167</td>\n",
       "      <td>1560.500000</td>\n",
       "      <td>21.236148</td>\n",
       "      <td>14.000000</td>\n",
       "    </tr>\n",
       "    <tr>\n",
       "      <td>12</td>\n",
       "      <td>3000</td>\n",
       "      <td>3200</td>\n",
       "      <td>0.878133</td>\n",
       "      <td>1676.366667</td>\n",
       "      <td>27.175073</td>\n",
       "      <td>1504.000000</td>\n",
       "    </tr>\n",
       "    <tr>\n",
       "      <td>13</td>\n",
       "      <td>3000</td>\n",
       "      <td>400</td>\n",
       "      <td>0.846800</td>\n",
       "      <td>1574.133333</td>\n",
       "      <td>21.527404</td>\n",
       "      <td>25.333333</td>\n",
       "    </tr>\n",
       "    <tr>\n",
       "      <td>14</td>\n",
       "      <td>3000</td>\n",
       "      <td>800</td>\n",
       "      <td>0.880767</td>\n",
       "      <td>1575.633333</td>\n",
       "      <td>21.871795</td>\n",
       "      <td>138.000000</td>\n",
       "    </tr>\n",
       "    <tr>\n",
       "      <td>15</td>\n",
       "      <td>500</td>\n",
       "      <td>1600</td>\n",
       "      <td>0.736600</td>\n",
       "      <td>267.533333</td>\n",
       "      <td>22.913580</td>\n",
       "      <td>354.000000</td>\n",
       "    </tr>\n",
       "    <tr>\n",
       "      <td>16</td>\n",
       "      <td>500</td>\n",
       "      <td>200</td>\n",
       "      <td>0.726400</td>\n",
       "      <td>260.700000</td>\n",
       "      <td>21.224122</td>\n",
       "      <td>14.000000</td>\n",
       "    </tr>\n",
       "    <tr>\n",
       "      <td>17</td>\n",
       "      <td>500</td>\n",
       "      <td>3200</td>\n",
       "      <td>0.818533</td>\n",
       "      <td>278.900000</td>\n",
       "      <td>26.802545</td>\n",
       "      <td>1504.000000</td>\n",
       "    </tr>\n",
       "    <tr>\n",
       "      <td>18</td>\n",
       "      <td>500</td>\n",
       "      <td>400</td>\n",
       "      <td>0.726200</td>\n",
       "      <td>263.033333</td>\n",
       "      <td>21.617284</td>\n",
       "      <td>24.000000</td>\n",
       "    </tr>\n",
       "    <tr>\n",
       "      <td>19</td>\n",
       "      <td>500</td>\n",
       "      <td>800</td>\n",
       "      <td>0.765900</td>\n",
       "      <td>263.400000</td>\n",
       "      <td>21.493827</td>\n",
       "      <td>138.000000</td>\n",
       "    </tr>\n",
       "  </tbody>\n",
       "</table>\n",
       "</div>"
      ],
      "text/plain": [
       "    iters  g_fc_uni  Accuracy  Training time (s)  GPU Usage (%)  \\\n",
       "0    1000      1600  0.794633         537.666667      23.474299   \n",
       "1    1000       200  0.754300         522.000000      20.179003   \n",
       "2    1000      3200  0.847133         549.433333      27.023369   \n",
       "3    1000       400  0.804967         524.800000      21.748428   \n",
       "4    1000       800  0.821467         522.533333      21.973149   \n",
       "5    2000      1600  0.841967        1056.533333      24.042605   \n",
       "6    2000       200  0.839133        1033.166667      21.250716   \n",
       "7    2000      3200  0.851767        1114.266667      27.920676   \n",
       "8    2000       400  0.843533        1043.833333      21.368254   \n",
       "9    2000       800  0.842433        1052.833333      22.003585   \n",
       "10   3000      1600  0.859667        1600.266667      23.788664   \n",
       "11   3000       200  0.839167        1560.500000      21.236148   \n",
       "12   3000      3200  0.878133        1676.366667      27.175073   \n",
       "13   3000       400  0.846800        1574.133333      21.527404   \n",
       "14   3000       800  0.880767        1575.633333      21.871795   \n",
       "15    500      1600  0.736600         267.533333      22.913580   \n",
       "16    500       200  0.726400         260.700000      21.224122   \n",
       "17    500      3200  0.818533         278.900000      26.802545   \n",
       "18    500       400  0.726200         263.033333      21.617284   \n",
       "19    500       800  0.765900         263.400000      21.493827   \n",
       "\n",
       "    GPU Memory (MB)  \n",
       "0        354.000000  \n",
       "1         14.000000  \n",
       "2       1504.000000  \n",
       "3         24.000000  \n",
       "4        138.000000  \n",
       "5        354.000000  \n",
       "6         14.000000  \n",
       "7       1504.000000  \n",
       "8         24.000000  \n",
       "9        138.000000  \n",
       "10       354.000000  \n",
       "11        14.000000  \n",
       "12      1504.000000  \n",
       "13        25.333333  \n",
       "14       138.000000  \n",
       "15       354.000000  \n",
       "16        14.000000  \n",
       "17      1504.000000  \n",
       "18        24.000000  \n",
       "19       138.000000  "
      ]
     },
     "execution_count": 7,
     "metadata": {},
     "output_type": "execute_result"
    }
   ],
   "source": [
    "m = Metrics(a)\n",
    "df = m.get_metrics_df()\n",
    "df"
   ]
  },
  {
   "cell_type": "markdown",
   "metadata": {},
   "source": [
    "## Accuracy "
   ]
  },
  {
   "cell_type": "code",
   "execution_count": 8,
   "metadata": {},
   "outputs": [
    {
     "data": {
      "image/png": "[encoded data removed]",
      "text/plain": [
       "<Figure size 432x432 with 2 Axes>"
      ]
     },
     "metadata": {
      "needs_background": "light"
     },
     "output_type": "display_data"
    }
   ],
   "source": [
    "fig, ax = plt.subplots(figsize=(6, 6))         # Sample figsize in inches\n",
    "sns.heatmap(df.pivot('iters','g_fc_uni','Accuracy'), annot=True, linewidths=.5, ax=ax, \n",
    "            cbar_kws={'label': 'Accuracy'}, fmt=\".0%\")\n",
    "\n",
    "# Source for the code below: https://github.com/mwaskom/seaborn/issues/1773\n",
    "b, t = plt.ylim() \n",
    "b += 0.5 \n",
    "t -= 0.5 \n",
    "plt.ylim(b, t) \n",
    "ax.invert_yaxis()\n",
    "\n",
    "plt.xlabel(\"$G_{FC}$\")\n",
    "plt.ylabel(\"Number of iterations\") \n",
    "\n",
    "cbar = ax.collections[0].colorbar\n",
    "cbar.set_ticks([0.75, 0.8, 0.85, 0.90])\n",
    "cbar.set_ticklabels(['75%', '80%', '85%', '90%'])\n",
    "\n",
    "# plt.savefig(\"/Users/samuilstoychev/Desktop/dissertation_figures/lgr_tuning_acc.svg\")"
   ]
  },
  {
   "cell_type": "markdown",
   "metadata": {},
   "source": [
    "## GPU Memory Consumption"
   ]
  },
  {
   "cell_type": "code",
   "execution_count": 9,
   "metadata": {},
   "outputs": [
    {
     "data": {
      "text/plain": [
       "Text(29.625, 0.5, 'Number of iterations')"
      ]
     },
     "execution_count": 9,
     "metadata": {},
     "output_type": "execute_result"
    },
    {
     "data": {
      "image/png": "[encoded data removed]",
      "text/plain": [
       "<Figure size 432x432 with 2 Axes>"
      ]
     },
     "metadata": {
      "needs_background": "light"
     },
     "output_type": "display_data"
    }
   ],
   "source": [
    "fig, ax = plt.subplots(figsize=(6, 6))         # Sample figsize in inches\n",
    "sns.heatmap(df.pivot('iters','g_fc_uni','GPU Memory (MB)'), annot=True, linewidths=.5, ax=ax, \n",
    "            cbar_kws={'label': 'GPU Memory Consumption (MB)'}, fmt='.0f')\n",
    "\n",
    "# Source for the code below: https://github.com/mwaskom/seaborn/issues/1773\n",
    "b, t = plt.ylim() \n",
    "b += 0.5 \n",
    "t -= 0.5 \n",
    "plt.ylim(b, t) \n",
    "ax.invert_yaxis()\n",
    "plt.xlabel(\"$G_{FC}$\")\n",
    "plt.ylabel(\"Number of iterations\") \n",
    "\n",
    "# plt.savefig(\"/Users/samuilstoychev/Desktop/dissertation_figures/lgr_tuning_mem.svg\")"
   ]
  },
  {
   "cell_type": "markdown",
   "metadata": {},
   "source": [
    "## Average GPU Usage (%)"
   ]
  },
  {
   "cell_type": "code",
   "execution_count": 10,
   "metadata": {},
   "outputs": [
    {
     "data": {
      "image/png": "[encoded data removed]",
      "text/plain": [
       "<Figure size 576x360 with 2 Axes>"
      ]
     },
     "metadata": {
      "needs_background": "light"
     },
     "output_type": "display_data"
    }
   ],
   "source": [
    "fig, ax = plt.subplots(figsize=(8, 5))         # Sample figsize in inches\n",
    "sns.heatmap(df.pivot('iters','g_fc_uni','GPU Usage (%)'), annot=True, linewidths=.5, ax=ax)\n",
    "\n",
    "# Source for the code below: https://github.com/mwaskom/seaborn/issues/1773\n",
    "b, t = plt.ylim() \n",
    "b += 0.5 \n",
    "t -= 0.5 \n",
    "plt.ylim(b, t) \n",
    "ax.invert_yaxis()\n",
    "\n",
    "plt.show() "
   ]
  }
 ],
 "metadata": {
  "kernelspec": {
   "display_name": "Python 3",
   "language": "python",
   "name": "python3"
  },
  "language_info": {
   "codemirror_mode": {
    "name": "ipython",
    "version": 3
   },
   "file_extension": ".py",
   "mimetype": "text/x-python",
   "name": "python",
   "nbconvert_exporter": "python",
   "pygments_lexer": "ipython3",
   "version": "3.7.4"
  }
 },
 "nbformat": 4,
 "nbformat_minor": 2
}
