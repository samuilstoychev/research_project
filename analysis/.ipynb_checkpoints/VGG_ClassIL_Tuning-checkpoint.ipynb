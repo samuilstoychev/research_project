{
 "cells": [
  {
   "cell_type": "code",
   "execution_count": 1,
   "metadata": {},
   "outputs": [],
   "source": [
    "import matplotlib.pyplot as plt\n",
    "import numpy as np\n",
    "import pandas as pd\n",
    "import seaborn as sns"
   ]
  },
  {
   "cell_type": "code",
   "execution_count": 2,
   "metadata": {},
   "outputs": [],
   "source": [
    "class Metrics: \n",
    "    def __init__(self, logs, method): \n",
    "        self.logs = logs \n",
    "        self.raw_metrics = self.calculate_metrics(logs)\n",
    "        self.method = method\n",
    "        \n",
    "    def extract_metrics(self, filename): \n",
    "        f = open(filename, 'r')\n",
    "        lines = f.readlines() \n",
    "        gpu_usage = None\n",
    "        gpu_mem = None\n",
    "        for line in lines: \n",
    "            if \"=> Average precision\" in line: \n",
    "                accuracy = float(line.split(\" \")[-1])\n",
    "            if \"=> Total training time\" in line: \n",
    "                training_time = float(line.split(\" \")[-2])\n",
    "            if \"GPU BEFORE EVALUATION:\" in line: \n",
    "                gpu_usage, gpu_mem = eval(line[22:])\n",
    "        return (accuracy, training_time, gpu_usage, gpu_mem)\n",
    "    \n",
    "    def calculate_metrics(self, files): \n",
    "        metrics = dict()\n",
    "\n",
    "        for file in files: \n",
    "            iters, g_fc_uni, _ = file.split(\"_\")\n",
    "            iters = int(iters)\n",
    "            g_fc_uni = int(g_fc_uni)\n",
    "            if (iters, g_fc_uni) in metrics: \n",
    "                metrics[(iters, g_fc_uni)].append(self.extract_metrics(file))\n",
    "            else: \n",
    "                metrics[(iters, g_fc_uni)] = [self.extract_metrics(file)] \n",
    "\n",
    "        return metrics\n",
    "    \n",
    "    def get_metrics_df(self): \n",
    "        rows = []\n",
    "        for key in self.raw_metrics: \n",
    "            vals = self.raw_metrics[key]\n",
    "            rows.append([key[0], key[1]] + [np.mean(x) for x in list(zip(*vals))])\n",
    "        param = \"g_fc_uni\" if self.method == \"generative\" else \"buffer_size\"\n",
    "        return pd.DataFrame(rows, columns=[\"iters\", param, \"Accuracy\", \"Training time (s)\", \"GPU Usage (%)\", \"GPU Memory (MB)\"])\n",
    "            "
   ]
  },
  {
   "cell_type": "markdown",
   "metadata": {},
   "source": [
    "# 1. LGR"
   ]
  },
  {
   "cell_type": "code",
   "execution_count": 3,
   "metadata": {},
   "outputs": [
    {
     "name": "stdout",
     "output_type": "stream",
     "text": [
      "/Users/samuilstoychev/Desktop/research_project_repo/research_project/experiments/vgg_lgr_class_tuning/2021-05-08-03-25\n"
     ]
    }
   ],
   "source": [
    "cd ~/Desktop/research_project_repo/research_project/experiments/vgg_lgr_class_tuning/2021-05-08-03-25"
   ]
  },
  {
   "cell_type": "code",
   "execution_count": 4,
   "metadata": {},
   "outputs": [],
   "source": [
    "logs = !ls"
   ]
  },
  {
   "cell_type": "code",
   "execution_count": 5,
   "metadata": {},
   "outputs": [
    {
     "data": {
      "text/html": [
       "<div>\n",
       "<style scoped>\n",
       "    .dataframe tbody tr th:only-of-type {\n",
       "        vertical-align: middle;\n",
       "    }\n",
       "\n",
       "    .dataframe tbody tr th {\n",
       "        vertical-align: top;\n",
       "    }\n",
       "\n",
       "    .dataframe thead th {\n",
       "        text-align: right;\n",
       "    }\n",
       "</style>\n",
       "<table border=\"1\" class=\"dataframe\">\n",
       "  <thead>\n",
       "    <tr style=\"text-align: right;\">\n",
       "      <th></th>\n",
       "      <th>iters</th>\n",
       "      <th>g_fc_uni</th>\n",
       "      <th>Accuracy</th>\n",
       "      <th>Training time (s)</th>\n",
       "      <th>GPU Usage (%)</th>\n",
       "      <th>GPU Memory (MB)</th>\n",
       "    </tr>\n",
       "  </thead>\n",
       "  <tbody>\n",
       "    <tr>\n",
       "      <td>0</td>\n",
       "      <td>2000</td>\n",
       "      <td>1600</td>\n",
       "      <td>0.4084</td>\n",
       "      <td>2820.0</td>\n",
       "      <td>18.741135</td>\n",
       "      <td>354.0</td>\n",
       "    </tr>\n",
       "    <tr>\n",
       "      <td>1</td>\n",
       "      <td>2000</td>\n",
       "      <td>200</td>\n",
       "      <td>0.3235</td>\n",
       "      <td>2732.2</td>\n",
       "      <td>16.386861</td>\n",
       "      <td>14.0</td>\n",
       "    </tr>\n",
       "    <tr>\n",
       "      <td>2</td>\n",
       "      <td>2000</td>\n",
       "      <td>400</td>\n",
       "      <td>0.3667</td>\n",
       "      <td>2758.5</td>\n",
       "      <td>16.268116</td>\n",
       "      <td>26.0</td>\n",
       "    </tr>\n",
       "    <tr>\n",
       "      <td>3</td>\n",
       "      <td>2000</td>\n",
       "      <td>800</td>\n",
       "      <td>0.3776</td>\n",
       "      <td>2787.6</td>\n",
       "      <td>17.215054</td>\n",
       "      <td>138.0</td>\n",
       "    </tr>\n",
       "    <tr>\n",
       "      <td>4</td>\n",
       "      <td>3000</td>\n",
       "      <td>1600</td>\n",
       "      <td>0.4526</td>\n",
       "      <td>4292.0</td>\n",
       "      <td>18.167442</td>\n",
       "      <td>354.0</td>\n",
       "    </tr>\n",
       "    <tr>\n",
       "      <td>5</td>\n",
       "      <td>3000</td>\n",
       "      <td>200</td>\n",
       "      <td>0.3778</td>\n",
       "      <td>4258.2</td>\n",
       "      <td>15.953052</td>\n",
       "      <td>14.0</td>\n",
       "    </tr>\n",
       "    <tr>\n",
       "      <td>6</td>\n",
       "      <td>3000</td>\n",
       "      <td>400</td>\n",
       "      <td>0.5081</td>\n",
       "      <td>4122.7</td>\n",
       "      <td>16.389831</td>\n",
       "      <td>26.0</td>\n",
       "    </tr>\n",
       "    <tr>\n",
       "      <td>7</td>\n",
       "      <td>3000</td>\n",
       "      <td>800</td>\n",
       "      <td>0.4802</td>\n",
       "      <td>4218.7</td>\n",
       "      <td>17.037915</td>\n",
       "      <td>138.0</td>\n",
       "    </tr>\n",
       "  </tbody>\n",
       "</table>\n",
       "</div>"
      ],
      "text/plain": [
       "   iters  g_fc_uni  Accuracy  Training time (s)  GPU Usage (%)  \\\n",
       "0   2000      1600    0.4084             2820.0      18.741135   \n",
       "1   2000       200    0.3235             2732.2      16.386861   \n",
       "2   2000       400    0.3667             2758.5      16.268116   \n",
       "3   2000       800    0.3776             2787.6      17.215054   \n",
       "4   3000      1600    0.4526             4292.0      18.167442   \n",
       "5   3000       200    0.3778             4258.2      15.953052   \n",
       "6   3000       400    0.5081             4122.7      16.389831   \n",
       "7   3000       800    0.4802             4218.7      17.037915   \n",
       "\n",
       "   GPU Memory (MB)  \n",
       "0            354.0  \n",
       "1             14.0  \n",
       "2             26.0  \n",
       "3            138.0  \n",
       "4            354.0  \n",
       "5             14.0  \n",
       "6             26.0  \n",
       "7            138.0  "
      ]
     },
     "execution_count": 5,
     "metadata": {},
     "output_type": "execute_result"
    }
   ],
   "source": [
    "m = Metrics(logs, \"generative\")\n",
    "df = m.get_metrics_df()\n",
    "df"
   ]
  },
  {
   "cell_type": "markdown",
   "metadata": {},
   "source": [
    "### LGR: Accuracy"
   ]
  },
  {
   "cell_type": "code",
   "execution_count": 6,
   "metadata": {},
   "outputs": [
    {
     "data": {
      "image/png": "[encoded data removed]",
      "text/plain": [
       "<Figure size 576x360 with 2 Axes>"
      ]
     },
     "metadata": {
      "needs_background": "light"
     },
     "output_type": "display_data"
    }
   ],
   "source": [
    "fig, ax = plt.subplots(figsize=(8, 5))         # Sample figsize in inches\n",
    "sns.heatmap(df.pivot('iters','g_fc_uni','Accuracy'), annot=True, linewidths=.5, ax=ax)\n",
    "\n",
    "# Source for the code below: https://github.com/mwaskom/seaborn/issues/1773\n",
    "b, t = plt.ylim() \n",
    "b += 0.5 \n",
    "t -= 0.5 \n",
    "plt.ylim(b, t) \n",
    "ax.invert_yaxis()\n",
    "\n",
    "plt.show() "
   ]
  },
  {
   "cell_type": "markdown",
   "metadata": {},
   "source": [
    "### LGR: GPU Memory Consumption"
   ]
  },
  {
   "cell_type": "code",
   "execution_count": 7,
   "metadata": {},
   "outputs": [
    {
     "data": {
      "image/png": "[encoded data removed]",
      "text/plain": [
       "<Figure size 576x360 with 2 Axes>"
      ]
     },
     "metadata": {
      "needs_background": "light"
     },
     "output_type": "display_data"
    }
   ],
   "source": [
    "fig, ax = plt.subplots(figsize=(8, 5))         # Sample figsize in inches\n",
    "sns.heatmap(df.pivot('iters','g_fc_uni','GPU Memory (MB)'), annot=True, linewidths=.5, ax=ax)\n",
    "\n",
    "# Source for the code below: https://github.com/mwaskom/seaborn/issues/1773\n",
    "b, t = plt.ylim() \n",
    "b += 0.5 \n",
    "t -= 0.5 \n",
    "plt.ylim(b, t) \n",
    "ax.invert_yaxis()\n",
    "\n",
    "plt.show() "
   ]
  },
  {
   "cell_type": "markdown",
   "metadata": {},
   "source": [
    "### LGR: GPU Average Usage (%)"
   ]
  },
  {
   "cell_type": "code",
   "execution_count": 8,
   "metadata": {},
   "outputs": [
    {
     "data": {
      "image/png": "[encoded data removed]",
      "text/plain": [
       "<Figure size 576x360 with 2 Axes>"
      ]
     },
     "metadata": {
      "needs_background": "light"
     },
     "output_type": "display_data"
    }
   ],
   "source": [
    "fig, ax = plt.subplots(figsize=(8, 5))         # Sample figsize in inches\n",
    "sns.heatmap(df.pivot('iters','g_fc_uni','GPU Usage (%)'), annot=True, linewidths=.5, ax=ax)\n",
    "\n",
    "# Source for the code below: https://github.com/mwaskom/seaborn/issues/1773\n",
    "b, t = plt.ylim() \n",
    "b += 0.5 \n",
    "t -= 0.5 \n",
    "plt.ylim(b, t) \n",
    "ax.invert_yaxis()\n",
    "\n",
    "plt.show() "
   ]
  },
  {
   "cell_type": "markdown",
   "metadata": {},
   "source": [
    "# 2. LR"
   ]
  },
  {
   "cell_type": "code",
   "execution_count": 9,
   "metadata": {},
   "outputs": [
    {
     "name": "stdout",
     "output_type": "stream",
     "text": [
      "/Users/samuilstoychev/Desktop/research_project_repo/research_project/experiments/vgg_lr_class_tuning/2021-05-08-14-54\n"
     ]
    }
   ],
   "source": [
    "cd ~/Desktop/research_project_repo/research_project/experiments/vgg_lr_class_tuning/2021-05-08-14-54/"
   ]
  },
  {
   "cell_type": "code",
   "execution_count": 10,
   "metadata": {},
   "outputs": [],
   "source": [
    "logs = !ls"
   ]
  },
  {
   "cell_type": "code",
   "execution_count": 11,
   "metadata": {},
   "outputs": [
    {
     "data": {
      "text/html": [
       "<div>\n",
       "<style scoped>\n",
       "    .dataframe tbody tr th:only-of-type {\n",
       "        vertical-align: middle;\n",
       "    }\n",
       "\n",
       "    .dataframe tbody tr th {\n",
       "        vertical-align: top;\n",
       "    }\n",
       "\n",
       "    .dataframe thead th {\n",
       "        text-align: right;\n",
       "    }\n",
       "</style>\n",
       "<table border=\"1\" class=\"dataframe\">\n",
       "  <thead>\n",
       "    <tr style=\"text-align: right;\">\n",
       "      <th></th>\n",
       "      <th>iters</th>\n",
       "      <th>buffer_size</th>\n",
       "      <th>Accuracy</th>\n",
       "      <th>Training time (s)</th>\n",
       "      <th>GPU Usage (%)</th>\n",
       "      <th>GPU Memory (MB)</th>\n",
       "    </tr>\n",
       "  </thead>\n",
       "  <tbody>\n",
       "    <tr>\n",
       "      <td>0</td>\n",
       "      <td>2000</td>\n",
       "      <td>1000</td>\n",
       "      <td>0.6159</td>\n",
       "      <td>2560.3</td>\n",
       "      <td>15.488281</td>\n",
       "      <td>302.0</td>\n",
       "    </tr>\n",
       "    <tr>\n",
       "      <td>1</td>\n",
       "      <td>2000</td>\n",
       "      <td>1500</td>\n",
       "      <td>0.5593</td>\n",
       "      <td>2591.7</td>\n",
       "      <td>15.461538</td>\n",
       "      <td>454.0</td>\n",
       "    </tr>\n",
       "    <tr>\n",
       "      <td>2</td>\n",
       "      <td>2000</td>\n",
       "      <td>200</td>\n",
       "      <td>0.5487</td>\n",
       "      <td>2561.5</td>\n",
       "      <td>15.817121</td>\n",
       "      <td>72.0</td>\n",
       "    </tr>\n",
       "    <tr>\n",
       "      <td>3</td>\n",
       "      <td>2000</td>\n",
       "      <td>500</td>\n",
       "      <td>0.5550</td>\n",
       "      <td>2593.6</td>\n",
       "      <td>15.523077</td>\n",
       "      <td>162.0</td>\n",
       "    </tr>\n",
       "    <tr>\n",
       "      <td>4</td>\n",
       "      <td>3000</td>\n",
       "      <td>1000</td>\n",
       "      <td>0.6175</td>\n",
       "      <td>3876.4</td>\n",
       "      <td>15.435567</td>\n",
       "      <td>310.0</td>\n",
       "    </tr>\n",
       "    <tr>\n",
       "      <td>5</td>\n",
       "      <td>3000</td>\n",
       "      <td>1500</td>\n",
       "      <td>0.6306</td>\n",
       "      <td>3831.2</td>\n",
       "      <td>15.856771</td>\n",
       "      <td>456.0</td>\n",
       "    </tr>\n",
       "    <tr>\n",
       "      <td>6</td>\n",
       "      <td>3000</td>\n",
       "      <td>200</td>\n",
       "      <td>0.4976</td>\n",
       "      <td>3872.9</td>\n",
       "      <td>15.494845</td>\n",
       "      <td>72.0</td>\n",
       "    </tr>\n",
       "    <tr>\n",
       "      <td>7</td>\n",
       "      <td>3000</td>\n",
       "      <td>500</td>\n",
       "      <td>0.5117</td>\n",
       "      <td>3909.2</td>\n",
       "      <td>15.207161</td>\n",
       "      <td>156.0</td>\n",
       "    </tr>\n",
       "  </tbody>\n",
       "</table>\n",
       "</div>"
      ],
      "text/plain": [
       "   iters  buffer_size  Accuracy  Training time (s)  GPU Usage (%)  \\\n",
       "0   2000         1000    0.6159             2560.3      15.488281   \n",
       "1   2000         1500    0.5593             2591.7      15.461538   \n",
       "2   2000          200    0.5487             2561.5      15.817121   \n",
       "3   2000          500    0.5550             2593.6      15.523077   \n",
       "4   3000         1000    0.6175             3876.4      15.435567   \n",
       "5   3000         1500    0.6306             3831.2      15.856771   \n",
       "6   3000          200    0.4976             3872.9      15.494845   \n",
       "7   3000          500    0.5117             3909.2      15.207161   \n",
       "\n",
       "   GPU Memory (MB)  \n",
       "0            302.0  \n",
       "1            454.0  \n",
       "2             72.0  \n",
       "3            162.0  \n",
       "4            310.0  \n",
       "5            456.0  \n",
       "6             72.0  \n",
       "7            156.0  "
      ]
     },
     "execution_count": 11,
     "metadata": {},
     "output_type": "execute_result"
    }
   ],
   "source": [
    "m = Metrics(logs, \"rehearsal\")\n",
    "df = m.get_metrics_df()\n",
    "df"
   ]
  },
  {
   "cell_type": "markdown",
   "metadata": {},
   "source": [
    "### LR: Accuracy"
   ]
  },
  {
   "cell_type": "code",
   "execution_count": 12,
   "metadata": {},
   "outputs": [
    {
     "data": {
      "image/png": "[encoded data removed]",
      "text/plain": [
       "<Figure size 576x360 with 2 Axes>"
      ]
     },
     "metadata": {
      "needs_background": "light"
     },
     "output_type": "display_data"
    }
   ],
   "source": [
    "fig, ax = plt.subplots(figsize=(8, 5))         # Sample figsize in inches\n",
    "sns.heatmap(df.pivot('iters','buffer_size','Accuracy'), annot=True, linewidths=.5, ax=ax)\n",
    "\n",
    "# Source for the code below: https://github.com/mwaskom/seaborn/issues/1773\n",
    "b, t = plt.ylim() \n",
    "b += 0.5 \n",
    "t -= 0.5 \n",
    "plt.ylim(b, t) \n",
    "ax.invert_yaxis()\n",
    "\n",
    "plt.show() "
   ]
  },
  {
   "cell_type": "markdown",
   "metadata": {},
   "source": [
    "### LR: Memory"
   ]
  },
  {
   "cell_type": "code",
   "execution_count": 13,
   "metadata": {},
   "outputs": [
    {
     "data": {
      "image/png": "[encoded data removed]",
      "text/plain": [
       "<Figure size 576x360 with 2 Axes>"
      ]
     },
     "metadata": {
      "needs_background": "light"
     },
     "output_type": "display_data"
    }
   ],
   "source": [
    "fig, ax = plt.subplots(figsize=(8, 5))         # Sample figsize in inches\n",
    "sns.heatmap(df.pivot('iters','buffer_size','GPU Memory (MB)'), annot=True, linewidths=.5, ax=ax)\n",
    "\n",
    "# Source for the code below: https://github.com/mwaskom/seaborn/issues/1773\n",
    "b, t = plt.ylim() \n",
    "b += 0.5 \n",
    "t -= 0.5 \n",
    "plt.ylim(b, t) \n",
    "ax.invert_yaxis()\n",
    "\n",
    "plt.show() "
   ]
  },
  {
   "cell_type": "markdown",
   "metadata": {},
   "source": [
    "### LR: GPU Usage"
   ]
  },
  {
   "cell_type": "code",
   "execution_count": 14,
   "metadata": {},
   "outputs": [
    {
     "data": {
      "image/png": "[encoded data removed]",
      "text/plain": [
       "<Figure size 576x360 with 2 Axes>"
      ]
     },
     "metadata": {
      "needs_background": "light"
     },
     "output_type": "display_data"
    }
   ],
   "source": [
    "fig, ax = plt.subplots(figsize=(8, 5))         # Sample figsize in inches\n",
    "sns.heatmap(df.pivot('iters','buffer_size','GPU Usage (%)'), annot=True, linewidths=.5, ax=ax)\n",
    "\n",
    "# Source for the code below: https://github.com/mwaskom/seaborn/issues/1773\n",
    "b, t = plt.ylim() \n",
    "b += 0.5 \n",
    "t -= 0.5 \n",
    "plt.ylim(b, t) \n",
    "ax.invert_yaxis()\n",
    "\n",
    "plt.show() "
   ]
  },
  {
   "cell_type": "markdown",
   "metadata": {},
   "source": [
    "# 3. GR"
   ]
  },
  {
   "cell_type": "code",
   "execution_count": 15,
   "metadata": {},
   "outputs": [
    {
     "name": "stdout",
     "output_type": "stream",
     "text": [
      "/Users/samuilstoychev/Desktop/research_project_repo/research_project/experiments/vgg_gr_class_tuning/2021-05-09-02-26\n"
     ]
    }
   ],
   "source": [
    "cd ~/Desktop/research_project_repo/research_project/experiments/vgg_gr_class_tuning/2021-05-09-02-26/"
   ]
  },
  {
   "cell_type": "code",
   "execution_count": 16,
   "metadata": {},
   "outputs": [],
   "source": [
    "logs = !ls"
   ]
  },
  {
   "cell_type": "code",
   "execution_count": 17,
   "metadata": {},
   "outputs": [
    {
     "data": {
      "text/html": [
       "<div>\n",
       "<style scoped>\n",
       "    .dataframe tbody tr th:only-of-type {\n",
       "        vertical-align: middle;\n",
       "    }\n",
       "\n",
       "    .dataframe tbody tr th {\n",
       "        vertical-align: top;\n",
       "    }\n",
       "\n",
       "    .dataframe thead th {\n",
       "        text-align: right;\n",
       "    }\n",
       "</style>\n",
       "<table border=\"1\" class=\"dataframe\">\n",
       "  <thead>\n",
       "    <tr style=\"text-align: right;\">\n",
       "      <th></th>\n",
       "      <th>iters</th>\n",
       "      <th>g_fc_uni</th>\n",
       "      <th>Accuracy</th>\n",
       "      <th>Training time (s)</th>\n",
       "      <th>GPU Usage (%)</th>\n",
       "      <th>GPU Memory (MB)</th>\n",
       "    </tr>\n",
       "  </thead>\n",
       "  <tbody>\n",
       "    <tr>\n",
       "      <td>0</td>\n",
       "      <td>2000</td>\n",
       "      <td>1600</td>\n",
       "      <td>0.1250</td>\n",
       "      <td>3770.1</td>\n",
       "      <td>38.578249</td>\n",
       "      <td>4348.0</td>\n",
       "    </tr>\n",
       "    <tr>\n",
       "      <td>1</td>\n",
       "      <td>2000</td>\n",
       "      <td>3200</td>\n",
       "      <td>0.1250</td>\n",
       "      <td>4178.7</td>\n",
       "      <td>46.354067</td>\n",
       "      <td>8018.0</td>\n",
       "    </tr>\n",
       "    <tr>\n",
       "      <td>2</td>\n",
       "      <td>2000</td>\n",
       "      <td>800</td>\n",
       "      <td>0.1306</td>\n",
       "      <td>3579.6</td>\n",
       "      <td>34.631285</td>\n",
       "      <td>2710.0</td>\n",
       "    </tr>\n",
       "    <tr>\n",
       "      <td>3</td>\n",
       "      <td>3000</td>\n",
       "      <td>1600</td>\n",
       "      <td>0.1250</td>\n",
       "      <td>5680.8</td>\n",
       "      <td>38.021127</td>\n",
       "      <td>4348.0</td>\n",
       "    </tr>\n",
       "    <tr>\n",
       "      <td>4</td>\n",
       "      <td>3000</td>\n",
       "      <td>3200</td>\n",
       "      <td>0.1250</td>\n",
       "      <td>6271.4</td>\n",
       "      <td>45.453822</td>\n",
       "      <td>8018.0</td>\n",
       "    </tr>\n",
       "    <tr>\n",
       "      <td>5</td>\n",
       "      <td>3000</td>\n",
       "      <td>800</td>\n",
       "      <td>0.1250</td>\n",
       "      <td>5299.5</td>\n",
       "      <td>36.415094</td>\n",
       "      <td>2710.0</td>\n",
       "    </tr>\n",
       "  </tbody>\n",
       "</table>\n",
       "</div>"
      ],
      "text/plain": [
       "   iters  g_fc_uni  Accuracy  Training time (s)  GPU Usage (%)  \\\n",
       "0   2000      1600    0.1250             3770.1      38.578249   \n",
       "1   2000      3200    0.1250             4178.7      46.354067   \n",
       "2   2000       800    0.1306             3579.6      34.631285   \n",
       "3   3000      1600    0.1250             5680.8      38.021127   \n",
       "4   3000      3200    0.1250             6271.4      45.453822   \n",
       "5   3000       800    0.1250             5299.5      36.415094   \n",
       "\n",
       "   GPU Memory (MB)  \n",
       "0           4348.0  \n",
       "1           8018.0  \n",
       "2           2710.0  \n",
       "3           4348.0  \n",
       "4           8018.0  \n",
       "5           2710.0  "
      ]
     },
     "execution_count": 17,
     "metadata": {},
     "output_type": "execute_result"
    }
   ],
   "source": [
    "m = Metrics(logs, \"generative\")\n",
    "df = m.get_metrics_df()\n",
    "df"
   ]
  },
  {
   "cell_type": "markdown",
   "metadata": {},
   "source": [
    "### GR: Accuracy"
   ]
  },
  {
   "cell_type": "code",
   "execution_count": 18,
   "metadata": {},
   "outputs": [
    {
     "data": {
      "image/png": "[encoded data removed]",
      "text/plain": [
       "<Figure size 576x360 with 2 Axes>"
      ]
     },
     "metadata": {
      "needs_background": "light"
     },
     "output_type": "display_data"
    }
   ],
   "source": [
    "fig, ax = plt.subplots(figsize=(8, 5))         # Sample figsize in inches\n",
    "sns.heatmap(df.pivot('iters','g_fc_uni','Accuracy'), annot=True, linewidths=.5, ax=ax)\n",
    "\n",
    "# Source for the code below: https://github.com/mwaskom/seaborn/issues/1773\n",
    "b, t = plt.ylim() \n",
    "b += 0.5 \n",
    "t -= 0.5 \n",
    "plt.ylim(b, t) \n",
    "ax.invert_yaxis()\n",
    "\n",
    "plt.show() "
   ]
  },
  {
   "cell_type": "markdown",
   "metadata": {},
   "source": [
    "### GR: Memory"
   ]
  },
  {
   "cell_type": "code",
   "execution_count": 19,
   "metadata": {},
   "outputs": [
    {
     "data": {
      "image/png": "[encoded data removed]",
      "text/plain": [
       "<Figure size 576x360 with 2 Axes>"
      ]
     },
     "metadata": {
      "needs_background": "light"
     },
     "output_type": "display_data"
    }
   ],
   "source": [
    "fig, ax = plt.subplots(figsize=(8, 5))         # Sample figsize in inches\n",
    "sns.heatmap(df.pivot('iters','g_fc_uni','GPU Memory (MB)'), annot=True, linewidths=.5, ax=ax)\n",
    "\n",
    "# Source for the code below: https://github.com/mwaskom/seaborn/issues/1773\n",
    "b, t = plt.ylim() \n",
    "b += 0.5 \n",
    "t -= 0.5 \n",
    "plt.ylim(b, t) \n",
    "ax.invert_yaxis()\n",
    "\n",
    "plt.show() "
   ]
  },
  {
   "cell_type": "markdown",
   "metadata": {},
   "source": [
    "### GR: GPU Usage"
   ]
  },
  {
   "cell_type": "code",
   "execution_count": 20,
   "metadata": {},
   "outputs": [
    {
     "data": {
      "image/png": "[encoded data removed]",
      "text/plain": [
       "<Figure size 576x360 with 2 Axes>"
      ]
     },
     "metadata": {
      "needs_background": "light"
     },
     "output_type": "display_data"
    }
   ],
   "source": [
    "fig, ax = plt.subplots(figsize=(8, 5))         # Sample figsize in inches\n",
    "sns.heatmap(df.pivot('iters','g_fc_uni','GPU Usage (%)'), annot=True, linewidths=.5, ax=ax)\n",
    "\n",
    "# Source for the code below: https://github.com/mwaskom/seaborn/issues/1773\n",
    "b, t = plt.ylim() \n",
    "b += 0.5 \n",
    "t -= 0.5 \n",
    "plt.ylim(b, t) \n",
    "ax.invert_yaxis()\n",
    "\n",
    "plt.show() "
   ]
  },
  {
   "cell_type": "markdown",
   "metadata": {},
   "source": [
    "# NR"
   ]
  },
  {
   "cell_type": "code",
   "execution_count": 21,
   "metadata": {},
   "outputs": [
    {
     "name": "stdout",
     "output_type": "stream",
     "text": [
      "/Users/samuilstoychev/Desktop/research_project_repo/research_project/experiments/vgg_nr_class_tuning/2021-05-09-16-46\n"
     ]
    }
   ],
   "source": [
    "cd ~/Desktop/research_project_repo/research_project/experiments/vgg_nr_class_tuning/2021-05-09-16-46/"
   ]
  },
  {
   "cell_type": "code",
   "execution_count": 22,
   "metadata": {},
   "outputs": [],
   "source": [
    "logs = !ls"
   ]
  },
  {
   "cell_type": "code",
   "execution_count": 23,
   "metadata": {},
   "outputs": [
    {
     "data": {
      "text/html": [
       "<div>\n",
       "<style scoped>\n",
       "    .dataframe tbody tr th:only-of-type {\n",
       "        vertical-align: middle;\n",
       "    }\n",
       "\n",
       "    .dataframe tbody tr th {\n",
       "        vertical-align: top;\n",
       "    }\n",
       "\n",
       "    .dataframe thead th {\n",
       "        text-align: right;\n",
       "    }\n",
       "</style>\n",
       "<table border=\"1\" class=\"dataframe\">\n",
       "  <thead>\n",
       "    <tr style=\"text-align: right;\">\n",
       "      <th></th>\n",
       "      <th>iters</th>\n",
       "      <th>buffer_size</th>\n",
       "      <th>Accuracy</th>\n",
       "      <th>Training time (s)</th>\n",
       "      <th>GPU Usage (%)</th>\n",
       "      <th>GPU Memory (MB)</th>\n",
       "    </tr>\n",
       "  </thead>\n",
       "  <tbody>\n",
       "    <tr>\n",
       "      <td>0</td>\n",
       "      <td>2000</td>\n",
       "      <td>1000</td>\n",
       "      <td>0.5707</td>\n",
       "      <td>3017.7</td>\n",
       "      <td>23.291391</td>\n",
       "      <td>2994.0</td>\n",
       "    </tr>\n",
       "    <tr>\n",
       "      <td>1</td>\n",
       "      <td>2000</td>\n",
       "      <td>1500</td>\n",
       "      <td>0.5538</td>\n",
       "      <td>2982.3</td>\n",
       "      <td>24.374582</td>\n",
       "      <td>3882.0</td>\n",
       "    </tr>\n",
       "    <tr>\n",
       "      <td>2</td>\n",
       "      <td>2000</td>\n",
       "      <td>200</td>\n",
       "      <td>0.5556</td>\n",
       "      <td>2936.5</td>\n",
       "      <td>25.241497</td>\n",
       "      <td>1114.0</td>\n",
       "    </tr>\n",
       "    <tr>\n",
       "      <td>3</td>\n",
       "      <td>2000</td>\n",
       "      <td>500</td>\n",
       "      <td>0.5809</td>\n",
       "      <td>2984.4</td>\n",
       "      <td>24.665552</td>\n",
       "      <td>1730.0</td>\n",
       "    </tr>\n",
       "    <tr>\n",
       "      <td>4</td>\n",
       "      <td>3000</td>\n",
       "      <td>1000</td>\n",
       "      <td>0.5750</td>\n",
       "      <td>4429.9</td>\n",
       "      <td>24.404063</td>\n",
       "      <td>3010.0</td>\n",
       "    </tr>\n",
       "    <tr>\n",
       "      <td>5</td>\n",
       "      <td>3000</td>\n",
       "      <td>1500</td>\n",
       "      <td>0.5366</td>\n",
       "      <td>4483.3</td>\n",
       "      <td>24.525612</td>\n",
       "      <td>3738.0</td>\n",
       "    </tr>\n",
       "    <tr>\n",
       "      <td>6</td>\n",
       "      <td>3000</td>\n",
       "      <td>200</td>\n",
       "      <td>0.5419</td>\n",
       "      <td>4488.1</td>\n",
       "      <td>24.044543</td>\n",
       "      <td>1162.0</td>\n",
       "    </tr>\n",
       "    <tr>\n",
       "      <td>7</td>\n",
       "      <td>3000</td>\n",
       "      <td>500</td>\n",
       "      <td>0.5208</td>\n",
       "      <td>4519.9</td>\n",
       "      <td>24.134956</td>\n",
       "      <td>1746.0</td>\n",
       "    </tr>\n",
       "  </tbody>\n",
       "</table>\n",
       "</div>"
      ],
      "text/plain": [
       "   iters  buffer_size  Accuracy  Training time (s)  GPU Usage (%)  \\\n",
       "0   2000         1000    0.5707             3017.7      23.291391   \n",
       "1   2000         1500    0.5538             2982.3      24.374582   \n",
       "2   2000          200    0.5556             2936.5      25.241497   \n",
       "3   2000          500    0.5809             2984.4      24.665552   \n",
       "4   3000         1000    0.5750             4429.9      24.404063   \n",
       "5   3000         1500    0.5366             4483.3      24.525612   \n",
       "6   3000          200    0.5419             4488.1      24.044543   \n",
       "7   3000          500    0.5208             4519.9      24.134956   \n",
       "\n",
       "   GPU Memory (MB)  \n",
       "0           2994.0  \n",
       "1           3882.0  \n",
       "2           1114.0  \n",
       "3           1730.0  \n",
       "4           3010.0  \n",
       "5           3738.0  \n",
       "6           1162.0  \n",
       "7           1746.0  "
      ]
     },
     "execution_count": 23,
     "metadata": {},
     "output_type": "execute_result"
    }
   ],
   "source": [
    "m = Metrics(logs, \"rehearsal\")\n",
    "df = m.get_metrics_df()\n",
    "df"
   ]
  },
  {
   "cell_type": "markdown",
   "metadata": {},
   "source": [
    "### NR: Accuracy"
   ]
  },
  {
   "cell_type": "code",
   "execution_count": 24,
   "metadata": {},
   "outputs": [
    {
     "data": {
      "image/png": "[encoded data removed]",
      "text/plain": [
       "<Figure size 576x360 with 2 Axes>"
      ]
     },
     "metadata": {
      "needs_background": "light"
     },
     "output_type": "display_data"
    }
   ],
   "source": [
    "fig, ax = plt.subplots(figsize=(8, 5))         # Sample figsize in inches\n",
    "sns.heatmap(df.pivot('iters','buffer_size','Accuracy'), annot=True, linewidths=.5, ax=ax)\n",
    "\n",
    "# Source for the code below: https://github.com/mwaskom/seaborn/issues/1773\n",
    "b, t = plt.ylim() \n",
    "b += 0.5 \n",
    "t -= 0.5 \n",
    "plt.ylim(b, t) \n",
    "ax.invert_yaxis()\n",
    "\n",
    "plt.show() "
   ]
  },
  {
   "cell_type": "markdown",
   "metadata": {},
   "source": [
    "### NR: Memory"
   ]
  },
  {
   "cell_type": "code",
   "execution_count": 25,
   "metadata": {},
   "outputs": [
    {
     "data": {
      "image/png": "[encoded data removed]",
      "text/plain": [
       "<Figure size 576x360 with 2 Axes>"
      ]
     },
     "metadata": {
      "needs_background": "light"
     },
     "output_type": "display_data"
    }
   ],
   "source": [
    "fig, ax = plt.subplots(figsize=(8, 5))         # Sample figsize in inches\n",
    "sns.heatmap(df.pivot('iters','buffer_size','GPU Memory (MB)'), annot=True, linewidths=.5, ax=ax)\n",
    "\n",
    "# Source for the code below: https://github.com/mwaskom/seaborn/issues/1773\n",
    "b, t = plt.ylim() \n",
    "b += 0.5 \n",
    "t -= 0.5 \n",
    "plt.ylim(b, t) \n",
    "ax.invert_yaxis()\n",
    "\n",
    "plt.show() "
   ]
  },
  {
   "cell_type": "markdown",
   "metadata": {},
   "source": [
    "### NR: GPU Usage"
   ]
  },
  {
   "cell_type": "code",
   "execution_count": 26,
   "metadata": {},
   "outputs": [
    {
     "data": {
      "image/png": "[encoded data removed]",
      "text/plain": [
       "<Figure size 576x360 with 2 Axes>"
      ]
     },
     "metadata": {
      "needs_background": "light"
     },
     "output_type": "display_data"
    }
   ],
   "source": [
    "fig, ax = plt.subplots(figsize=(8, 5))         # Sample figsize in inches\n",
    "sns.heatmap(df.pivot('iters','buffer_size','GPU Usage (%)'), annot=True, linewidths=.5, ax=ax)\n",
    "\n",
    "# Source for the code below: https://github.com/mwaskom/seaborn/issues/1773\n",
    "b, t = plt.ylim() \n",
    "b += 0.5 \n",
    "t -= 0.5 \n",
    "plt.ylim(b, t) \n",
    "ax.invert_yaxis()\n",
    "\n",
    "plt.show() "
   ]
  }
 ],
 "metadata": {
  "kernelspec": {
   "display_name": "Python 3",
   "language": "python",
   "name": "python3"
  },
  "language_info": {
   "codemirror_mode": {
    "name": "ipython",
    "version": 3
   },
   "file_extension": ".py",
   "mimetype": "text/x-python",
   "name": "python",
   "nbconvert_exporter": "python",
   "pygments_lexer": "ipython3",
   "version": "3.7.4"
  }
 },
 "nbformat": 4,
 "nbformat_minor": 2
}
