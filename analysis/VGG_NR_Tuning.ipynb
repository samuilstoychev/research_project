{
 "cells": [
  {
   "cell_type": "code",
   "execution_count": 1,
   "id": "split-raleigh",
   "metadata": {},
   "outputs": [],
   "source": [
    "import matplotlib.pyplot as plt\n",
    "import numpy as np\n",
    "import pandas as pd\n",
    "import seaborn as sns"
   ]
  },
  {
   "cell_type": "code",
   "execution_count": 2,
   "id": "scientific-newfoundland",
   "metadata": {},
   "outputs": [
    {
     "name": "stdout",
     "output_type": "stream",
     "text": [
      "/Users/samuilstoychev/Desktop/research_project_repo/research_project/experiments/vgg_nr_tuning/2021-04-24-16-40\n"
     ]
    }
   ],
   "source": [
    "%cd ../experiments/vgg_nr_tuning/2021-04-24-16-40/"
   ]
  },
  {
   "cell_type": "code",
   "execution_count": 5,
   "id": "latter-generic",
   "metadata": {},
   "outputs": [
    {
     "name": "stdout",
     "output_type": "stream",
     "text": [
      "1000_1000_0 1000_200_0  2000_1000_0 2000_200_0  3000_1000_0 3000_200_0\r\n",
      "1000_1000_1 1000_200_1  2000_1000_1 2000_200_1  3000_1000_1 3000_200_1\r\n",
      "1000_1000_2 1000_200_2  2000_1000_2 2000_200_2  3000_1000_2 3000_200_2\r\n",
      "1000_1500_0 1000_500_0  2000_1500_0 2000_500_0  3000_1500_0 3000_500_0\r\n",
      "1000_1500_1 1000_500_1  2000_1500_1 2000_500_1  3000_1500_1 3000_500_1\r\n",
      "1000_1500_2 1000_500_2  2000_1500_2 2000_500_2  3000_1500_2 3000_500_2\r\n"
     ]
    }
   ],
   "source": [
    "!ls"
   ]
  },
  {
   "cell_type": "code",
   "execution_count": 6,
   "id": "relative-request",
   "metadata": {},
   "outputs": [],
   "source": [
    "logs = !ls "
   ]
  },
  {
   "cell_type": "code",
   "execution_count": 7,
   "id": "chief-scheduling",
   "metadata": {},
   "outputs": [],
   "source": [
    "class Metrics: \n",
    "    def __init__(self, logs): \n",
    "        self.logs = logs \n",
    "        self.raw_metrics = self.calculate_metrics(logs)\n",
    "        \n",
    "    def extract_metrics(self, filename): \n",
    "        f = open(filename, 'r')\n",
    "        lines = f.readlines() \n",
    "        gpu_usage = None\n",
    "        gpu_mem = None\n",
    "        for line in lines: \n",
    "            if \"=> Average precision\" in line: \n",
    "                accuracy = float(line.split(\" \")[-1])\n",
    "            if \"=> Total training time\" in line: \n",
    "                training_time = float(line.split(\" \")[-2])\n",
    "            if \"GPU BEFORE EVALUATION:\" in line: \n",
    "                gpu_usage, gpu_mem = eval(line[22:])\n",
    "        return (accuracy, training_time, gpu_usage, gpu_mem)\n",
    "    \n",
    "    def calculate_metrics(self, files): \n",
    "        metrics = dict()\n",
    "\n",
    "        for file in files: \n",
    "            iters, g_fc_uni, _ = file.split(\"_\")\n",
    "            iters = int(iters)\n",
    "            g_fc_uni = int(g_fc_uni)\n",
    "            if (iters, g_fc_uni) in metrics: \n",
    "                metrics[(iters, g_fc_uni)].append(self.extract_metrics(file))\n",
    "            else: \n",
    "                metrics[(iters, g_fc_uni)] = [self.extract_metrics(file)] \n",
    "\n",
    "        return metrics\n",
    "    \n",
    "    def get_metrics_df(self): \n",
    "        rows = []\n",
    "        for key in self.raw_metrics: \n",
    "            vals = self.raw_metrics[key]\n",
    "            rows.append([key[0], key[1]] + [np.mean(x) for x in list(zip(*vals))])\n",
    "        return pd.DataFrame(rows, columns=[\"iters\", \"buffer_size\", \"Accuracy\", \"Training time (s)\", \"GPU Usage (%)\", \"GPU Memory (MB)\"])\n",
    "            "
   ]
  },
  {
   "cell_type": "code",
   "execution_count": 8,
   "id": "federal-london",
   "metadata": {},
   "outputs": [
    {
     "data": {
      "text/html": [
       "<div>\n",
       "<style scoped>\n",
       "    .dataframe tbody tr th:only-of-type {\n",
       "        vertical-align: middle;\n",
       "    }\n",
       "\n",
       "    .dataframe tbody tr th {\n",
       "        vertical-align: top;\n",
       "    }\n",
       "\n",
       "    .dataframe thead th {\n",
       "        text-align: right;\n",
       "    }\n",
       "</style>\n",
       "<table border=\"1\" class=\"dataframe\">\n",
       "  <thead>\n",
       "    <tr style=\"text-align: right;\">\n",
       "      <th></th>\n",
       "      <th>iters</th>\n",
       "      <th>buffer_size</th>\n",
       "      <th>Accuracy</th>\n",
       "      <th>Training time (s)</th>\n",
       "      <th>GPU Usage (%)</th>\n",
       "      <th>GPU Memory (MB)</th>\n",
       "    </tr>\n",
       "  </thead>\n",
       "  <tbody>\n",
       "    <tr>\n",
       "      <th>0</th>\n",
       "      <td>1000</td>\n",
       "      <td>1000</td>\n",
       "      <td>0.800267</td>\n",
       "      <td>711.100000</td>\n",
       "      <td>23.788993</td>\n",
       "      <td>2226.000000</td>\n",
       "    </tr>\n",
       "    <tr>\n",
       "      <th>1</th>\n",
       "      <td>1000</td>\n",
       "      <td>1500</td>\n",
       "      <td>0.640767</td>\n",
       "      <td>710.266667</td>\n",
       "      <td>24.261607</td>\n",
       "      <td>2719.333333</td>\n",
       "    </tr>\n",
       "    <tr>\n",
       "      <th>2</th>\n",
       "      <td>1000</td>\n",
       "      <td>200</td>\n",
       "      <td>0.765567</td>\n",
       "      <td>712.633333</td>\n",
       "      <td>23.662037</td>\n",
       "      <td>1034.000000</td>\n",
       "    </tr>\n",
       "    <tr>\n",
       "      <th>3</th>\n",
       "      <td>1000</td>\n",
       "      <td>500</td>\n",
       "      <td>0.628500</td>\n",
       "      <td>706.233333</td>\n",
       "      <td>24.207804</td>\n",
       "      <td>1348.666667</td>\n",
       "    </tr>\n",
       "    <tr>\n",
       "      <th>4</th>\n",
       "      <td>2000</td>\n",
       "      <td>1000</td>\n",
       "      <td>0.717400</td>\n",
       "      <td>1452.133333</td>\n",
       "      <td>23.689843</td>\n",
       "      <td>2063.333333</td>\n",
       "    </tr>\n",
       "    <tr>\n",
       "      <th>5</th>\n",
       "      <td>2000</td>\n",
       "      <td>1500</td>\n",
       "      <td>0.725233</td>\n",
       "      <td>1451.433333</td>\n",
       "      <td>22.929208</td>\n",
       "      <td>2759.333333</td>\n",
       "    </tr>\n",
       "    <tr>\n",
       "      <th>6</th>\n",
       "      <td>2000</td>\n",
       "      <td>200</td>\n",
       "      <td>0.680133</td>\n",
       "      <td>1432.100000</td>\n",
       "      <td>23.652226</td>\n",
       "      <td>1034.000000</td>\n",
       "    </tr>\n",
       "    <tr>\n",
       "      <th>7</th>\n",
       "      <td>2000</td>\n",
       "      <td>500</td>\n",
       "      <td>0.721267</td>\n",
       "      <td>1454.766667</td>\n",
       "      <td>23.484424</td>\n",
       "      <td>1343.333333</td>\n",
       "    </tr>\n",
       "    <tr>\n",
       "      <th>8</th>\n",
       "      <td>3000</td>\n",
       "      <td>1000</td>\n",
       "      <td>0.815467</td>\n",
       "      <td>2177.733333</td>\n",
       "      <td>23.391393</td>\n",
       "      <td>2156.666667</td>\n",
       "    </tr>\n",
       "    <tr>\n",
       "      <th>9</th>\n",
       "      <td>3000</td>\n",
       "      <td>1500</td>\n",
       "      <td>0.728133</td>\n",
       "      <td>2189.333333</td>\n",
       "      <td>22.861462</td>\n",
       "      <td>2826.000000</td>\n",
       "    </tr>\n",
       "    <tr>\n",
       "      <th>10</th>\n",
       "      <td>3000</td>\n",
       "      <td>200</td>\n",
       "      <td>0.719867</td>\n",
       "      <td>2140.700000</td>\n",
       "      <td>23.884324</td>\n",
       "      <td>1034.000000</td>\n",
       "    </tr>\n",
       "    <tr>\n",
       "      <th>11</th>\n",
       "      <td>3000</td>\n",
       "      <td>500</td>\n",
       "      <td>0.771767</td>\n",
       "      <td>2146.000000</td>\n",
       "      <td>23.325773</td>\n",
       "      <td>1354.000000</td>\n",
       "    </tr>\n",
       "  </tbody>\n",
       "</table>\n",
       "</div>"
      ],
      "text/plain": [
       "    iters  buffer_size  Accuracy  Training time (s)  GPU Usage (%)  \\\n",
       "0    1000         1000  0.800267         711.100000      23.788993   \n",
       "1    1000         1500  0.640767         710.266667      24.261607   \n",
       "2    1000          200  0.765567         712.633333      23.662037   \n",
       "3    1000          500  0.628500         706.233333      24.207804   \n",
       "4    2000         1000  0.717400        1452.133333      23.689843   \n",
       "5    2000         1500  0.725233        1451.433333      22.929208   \n",
       "6    2000          200  0.680133        1432.100000      23.652226   \n",
       "7    2000          500  0.721267        1454.766667      23.484424   \n",
       "8    3000         1000  0.815467        2177.733333      23.391393   \n",
       "9    3000         1500  0.728133        2189.333333      22.861462   \n",
       "10   3000          200  0.719867        2140.700000      23.884324   \n",
       "11   3000          500  0.771767        2146.000000      23.325773   \n",
       "\n",
       "    GPU Memory (MB)  \n",
       "0       2226.000000  \n",
       "1       2719.333333  \n",
       "2       1034.000000  \n",
       "3       1348.666667  \n",
       "4       2063.333333  \n",
       "5       2759.333333  \n",
       "6       1034.000000  \n",
       "7       1343.333333  \n",
       "8       2156.666667  \n",
       "9       2826.000000  \n",
       "10      1034.000000  \n",
       "11      1354.000000  "
      ]
     },
     "execution_count": 8,
     "metadata": {},
     "output_type": "execute_result"
    }
   ],
   "source": [
    "metrics = Metrics(logs)\n",
    "df = metrics.get_metrics_df()\n",
    "df"
   ]
  },
  {
   "cell_type": "code",
   "execution_count": 13,
   "id": "lucky-console",
   "metadata": {},
   "outputs": [
    {
     "data": {
      "text/plain": [
       "[(0.738, 695.4, 25.442857142857143, 1338),\n",
       " (0.7792, 710.4, 24.23611111111111, 1338),\n",
       " (0.3683, 712.9, 22.944444444444443, 1370)]"
      ]
     },
     "execution_count": 13,
     "metadata": {},
     "output_type": "execute_result"
    }
   ],
   "source": [
    "metrics.raw_metrics[(1000, 500)]"
   ]
  },
  {
   "cell_type": "markdown",
   "id": "equal-variety",
   "metadata": {},
   "source": [
    "# NR: Accuracy"
   ]
  },
  {
   "cell_type": "code",
   "execution_count": 9,
   "id": "driven-aging",
   "metadata": {
    "scrolled": true
   },
   "outputs": [
    {
     "data": {
      "image/png": "[encoded data removed]",
      "text/plain": [
       "<Figure size 576x360 with 2 Axes>"
      ]
     },
     "metadata": {
      "needs_background": "light"
     },
     "output_type": "display_data"
    }
   ],
   "source": [
    "fig, ax = plt.subplots(figsize=(8, 5))         # Sample figsize in inches\n",
    "sns.heatmap(df.pivot('iters','buffer_size','Accuracy'), annot=True, linewidths=.5, ax=ax)\n",
    "\n",
    "# Source for the code below: https://github.com/mwaskom/seaborn/issues/1773\n",
    "b, t = plt.ylim() \n",
    "b += 0.5 \n",
    "t -= 0.5 \n",
    "plt.ylim(b, t) \n",
    "ax.invert_yaxis()\n",
    "\n",
    "plt.show() "
   ]
  },
  {
   "cell_type": "markdown",
   "id": "digital-reflection",
   "metadata": {},
   "source": [
    "# NR: GPU Memory Usage (MB)"
   ]
  },
  {
   "cell_type": "code",
   "execution_count": 10,
   "id": "twelve-accountability",
   "metadata": {},
   "outputs": [
    {
     "data": {
      "image/png": "[encoded data removed]",
      "text/plain": [
       "<Figure size 576x360 with 2 Axes>"
      ]
     },
     "metadata": {
      "needs_background": "light"
     },
     "output_type": "display_data"
    }
   ],
   "source": [
    "fig, ax = plt.subplots(figsize=(8, 5))         # Sample figsize in inches\n",
    "sns.heatmap(df.pivot('iters','buffer_size','GPU Memory (MB)'), annot=True, linewidths=.5, ax=ax)\n",
    "\n",
    "# Source for the code below: https://github.com/mwaskom/seaborn/issues/1773\n",
    "b, t = plt.ylim() \n",
    "b += 0.5 \n",
    "t -= 0.5 \n",
    "plt.ylim(b, t) \n",
    "ax.invert_yaxis()\n",
    "\n",
    "plt.show() "
   ]
  },
  {
   "cell_type": "markdown",
   "id": "passing-brook",
   "metadata": {},
   "source": [
    "# NR: GPU Average GPU Usage (%)"
   ]
  },
  {
   "cell_type": "code",
   "execution_count": 11,
   "id": "indirect-istanbul",
   "metadata": {},
   "outputs": [
    {
     "data": {
      "image/png": "[encoded data removed]",
      "text/plain": [
       "<Figure size 576x360 with 2 Axes>"
      ]
     },
     "metadata": {
      "needs_background": "light"
     },
     "output_type": "display_data"
    }
   ],
   "source": [
    "fig, ax = plt.subplots(figsize=(8, 5))         # Sample figsize in inches\n",
    "sns.heatmap(df.pivot('iters','buffer_size','GPU Usage (%)'), annot=True, linewidths=.5, ax=ax)\n",
    "\n",
    "# Source for the code below: https://github.com/mwaskom/seaborn/issues/1773\n",
    "b, t = plt.ylim() \n",
    "b += 0.5 \n",
    "t -= 0.5 \n",
    "plt.ylim(b, t) \n",
    "ax.invert_yaxis()\n",
    "\n",
    "plt.show() "
   ]
  }
 ],
 "metadata": {
  "kernelspec": {
   "display_name": "Python 3",
   "language": "python",
   "name": "python3"
  },
  "language_info": {
   "codemirror_mode": {
    "name": "ipython",
    "version": 3
   },
   "file_extension": ".py",
   "mimetype": "text/x-python",
   "name": "python",
   "nbconvert_exporter": "python",
   "pygments_lexer": "ipython3",
   "version": "3.7.9"
  }
 },
 "nbformat": 4,
 "nbformat_minor": 5
}
