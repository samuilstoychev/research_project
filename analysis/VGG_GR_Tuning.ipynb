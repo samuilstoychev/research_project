{
 "cells": [
  {
   "cell_type": "code",
   "execution_count": 1,
   "metadata": {},
   "outputs": [],
   "source": [
    "import matplotlib.pyplot as plt\n",
    "import numpy as np\n",
    "import pandas as pd\n",
    "import seaborn as sns"
   ]
  },
  {
   "cell_type": "code",
   "execution_count": 2,
   "metadata": {},
   "outputs": [
    {
     "name": "stdout",
     "output_type": "stream",
     "text": [
      "/Users/samuilstoychev/Desktop/research_project_repo/research_project/experiments/vgg_gr_tuning/2021-04-23-14-32\n"
     ]
    }
   ],
   "source": [
    "%cd ../experiments/vgg_gr_tuning/2021-04-23-14-32/"
   ]
  },
  {
   "cell_type": "code",
   "execution_count": 3,
   "metadata": {},
   "outputs": [
    {
     "name": "stdout",
     "output_type": "stream",
     "text": [
      "1000_1600_0  1000_800_0   2000_1600_0  2000_800_0   3000_1600_0  3000_800_0\r\n",
      "1000_1600_1  1000_800_1   2000_1600_1  2000_800_1   3000_1600_1  3000_800_1\r\n",
      "1000_1600_2  1000_800_2   2000_1600_2  2000_800_2   3000_1600_2  3000_800_2\r\n",
      "1000_3200_0  2000_12800_0 2000_3200_0  3000_12800_0 3000_3200_0\r\n",
      "1000_3200_1  2000_12800_1 2000_3200_1  3000_12800_1 3000_3200_1\r\n",
      "1000_3200_2  2000_12800_2 2000_3200_2  3000_12800_2 3000_3200_2\r\n"
     ]
    }
   ],
   "source": [
    "!ls "
   ]
  },
  {
   "cell_type": "code",
   "execution_count": 4,
   "metadata": {},
   "outputs": [],
   "source": [
    "logs = !ls\n",
    "# VM runs out of memory at g_fc_uni = 12,800\n",
    "logs = list(filter(lambda x: \"12800\" not in x, logs))"
   ]
  },
  {
   "cell_type": "code",
   "execution_count": 5,
   "metadata": {},
   "outputs": [],
   "source": [
    "class Metrics: \n",
    "    def __init__(self, logs): \n",
    "        self.logs = logs \n",
    "        self.raw_metrics = self.calculate_metrics(logs)\n",
    "        \n",
    "    def extract_metrics(self, filename): \n",
    "        f = open(filename, 'r')\n",
    "        lines = f.readlines() \n",
    "        gpu_usage = None\n",
    "        gpu_mem = None\n",
    "        for line in lines: \n",
    "            if \"=> Average precision\" in line: \n",
    "                accuracy = float(line.split(\" \")[-1])\n",
    "            if \"=> Total training time\" in line: \n",
    "                training_time = float(line.split(\" \")[-2])\n",
    "            if \"GPU BEFORE EVALUATION:\" in line: \n",
    "                gpu_usage, gpu_mem = eval(line[22:])\n",
    "        return (accuracy, training_time, gpu_usage, gpu_mem)\n",
    "    \n",
    "    def calculate_metrics(self, files): \n",
    "        metrics = dict()\n",
    "\n",
    "        for file in files: \n",
    "            iters, g_fc_uni, _ = file.split(\"_\")\n",
    "            iters = int(iters)\n",
    "            g_fc_uni = int(g_fc_uni)\n",
    "            if (iters, g_fc_uni) in metrics: \n",
    "                metrics[(iters, g_fc_uni)].append(self.extract_metrics(file))\n",
    "            else: \n",
    "                metrics[(iters, g_fc_uni)] = [self.extract_metrics(file)] \n",
    "\n",
    "        return metrics\n",
    "    \n",
    "    def get_metrics_df(self): \n",
    "        rows = []\n",
    "        for key in self.raw_metrics: \n",
    "            vals = self.raw_metrics[key]\n",
    "            rows.append([key[0], key[1]] + [np.mean(x) for x in list(zip(*vals))])\n",
    "        return pd.DataFrame(rows, columns=[\"iters\", \"g_fc_uni\", \"Accuracy\", \"Training time (s)\", \"GPU Usage (%)\", \"GPU Memory (MB)\"])\n",
    "            "
   ]
  },
  {
   "cell_type": "code",
   "execution_count": 6,
   "metadata": {},
   "outputs": [
    {
     "data": {
      "text/html": [
       "<div>\n",
       "<style scoped>\n",
       "    .dataframe tbody tr th:only-of-type {\n",
       "        vertical-align: middle;\n",
       "    }\n",
       "\n",
       "    .dataframe tbody tr th {\n",
       "        vertical-align: top;\n",
       "    }\n",
       "\n",
       "    .dataframe thead th {\n",
       "        text-align: right;\n",
       "    }\n",
       "</style>\n",
       "<table border=\"1\" class=\"dataframe\">\n",
       "  <thead>\n",
       "    <tr style=\"text-align: right;\">\n",
       "      <th></th>\n",
       "      <th>iters</th>\n",
       "      <th>g_fc_uni</th>\n",
       "      <th>Accuracy</th>\n",
       "      <th>Training time (s)</th>\n",
       "      <th>GPU Usage (%)</th>\n",
       "      <th>GPU Memory (MB)</th>\n",
       "    </tr>\n",
       "  </thead>\n",
       "  <tbody>\n",
       "    <tr>\n",
       "      <th>0</th>\n",
       "      <td>1000</td>\n",
       "      <td>1600</td>\n",
       "      <td>0.745967</td>\n",
       "      <td>897.200000</td>\n",
       "      <td>37.732348</td>\n",
       "      <td>4348.0</td>\n",
       "    </tr>\n",
       "    <tr>\n",
       "      <th>1</th>\n",
       "      <td>1000</td>\n",
       "      <td>3200</td>\n",
       "      <td>0.722067</td>\n",
       "      <td>1002.900000</td>\n",
       "      <td>44.128950</td>\n",
       "      <td>8018.0</td>\n",
       "    </tr>\n",
       "    <tr>\n",
       "      <th>2</th>\n",
       "      <td>1000</td>\n",
       "      <td>800</td>\n",
       "      <td>0.815800</td>\n",
       "      <td>854.600000</td>\n",
       "      <td>34.138997</td>\n",
       "      <td>2710.0</td>\n",
       "    </tr>\n",
       "    <tr>\n",
       "      <th>3</th>\n",
       "      <td>2000</td>\n",
       "      <td>1600</td>\n",
       "      <td>0.703500</td>\n",
       "      <td>1772.266667</td>\n",
       "      <td>38.719702</td>\n",
       "      <td>4348.0</td>\n",
       "    </tr>\n",
       "    <tr>\n",
       "      <th>4</th>\n",
       "      <td>2000</td>\n",
       "      <td>3200</td>\n",
       "      <td>0.787500</td>\n",
       "      <td>1999.000000</td>\n",
       "      <td>44.576285</td>\n",
       "      <td>8018.0</td>\n",
       "    </tr>\n",
       "    <tr>\n",
       "      <th>5</th>\n",
       "      <td>2000</td>\n",
       "      <td>800</td>\n",
       "      <td>0.747567</td>\n",
       "      <td>1685.400000</td>\n",
       "      <td>34.189341</td>\n",
       "      <td>2710.0</td>\n",
       "    </tr>\n",
       "    <tr>\n",
       "      <th>6</th>\n",
       "      <td>3000</td>\n",
       "      <td>1600</td>\n",
       "      <td>0.738700</td>\n",
       "      <td>2642.000000</td>\n",
       "      <td>38.741457</td>\n",
       "      <td>4348.0</td>\n",
       "    </tr>\n",
       "    <tr>\n",
       "      <th>7</th>\n",
       "      <td>3000</td>\n",
       "      <td>3200</td>\n",
       "      <td>0.671267</td>\n",
       "      <td>2971.700000</td>\n",
       "      <td>45.779029</td>\n",
       "      <td>8018.0</td>\n",
       "    </tr>\n",
       "    <tr>\n",
       "      <th>8</th>\n",
       "      <td>3000</td>\n",
       "      <td>800</td>\n",
       "      <td>0.724067</td>\n",
       "      <td>2542.500000</td>\n",
       "      <td>34.082694</td>\n",
       "      <td>2710.0</td>\n",
       "    </tr>\n",
       "  </tbody>\n",
       "</table>\n",
       "</div>"
      ],
      "text/plain": [
       "   iters  g_fc_uni  Accuracy  Training time (s)  GPU Usage (%)  \\\n",
       "0   1000      1600  0.745967         897.200000      37.732348   \n",
       "1   1000      3200  0.722067        1002.900000      44.128950   \n",
       "2   1000       800  0.815800         854.600000      34.138997   \n",
       "3   2000      1600  0.703500        1772.266667      38.719702   \n",
       "4   2000      3200  0.787500        1999.000000      44.576285   \n",
       "5   2000       800  0.747567        1685.400000      34.189341   \n",
       "6   3000      1600  0.738700        2642.000000      38.741457   \n",
       "7   3000      3200  0.671267        2971.700000      45.779029   \n",
       "8   3000       800  0.724067        2542.500000      34.082694   \n",
       "\n",
       "   GPU Memory (MB)  \n",
       "0           4348.0  \n",
       "1           8018.0  \n",
       "2           2710.0  \n",
       "3           4348.0  \n",
       "4           8018.0  \n",
       "5           2710.0  \n",
       "6           4348.0  \n",
       "7           8018.0  \n",
       "8           2710.0  "
      ]
     },
     "execution_count": 6,
     "metadata": {},
     "output_type": "execute_result"
    }
   ],
   "source": [
    "metrics = Metrics(logs)\n",
    "df = metrics.get_metrics_df()\n",
    "df"
   ]
  },
  {
   "cell_type": "markdown",
   "metadata": {},
   "source": [
    "# GR: Accuracy"
   ]
  },
  {
   "cell_type": "code",
   "execution_count": 7,
   "metadata": {},
   "outputs": [
    {
     "data": {
      "image/png": "[encoded data removed]",
      "text/plain": [
       "<Figure size 576x360 with 2 Axes>"
      ]
     },
     "metadata": {
      "needs_background": "light"
     },
     "output_type": "display_data"
    }
   ],
   "source": [
    "fig, ax = plt.subplots(figsize=(8, 5))         # Sample figsize in inches\n",
    "sns.heatmap(df.pivot('iters','g_fc_uni','Accuracy'), annot=True, linewidths=.5, ax=ax)\n",
    "\n",
    "# Source for the code below: https://github.com/mwaskom/seaborn/issues/1773\n",
    "b, t = plt.ylim() \n",
    "b += 0.5 \n",
    "t -= 0.5 \n",
    "plt.ylim(b, t) \n",
    "ax.invert_yaxis()\n",
    "\n",
    "plt.show() "
   ]
  },
  {
   "cell_type": "markdown",
   "metadata": {},
   "source": [
    "# GR: GPU Memory Consumption (MB)"
   ]
  },
  {
   "cell_type": "code",
   "execution_count": 8,
   "metadata": {},
   "outputs": [
    {
     "data": {
      "image/png": "[encoded data removed]",
      "text/plain": [
       "<Figure size 576x360 with 2 Axes>"
      ]
     },
     "metadata": {
      "needs_background": "light"
     },
     "output_type": "display_data"
    }
   ],
   "source": [
    "fig, ax = plt.subplots(figsize=(8, 5))         # Sample figsize in inches\n",
    "sns.heatmap(df.pivot('iters','g_fc_uni','GPU Memory (MB)'), annot=True, linewidths=.5, ax=ax)\n",
    "\n",
    "# Source for the code below: https://github.com/mwaskom/seaborn/issues/1773\n",
    "b, t = plt.ylim() \n",
    "b += 0.5 \n",
    "t -= 0.5 \n",
    "plt.ylim(b, t) \n",
    "ax.invert_yaxis()\n",
    "\n",
    "plt.show() "
   ]
  },
  {
   "cell_type": "markdown",
   "metadata": {},
   "source": [
    "# GR: Average GPU Usage (%)"
   ]
  },
  {
   "cell_type": "code",
   "execution_count": 9,
   "metadata": {},
   "outputs": [
    {
     "data": {
      "image/png": "[encoded data removed]",
      "text/plain": [
       "<Figure size 576x360 with 2 Axes>"
      ]
     },
     "metadata": {
      "needs_background": "light"
     },
     "output_type": "display_data"
    }
   ],
   "source": [
    "fig, ax = plt.subplots(figsize=(8, 5))         # Sample figsize in inches\n",
    "sns.heatmap(df.pivot('iters','g_fc_uni','GPU Usage (%)'), annot=True, linewidths=.5, ax=ax)\n",
    "\n",
    "# Source for the code below: https://github.com/mwaskom/seaborn/issues/1773\n",
    "b, t = plt.ylim() \n",
    "b += 0.5 \n",
    "t -= 0.5 \n",
    "plt.ylim(b, t) \n",
    "ax.invert_yaxis()\n",
    "\n",
    "plt.show() "
   ]
  }
 ],
 "metadata": {
  "kernelspec": {
   "display_name": "Python 3",
   "language": "python",
   "name": "python3"
  },
  "language_info": {
   "codemirror_mode": {
    "name": "ipython",
    "version": 3
   },
   "file_extension": ".py",
   "mimetype": "text/x-python",
   "name": "python",
   "nbconvert_exporter": "python",
   "pygments_lexer": "ipython3",
   "version": "3.7.9"
  }
 },
 "nbformat": 4,
 "nbformat_minor": 2
}
