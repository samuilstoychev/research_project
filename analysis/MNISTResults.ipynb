{
 "cells": [
  {
   "cell_type": "code",
   "execution_count": 1,
   "id": "dense-writer",
   "metadata": {},
   "outputs": [],
   "source": [
    "import matplotlib.pyplot as plt\n",
    "import numpy as np\n",
    "import pandas as pd"
   ]
  },
  {
   "cell_type": "markdown",
   "id": "protected-recipient",
   "metadata": {},
   "source": [
    "# MNIST Results"
   ]
  },
  {
   "cell_type": "markdown",
   "id": "therapeutic-louis",
   "metadata": {},
   "source": [
    "## 1. Task-IL + no-GPU  "
   ]
  },
  {
   "cell_type": "code",
   "execution_count": 2,
   "id": "turned-sheet",
   "metadata": {},
   "outputs": [
    {
     "name": "stdout",
     "output_type": "stream",
     "text": [
      "/Users/samuilstoychev/Desktop/research_project_repo/research_project/experiments/mnist/2021-04-16-18-09/task_nogpu_fi\n"
     ]
    }
   ],
   "source": [
    "%cd ~/Desktop/research_project_repo/research_project/experiments/mnist/2021-04-16-18-09/task_nogpu_fi"
   ]
  },
  {
   "cell_type": "code",
   "execution_count": 3,
   "id": "engaged-alberta",
   "metadata": {
    "scrolled": true
   },
   "outputs": [],
   "source": [
    "logs = !ls"
   ]
  },
  {
   "cell_type": "code",
   "execution_count": 4,
   "id": "auburn-physics",
   "metadata": {},
   "outputs": [],
   "source": [
    "def extract_metrics(filename): \n",
    "    f = open(filename, 'r')\n",
    "    lines = f.readlines() \n",
    "    ram_init = None\n",
    "    ram_peak = None\n",
    "    cpu_init = None \n",
    "    cpu_end = None \n",
    "    for line in lines: \n",
    "        if \"=> Average precision\" in line: \n",
    "            accuracy = float(line.split(\" \")[-1])\n",
    "        if \"=> Total training time\" in line: \n",
    "            training_time = float(line.split(\" \")[-2])\n",
    "        if \"RAM BEFORE TRAINING:\" in line: \n",
    "            ram_init = float(line.split(\" \")[-1])\n",
    "        if \"PEAK TRAINING RAM:\" in line: \n",
    "            ram_peak = float(line.split(\" \")[-1])\n",
    "        if \"CPU BEFORE TRAINING:\" in line: \n",
    "            cpu_init = eval(line.split(\":\")[-1])\n",
    "        if \"CPU BEFORE EVALUATION:\" in line: \n",
    "            cpu_end = eval(line.split(\":\")[-1])\n",
    "    cpu_u, cpu_k = (cpu_end[0] - cpu_init[0], cpu_end[1] - cpu_init[1])\n",
    "    return (accuracy * 100, training_time, ram_peak * 1024, (ram_peak-ram_init) * 1024, cpu_u + cpu_k)"
   ]
  },
  {
   "cell_type": "code",
   "execution_count": 5,
   "id": "personalized-workplace",
   "metadata": {},
   "outputs": [],
   "source": [
    "def calculate_metrics(files): \n",
    "    mlp_metrics = dict()\n",
    "    cnn_metrics = dict()\n",
    "    \n",
    "    for file in files: \n",
    "        arch, method, i = file.split(\"_\") \n",
    "        metrics = mlp_metrics if arch == \"mlp\" else cnn_metrics\n",
    "        \n",
    "        if method in metrics: \n",
    "            metrics[method].append(extract_metrics(file))\n",
    "        else: \n",
    "            metrics[method] = [extract_metrics(file)] \n",
    "    \n",
    "    return (mlp_metrics, cnn_metrics)"
   ]
  },
  {
   "cell_type": "code",
   "execution_count": 6,
   "id": "silver-yield",
   "metadata": {},
   "outputs": [],
   "source": [
    "def get_means(metrics): \n",
    "    return {method: [sum(x)/len(x) for x in list(zip(*metrics[method]))] for method in metrics}"
   ]
  },
  {
   "cell_type": "code",
   "execution_count": 7,
   "id": "mysterious-affect",
   "metadata": {},
   "outputs": [],
   "source": [
    "mlp_metrics, cnn_metrics = calculate_metrics(logs)\n",
    "mlp_metrics = get_means(mlp_metrics)\n",
    "cnn_metrics = get_means(cnn_metrics)"
   ]
  },
  {
   "cell_type": "markdown",
   "id": "variable-soviet",
   "metadata": {},
   "source": [
    "### 1.1. MLP Results "
   ]
  },
  {
   "cell_type": "code",
   "execution_count": 8,
   "id": "hairy-calibration",
   "metadata": {},
   "outputs": [
    {
     "data": {
      "text/html": [
       "<div>\n",
       "<style scoped>\n",
       "    .dataframe tbody tr th:only-of-type {\n",
       "        vertical-align: middle;\n",
       "    }\n",
       "\n",
       "    .dataframe tbody tr th {\n",
       "        vertical-align: top;\n",
       "    }\n",
       "\n",
       "    .dataframe thead th {\n",
       "        text-align: right;\n",
       "    }\n",
       "</style>\n",
       "<table border=\"1\" class=\"dataframe\">\n",
       "  <thead>\n",
       "    <tr style=\"text-align: right;\">\n",
       "      <th></th>\n",
       "      <th>gr</th>\n",
       "      <th>lgr</th>\n",
       "      <th>lr</th>\n",
       "      <th>nr</th>\n",
       "    </tr>\n",
       "  </thead>\n",
       "  <tbody>\n",
       "    <tr>\n",
       "      <th>Accuracy (%)</th>\n",
       "      <td>98.866667</td>\n",
       "      <td>98.813333</td>\n",
       "      <td>98.533333</td>\n",
       "      <td>98.243333</td>\n",
       "    </tr>\n",
       "    <tr>\n",
       "      <th>Training time (s)</th>\n",
       "      <td>348.033333</td>\n",
       "      <td>217.000000</td>\n",
       "      <td>48.366667</td>\n",
       "      <td>63.100000</td>\n",
       "    </tr>\n",
       "    <tr>\n",
       "      <th>Peak RAM Usage (MB)</th>\n",
       "      <td>392.031250</td>\n",
       "      <td>335.227865</td>\n",
       "      <td>330.833333</td>\n",
       "      <td>433.679688</td>\n",
       "    </tr>\n",
       "    <tr>\n",
       "      <th>Training-incurred RAM Usage (MB)</th>\n",
       "      <td>76.667969</td>\n",
       "      <td>22.424479</td>\n",
       "      <td>17.777344</td>\n",
       "      <td>122.372396</td>\n",
       "    </tr>\n",
       "    <tr>\n",
       "      <th>CPU Usage</th>\n",
       "      <td>2044.496667</td>\n",
       "      <td>1069.760000</td>\n",
       "      <td>128.480000</td>\n",
       "      <td>200.646667</td>\n",
       "    </tr>\n",
       "  </tbody>\n",
       "</table>\n",
       "</div>"
      ],
      "text/plain": [
       "                                           gr          lgr          lr  \\\n",
       "Accuracy (%)                        98.866667    98.813333   98.533333   \n",
       "Training time (s)                  348.033333   217.000000   48.366667   \n",
       "Peak RAM Usage (MB)                392.031250   335.227865  330.833333   \n",
       "Training-incurred RAM Usage (MB)    76.667969    22.424479   17.777344   \n",
       "CPU Usage                         2044.496667  1069.760000  128.480000   \n",
       "\n",
       "                                          nr  \n",
       "Accuracy (%)                       98.243333  \n",
       "Training time (s)                  63.100000  \n",
       "Peak RAM Usage (MB)               433.679688  \n",
       "Training-incurred RAM Usage (MB)  122.372396  \n",
       "CPU Usage                         200.646667  "
      ]
     },
     "execution_count": 8,
     "metadata": {},
     "output_type": "execute_result"
    }
   ],
   "source": [
    "pd.DataFrame(mlp_metrics, index=['Accuracy (%)', \n",
    "                                 'Training time (s)', \n",
    "                                 'Peak RAM Usage (MB)' , \n",
    "                                 'Training-incurred RAM Usage (MB)', \n",
    "                                 'CPU Usage'])"
   ]
  },
  {
   "cell_type": "markdown",
   "id": "centered-exhaust",
   "metadata": {},
   "source": [
    "### 1.2. CNN Results"
   ]
  },
  {
   "cell_type": "code",
   "execution_count": 9,
   "id": "nominated-principle",
   "metadata": {},
   "outputs": [
    {
     "data": {
      "text/html": [
       "<div>\n",
       "<style scoped>\n",
       "    .dataframe tbody tr th:only-of-type {\n",
       "        vertical-align: middle;\n",
       "    }\n",
       "\n",
       "    .dataframe tbody tr th {\n",
       "        vertical-align: top;\n",
       "    }\n",
       "\n",
       "    .dataframe thead th {\n",
       "        text-align: right;\n",
       "    }\n",
       "</style>\n",
       "<table border=\"1\" class=\"dataframe\">\n",
       "  <thead>\n",
       "    <tr style=\"text-align: right;\">\n",
       "      <th></th>\n",
       "      <th>gr</th>\n",
       "      <th>lgr</th>\n",
       "      <th>lr</th>\n",
       "      <th>nr</th>\n",
       "    </tr>\n",
       "  </thead>\n",
       "  <tbody>\n",
       "    <tr>\n",
       "      <th>Accuracy (%)</th>\n",
       "      <td>99.416667</td>\n",
       "      <td>99.163333</td>\n",
       "      <td>98.873333</td>\n",
       "      <td>99.046667</td>\n",
       "    </tr>\n",
       "    <tr>\n",
       "      <th>Training time (s)</th>\n",
       "      <td>431.166667</td>\n",
       "      <td>261.266667</td>\n",
       "      <td>59.700000</td>\n",
       "      <td>72.900000</td>\n",
       "    </tr>\n",
       "    <tr>\n",
       "      <th>Peak RAM Usage (MB)</th>\n",
       "      <td>393.777344</td>\n",
       "      <td>346.699219</td>\n",
       "      <td>345.536458</td>\n",
       "      <td>437.654948</td>\n",
       "    </tr>\n",
       "    <tr>\n",
       "      <th>Training-incurred RAM Usage (MB)</th>\n",
       "      <td>76.256510</td>\n",
       "      <td>29.062500</td>\n",
       "      <td>26.153646</td>\n",
       "      <td>120.955729</td>\n",
       "    </tr>\n",
       "    <tr>\n",
       "      <th>CPU Usage</th>\n",
       "      <td>2528.110000</td>\n",
       "      <td>1333.793333</td>\n",
       "      <td>196.333333</td>\n",
       "      <td>261.073333</td>\n",
       "    </tr>\n",
       "  </tbody>\n",
       "</table>\n",
       "</div>"
      ],
      "text/plain": [
       "                                           gr          lgr          lr  \\\n",
       "Accuracy (%)                        99.416667    99.163333   98.873333   \n",
       "Training time (s)                  431.166667   261.266667   59.700000   \n",
       "Peak RAM Usage (MB)                393.777344   346.699219  345.536458   \n",
       "Training-incurred RAM Usage (MB)    76.256510    29.062500   26.153646   \n",
       "CPU Usage                         2528.110000  1333.793333  196.333333   \n",
       "\n",
       "                                          nr  \n",
       "Accuracy (%)                       99.046667  \n",
       "Training time (s)                  72.900000  \n",
       "Peak RAM Usage (MB)               437.654948  \n",
       "Training-incurred RAM Usage (MB)  120.955729  \n",
       "CPU Usage                         261.073333  "
      ]
     },
     "execution_count": 9,
     "metadata": {},
     "output_type": "execute_result"
    }
   ],
   "source": [
    "pd.DataFrame(cnn_metrics, index=['Accuracy (%)', \n",
    "                                 'Training time (s)', \n",
    "                                 'Peak RAM Usage (MB)' , \n",
    "                                 'Training-incurred RAM Usage (MB)', \n",
    "                                 'CPU Usage'])"
   ]
  },
  {
   "cell_type": "markdown",
   "id": "forty-walter",
   "metadata": {},
   "source": [
    "## 2. Class-IL + no-GPU  "
   ]
  },
  {
   "cell_type": "code",
   "execution_count": 10,
   "id": "formal-medicare",
   "metadata": {},
   "outputs": [
    {
     "name": "stdout",
     "output_type": "stream",
     "text": [
      "/Users/samuilstoychev/Desktop/research_project_repo/research_project/experiments/mnist/2021-04-16-21-35/class_nogpu_fi\n"
     ]
    }
   ],
   "source": [
    "%cd ~/Desktop/research_project_repo/research_project/experiments/mnist/2021-04-16-21-35/class_nogpu_fi/"
   ]
  },
  {
   "cell_type": "code",
   "execution_count": 11,
   "id": "increased-hollywood",
   "metadata": {},
   "outputs": [],
   "source": [
    "logs = !ls"
   ]
  },
  {
   "cell_type": "code",
   "execution_count": 19,
   "id": "australian-bacon",
   "metadata": {},
   "outputs": [],
   "source": [
    "mlp_metrics, cnn_metrics = calculate_metrics(logs)\n",
    "mlp_metrics = get_means(mlp_metrics)\n",
    "cnn_metrics = get_means(cnn_metrics)"
   ]
  },
  {
   "cell_type": "markdown",
   "id": "premium-coach",
   "metadata": {},
   "source": [
    "### 2.1. MLP Results"
   ]
  },
  {
   "cell_type": "code",
   "execution_count": 13,
   "id": "ideal-mobile",
   "metadata": {},
   "outputs": [
    {
     "data": {
      "text/html": [
       "<div>\n",
       "<style scoped>\n",
       "    .dataframe tbody tr th:only-of-type {\n",
       "        vertical-align: middle;\n",
       "    }\n",
       "\n",
       "    .dataframe tbody tr th {\n",
       "        vertical-align: top;\n",
       "    }\n",
       "\n",
       "    .dataframe thead th {\n",
       "        text-align: right;\n",
       "    }\n",
       "</style>\n",
       "<table border=\"1\" class=\"dataframe\">\n",
       "  <thead>\n",
       "    <tr style=\"text-align: right;\">\n",
       "      <th></th>\n",
       "      <th>gr</th>\n",
       "      <th>lgr</th>\n",
       "      <th>lr</th>\n",
       "      <th>nr</th>\n",
       "    </tr>\n",
       "  </thead>\n",
       "  <tbody>\n",
       "    <tr>\n",
       "      <th>Accuracy (%)</th>\n",
       "      <td>93.960000</td>\n",
       "      <td>94.453333</td>\n",
       "      <td>94.630000</td>\n",
       "      <td>94.623333</td>\n",
       "    </tr>\n",
       "    <tr>\n",
       "      <th>Training time (s)</th>\n",
       "      <td>716.800000</td>\n",
       "      <td>477.733333</td>\n",
       "      <td>92.733333</td>\n",
       "      <td>119.866667</td>\n",
       "    </tr>\n",
       "    <tr>\n",
       "      <th>Peak RAM Usage (MB)</th>\n",
       "      <td>399.501302</td>\n",
       "      <td>351.279948</td>\n",
       "      <td>338.697917</td>\n",
       "      <td>520.505208</td>\n",
       "    </tr>\n",
       "    <tr>\n",
       "      <th>Training-incurred RAM Usage (MB)</th>\n",
       "      <td>83.274740</td>\n",
       "      <td>35.343750</td>\n",
       "      <td>24.444010</td>\n",
       "      <td>207.837240</td>\n",
       "    </tr>\n",
       "    <tr>\n",
       "      <th>CPU Usage</th>\n",
       "      <td>4177.193333</td>\n",
       "      <td>2402.776667</td>\n",
       "      <td>250.920000</td>\n",
       "      <td>381.146667</td>\n",
       "    </tr>\n",
       "  </tbody>\n",
       "</table>\n",
       "</div>"
      ],
      "text/plain": [
       "                                           gr          lgr          lr  \\\n",
       "Accuracy (%)                        93.960000    94.453333   94.630000   \n",
       "Training time (s)                  716.800000   477.733333   92.733333   \n",
       "Peak RAM Usage (MB)                399.501302   351.279948  338.697917   \n",
       "Training-incurred RAM Usage (MB)    83.274740    35.343750   24.444010   \n",
       "CPU Usage                         4177.193333  2402.776667  250.920000   \n",
       "\n",
       "                                          nr  \n",
       "Accuracy (%)                       94.623333  \n",
       "Training time (s)                 119.866667  \n",
       "Peak RAM Usage (MB)               520.505208  \n",
       "Training-incurred RAM Usage (MB)  207.837240  \n",
       "CPU Usage                         381.146667  "
      ]
     },
     "execution_count": 13,
     "metadata": {},
     "output_type": "execute_result"
    }
   ],
   "source": [
    "pd.DataFrame(mlp_metrics, index=['Accuracy (%)', \n",
    "                                 'Training time (s)', \n",
    "                                 'Peak RAM Usage (MB)' , \n",
    "                                 'Training-incurred RAM Usage (MB)', \n",
    "                                 'CPU Usage'])"
   ]
  },
  {
   "cell_type": "markdown",
   "id": "ecological-blues",
   "metadata": {},
   "source": [
    "### 2.2. CNN Results"
   ]
  },
  {
   "cell_type": "code",
   "execution_count": 15,
   "id": "processed-ecuador",
   "metadata": {},
   "outputs": [
    {
     "data": {
      "text/html": [
       "<div>\n",
       "<style scoped>\n",
       "    .dataframe tbody tr th:only-of-type {\n",
       "        vertical-align: middle;\n",
       "    }\n",
       "\n",
       "    .dataframe tbody tr th {\n",
       "        vertical-align: top;\n",
       "    }\n",
       "\n",
       "    .dataframe thead th {\n",
       "        text-align: right;\n",
       "    }\n",
       "</style>\n",
       "<table border=\"1\" class=\"dataframe\">\n",
       "  <thead>\n",
       "    <tr style=\"text-align: right;\">\n",
       "      <th></th>\n",
       "      <th>gr</th>\n",
       "      <th>lgr</th>\n",
       "      <th>lr</th>\n",
       "      <th>nr</th>\n",
       "    </tr>\n",
       "  </thead>\n",
       "  <tbody>\n",
       "    <tr>\n",
       "      <th>Accuracy (%)</th>\n",
       "      <td>95.336667</td>\n",
       "      <td>91.846667</td>\n",
       "      <td>94.706667</td>\n",
       "      <td>96.323333</td>\n",
       "    </tr>\n",
       "    <tr>\n",
       "      <th>Training time (s)</th>\n",
       "      <td>1737.233333</td>\n",
       "      <td>1150.266667</td>\n",
       "      <td>246.166667</td>\n",
       "      <td>295.900000</td>\n",
       "    </tr>\n",
       "    <tr>\n",
       "      <th>Peak RAM Usage (MB)</th>\n",
       "      <td>421.968750</td>\n",
       "      <td>390.622396</td>\n",
       "      <td>354.044271</td>\n",
       "      <td>526.897135</td>\n",
       "    </tr>\n",
       "    <tr>\n",
       "      <th>Training-incurred RAM Usage (MB)</th>\n",
       "      <td>103.963542</td>\n",
       "      <td>72.972656</td>\n",
       "      <td>36.796875</td>\n",
       "      <td>209.287760</td>\n",
       "    </tr>\n",
       "    <tr>\n",
       "      <th>CPU Usage</th>\n",
       "      <td>10111.653333</td>\n",
       "      <td>5878.880000</td>\n",
       "      <td>810.190000</td>\n",
       "      <td>1055.026667</td>\n",
       "    </tr>\n",
       "  </tbody>\n",
       "</table>\n",
       "</div>"
      ],
      "text/plain": [
       "                                            gr          lgr          lr  \\\n",
       "Accuracy (%)                         95.336667    91.846667   94.706667   \n",
       "Training time (s)                  1737.233333  1150.266667  246.166667   \n",
       "Peak RAM Usage (MB)                 421.968750   390.622396  354.044271   \n",
       "Training-incurred RAM Usage (MB)    103.963542    72.972656   36.796875   \n",
       "CPU Usage                         10111.653333  5878.880000  810.190000   \n",
       "\n",
       "                                           nr  \n",
       "Accuracy (%)                        96.323333  \n",
       "Training time (s)                  295.900000  \n",
       "Peak RAM Usage (MB)                526.897135  \n",
       "Training-incurred RAM Usage (MB)   209.287760  \n",
       "CPU Usage                         1055.026667  "
      ]
     },
     "execution_count": 15,
     "metadata": {},
     "output_type": "execute_result"
    }
   ],
   "source": [
    "pd.DataFrame(cnn_metrics, index=['Accuracy (%)', \n",
    "                                 'Training time (s)', \n",
    "                                 'Peak RAM Usage (MB)' , \n",
    "                                 'Training-incurred RAM Usage (MB)', \n",
    "                                 'CPU Usage'])"
   ]
  },
  {
   "cell_type": "code",
   "execution_count": null,
   "id": "changing-tiger",
   "metadata": {},
   "outputs": [],
   "source": []
  },
  {
   "cell_type": "code",
   "execution_count": null,
   "id": "amended-challenge",
   "metadata": {},
   "outputs": [],
   "source": [
    "!ls"
   ]
  }
 ],
 "metadata": {
  "kernelspec": {
   "display_name": "Python 3",
   "language": "python",
   "name": "python3"
  },
  "language_info": {
   "codemirror_mode": {
    "name": "ipython",
    "version": 3
   },
   "file_extension": ".py",
   "mimetype": "text/x-python",
   "name": "python",
   "nbconvert_exporter": "python",
   "pygments_lexer": "ipython3",
   "version": "3.7.9"
  }
 },
 "nbformat": 4,
 "nbformat_minor": 5
}
