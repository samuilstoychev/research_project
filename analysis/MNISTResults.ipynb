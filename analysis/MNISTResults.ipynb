{
 "cells": [
  {
   "cell_type": "code",
   "execution_count": 1,
   "metadata": {},
   "outputs": [],
   "source": [
    "import matplotlib.pyplot as plt\n",
    "import numpy as np\n",
    "import pandas as pd"
   ]
  },
  {
   "cell_type": "markdown",
   "metadata": {},
   "source": [
    "# MNIST Results"
   ]
  },
  {
   "cell_type": "markdown",
   "metadata": {},
   "source": [
    "## 1. Task-IL + no-GPU  "
   ]
  },
  {
   "cell_type": "code",
   "execution_count": 2,
   "metadata": {},
   "outputs": [
    {
     "name": "stdout",
     "output_type": "stream",
     "text": [
      "/Users/samuilstoychev/Desktop/research_project_repo/research_project/experiments/mnist/2021-04-16-18-09/task_nogpu_fi\n"
     ]
    }
   ],
   "source": [
    "%cd ~/Desktop/research_project_repo/research_project/experiments/mnist/2021-04-16-18-09/task_nogpu_fi"
   ]
  },
  {
   "cell_type": "code",
   "execution_count": 3,
   "metadata": {
    "scrolled": true
   },
   "outputs": [],
   "source": [
    "logs = !ls"
   ]
  },
  {
   "cell_type": "code",
   "execution_count": 4,
   "metadata": {},
   "outputs": [],
   "source": [
    "def extract_metrics(filename): \n",
    "    f = open(filename, 'r')\n",
    "    lines = f.readlines() \n",
    "    ram_init = None\n",
    "    ram_peak = None\n",
    "    cpu_init = None \n",
    "    cpu_end = None \n",
    "    for line in lines: \n",
    "        if \"=> Average precision\" in line: \n",
    "            accuracy = float(line.split(\" \")[-1])\n",
    "        if \"=> Total training time\" in line: \n",
    "            training_time = float(line.split(\" \")[-2])\n",
    "        if \"RAM BEFORE TRAINING:\" in line: \n",
    "            ram_init = float(line.split(\" \")[-1])\n",
    "        if \"PEAK TRAINING RAM:\" in line: \n",
    "            ram_peak = float(line.split(\" \")[-1])\n",
    "        if \"CPU BEFORE TRAINING:\" in line: \n",
    "            cpu_init = eval(line.split(\":\")[-1])\n",
    "        if \"CPU BEFORE EVALUATION:\" in line: \n",
    "            cpu_end = eval(line.split(\":\")[-1])\n",
    "    cpu_u, cpu_k = (cpu_end[0] - cpu_init[0], cpu_end[1] - cpu_init[1])\n",
    "    return (accuracy * 100, training_time, ram_peak * 1024, (ram_peak-ram_init) * 1024, cpu_u + cpu_k)"
   ]
  },
  {
   "cell_type": "code",
   "execution_count": 5,
   "metadata": {},
   "outputs": [],
   "source": [
    "def calculate_metrics(files): \n",
    "    mlp_metrics = dict()\n",
    "    cnn_metrics = dict()\n",
    "    \n",
    "    for file in files: \n",
    "        arch, method, i = file.split(\"_\") \n",
    "        metrics = mlp_metrics if arch == \"mlp\" else cnn_metrics\n",
    "        \n",
    "        if method in metrics: \n",
    "            metrics[method].append(extract_metrics(file))\n",
    "        else: \n",
    "            metrics[method] = [extract_metrics(file)] \n",
    "    \n",
    "    return (mlp_metrics, cnn_metrics)"
   ]
  },
  {
   "cell_type": "code",
   "execution_count": 6,
   "metadata": {},
   "outputs": [],
   "source": [
    "def get_means(metrics): \n",
    "    return {method: [sum(x)/len(x) for x in list(zip(*metrics[method]))] for method in metrics}"
   ]
  },
  {
   "cell_type": "code",
   "execution_count": 7,
   "metadata": {},
   "outputs": [],
   "source": [
    "mlp_metrics, cnn_metrics = calculate_metrics(logs)\n",
    "mlp_metrics = get_means(mlp_metrics)\n",
    "cnn_metrics = get_means(cnn_metrics)"
   ]
  },
  {
   "cell_type": "markdown",
   "metadata": {},
   "source": [
    "### 1.1. MLP Results "
   ]
  },
  {
   "cell_type": "code",
   "execution_count": 8,
   "metadata": {},
   "outputs": [
    {
     "data": {
      "text/html": [
       "<div>\n",
       "<style scoped>\n",
       "    .dataframe tbody tr th:only-of-type {\n",
       "        vertical-align: middle;\n",
       "    }\n",
       "\n",
       "    .dataframe tbody tr th {\n",
       "        vertical-align: top;\n",
       "    }\n",
       "\n",
       "    .dataframe thead th {\n",
       "        text-align: right;\n",
       "    }\n",
       "</style>\n",
       "<table border=\"1\" class=\"dataframe\">\n",
       "  <thead>\n",
       "    <tr style=\"text-align: right;\">\n",
       "      <th></th>\n",
       "      <th>gr</th>\n",
       "      <th>lgr</th>\n",
       "      <th>lr</th>\n",
       "      <th>nr</th>\n",
       "    </tr>\n",
       "  </thead>\n",
       "  <tbody>\n",
       "    <tr>\n",
       "      <td>Accuracy (%)</td>\n",
       "      <td>98.866667</td>\n",
       "      <td>98.813333</td>\n",
       "      <td>98.533333</td>\n",
       "      <td>98.243333</td>\n",
       "    </tr>\n",
       "    <tr>\n",
       "      <td>Training time (s)</td>\n",
       "      <td>348.033333</td>\n",
       "      <td>217.000000</td>\n",
       "      <td>48.366667</td>\n",
       "      <td>63.100000</td>\n",
       "    </tr>\n",
       "    <tr>\n",
       "      <td>Peak RAM Usage (MB)</td>\n",
       "      <td>392.031250</td>\n",
       "      <td>335.227865</td>\n",
       "      <td>330.833333</td>\n",
       "      <td>433.679688</td>\n",
       "    </tr>\n",
       "    <tr>\n",
       "      <td>Training-incurred RAM Usage (MB)</td>\n",
       "      <td>76.667969</td>\n",
       "      <td>22.424479</td>\n",
       "      <td>17.777344</td>\n",
       "      <td>122.372396</td>\n",
       "    </tr>\n",
       "    <tr>\n",
       "      <td>CPU Usage</td>\n",
       "      <td>2044.496667</td>\n",
       "      <td>1069.760000</td>\n",
       "      <td>128.480000</td>\n",
       "      <td>200.646667</td>\n",
       "    </tr>\n",
       "  </tbody>\n",
       "</table>\n",
       "</div>"
      ],
      "text/plain": [
       "                                           gr          lgr          lr  \\\n",
       "Accuracy (%)                        98.866667    98.813333   98.533333   \n",
       "Training time (s)                  348.033333   217.000000   48.366667   \n",
       "Peak RAM Usage (MB)                392.031250   335.227865  330.833333   \n",
       "Training-incurred RAM Usage (MB)    76.667969    22.424479   17.777344   \n",
       "CPU Usage                         2044.496667  1069.760000  128.480000   \n",
       "\n",
       "                                          nr  \n",
       "Accuracy (%)                       98.243333  \n",
       "Training time (s)                  63.100000  \n",
       "Peak RAM Usage (MB)               433.679688  \n",
       "Training-incurred RAM Usage (MB)  122.372396  \n",
       "CPU Usage                         200.646667  "
      ]
     },
     "execution_count": 8,
     "metadata": {},
     "output_type": "execute_result"
    }
   ],
   "source": [
    "pd.DataFrame(mlp_metrics, index=['Accuracy (%)', \n",
    "                                 'Training time (s)', \n",
    "                                 'Peak RAM Usage (MB)' , \n",
    "                                 'Training-incurred RAM Usage (MB)', \n",
    "                                 'CPU Usage'])"
   ]
  },
  {
   "cell_type": "markdown",
   "metadata": {},
   "source": [
    "### 1.2. CNN Results"
   ]
  },
  {
   "cell_type": "code",
   "execution_count": 9,
   "metadata": {},
   "outputs": [
    {
     "data": {
      "text/html": [
       "<div>\n",
       "<style scoped>\n",
       "    .dataframe tbody tr th:only-of-type {\n",
       "        vertical-align: middle;\n",
       "    }\n",
       "\n",
       "    .dataframe tbody tr th {\n",
       "        vertical-align: top;\n",
       "    }\n",
       "\n",
       "    .dataframe thead th {\n",
       "        text-align: right;\n",
       "    }\n",
       "</style>\n",
       "<table border=\"1\" class=\"dataframe\">\n",
       "  <thead>\n",
       "    <tr style=\"text-align: right;\">\n",
       "      <th></th>\n",
       "      <th>gr</th>\n",
       "      <th>lgr</th>\n",
       "      <th>lr</th>\n",
       "      <th>nr</th>\n",
       "    </tr>\n",
       "  </thead>\n",
       "  <tbody>\n",
       "    <tr>\n",
       "      <td>Accuracy (%)</td>\n",
       "      <td>99.416667</td>\n",
       "      <td>99.163333</td>\n",
       "      <td>98.873333</td>\n",
       "      <td>99.046667</td>\n",
       "    </tr>\n",
       "    <tr>\n",
       "      <td>Training time (s)</td>\n",
       "      <td>431.166667</td>\n",
       "      <td>261.266667</td>\n",
       "      <td>59.700000</td>\n",
       "      <td>72.900000</td>\n",
       "    </tr>\n",
       "    <tr>\n",
       "      <td>Peak RAM Usage (MB)</td>\n",
       "      <td>393.777344</td>\n",
       "      <td>346.699219</td>\n",
       "      <td>345.536458</td>\n",
       "      <td>437.654948</td>\n",
       "    </tr>\n",
       "    <tr>\n",
       "      <td>Training-incurred RAM Usage (MB)</td>\n",
       "      <td>76.256510</td>\n",
       "      <td>29.062500</td>\n",
       "      <td>26.153646</td>\n",
       "      <td>120.955729</td>\n",
       "    </tr>\n",
       "    <tr>\n",
       "      <td>CPU Usage</td>\n",
       "      <td>2528.110000</td>\n",
       "      <td>1333.793333</td>\n",
       "      <td>196.333333</td>\n",
       "      <td>261.073333</td>\n",
       "    </tr>\n",
       "  </tbody>\n",
       "</table>\n",
       "</div>"
      ],
      "text/plain": [
       "                                           gr          lgr          lr  \\\n",
       "Accuracy (%)                        99.416667    99.163333   98.873333   \n",
       "Training time (s)                  431.166667   261.266667   59.700000   \n",
       "Peak RAM Usage (MB)                393.777344   346.699219  345.536458   \n",
       "Training-incurred RAM Usage (MB)    76.256510    29.062500   26.153646   \n",
       "CPU Usage                         2528.110000  1333.793333  196.333333   \n",
       "\n",
       "                                          nr  \n",
       "Accuracy (%)                       99.046667  \n",
       "Training time (s)                  72.900000  \n",
       "Peak RAM Usage (MB)               437.654948  \n",
       "Training-incurred RAM Usage (MB)  120.955729  \n",
       "CPU Usage                         261.073333  "
      ]
     },
     "execution_count": 9,
     "metadata": {},
     "output_type": "execute_result"
    }
   ],
   "source": [
    "pd.DataFrame(cnn_metrics, index=['Accuracy (%)', \n",
    "                                 'Training time (s)', \n",
    "                                 'Peak RAM Usage (MB)' , \n",
    "                                 'Training-incurred RAM Usage (MB)', \n",
    "                                 'CPU Usage'])"
   ]
  },
  {
   "cell_type": "markdown",
   "metadata": {},
   "source": [
    "## 2. Class-IL + no-GPU  "
   ]
  },
  {
   "cell_type": "code",
   "execution_count": 10,
   "metadata": {},
   "outputs": [
    {
     "name": "stdout",
     "output_type": "stream",
     "text": [
      "/Users/samuilstoychev/Desktop/research_project_repo/research_project/experiments/mnist/2021-04-16-21-35/class_nogpu_fi\n"
     ]
    }
   ],
   "source": [
    "%cd ~/Desktop/research_project_repo/research_project/experiments/mnist/2021-04-16-21-35/class_nogpu_fi/"
   ]
  },
  {
   "cell_type": "code",
   "execution_count": 11,
   "metadata": {},
   "outputs": [],
   "source": [
    "logs = !ls"
   ]
  },
  {
   "cell_type": "code",
   "execution_count": 12,
   "metadata": {},
   "outputs": [],
   "source": [
    "mlp_metrics, cnn_metrics = calculate_metrics(logs)\n",
    "mlp_metrics = get_means(mlp_metrics)\n",
    "cnn_metrics = get_means(cnn_metrics)"
   ]
  },
  {
   "cell_type": "markdown",
   "metadata": {},
   "source": [
    "### 2.1. MLP Results"
   ]
  },
  {
   "cell_type": "code",
   "execution_count": 13,
   "metadata": {},
   "outputs": [
    {
     "data": {
      "text/html": [
       "<div>\n",
       "<style scoped>\n",
       "    .dataframe tbody tr th:only-of-type {\n",
       "        vertical-align: middle;\n",
       "    }\n",
       "\n",
       "    .dataframe tbody tr th {\n",
       "        vertical-align: top;\n",
       "    }\n",
       "\n",
       "    .dataframe thead th {\n",
       "        text-align: right;\n",
       "    }\n",
       "</style>\n",
       "<table border=\"1\" class=\"dataframe\">\n",
       "  <thead>\n",
       "    <tr style=\"text-align: right;\">\n",
       "      <th></th>\n",
       "      <th>gr</th>\n",
       "      <th>lgr</th>\n",
       "      <th>lr</th>\n",
       "      <th>nr</th>\n",
       "    </tr>\n",
       "  </thead>\n",
       "  <tbody>\n",
       "    <tr>\n",
       "      <td>Accuracy (%)</td>\n",
       "      <td>93.960000</td>\n",
       "      <td>94.453333</td>\n",
       "      <td>94.630000</td>\n",
       "      <td>94.623333</td>\n",
       "    </tr>\n",
       "    <tr>\n",
       "      <td>Training time (s)</td>\n",
       "      <td>716.800000</td>\n",
       "      <td>477.733333</td>\n",
       "      <td>92.733333</td>\n",
       "      <td>119.866667</td>\n",
       "    </tr>\n",
       "    <tr>\n",
       "      <td>Peak RAM Usage (MB)</td>\n",
       "      <td>399.501302</td>\n",
       "      <td>351.279948</td>\n",
       "      <td>338.697917</td>\n",
       "      <td>520.505208</td>\n",
       "    </tr>\n",
       "    <tr>\n",
       "      <td>Training-incurred RAM Usage (MB)</td>\n",
       "      <td>83.274740</td>\n",
       "      <td>35.343750</td>\n",
       "      <td>24.444010</td>\n",
       "      <td>207.837240</td>\n",
       "    </tr>\n",
       "    <tr>\n",
       "      <td>CPU Usage</td>\n",
       "      <td>4177.193333</td>\n",
       "      <td>2402.776667</td>\n",
       "      <td>250.920000</td>\n",
       "      <td>381.146667</td>\n",
       "    </tr>\n",
       "  </tbody>\n",
       "</table>\n",
       "</div>"
      ],
      "text/plain": [
       "                                           gr          lgr          lr  \\\n",
       "Accuracy (%)                        93.960000    94.453333   94.630000   \n",
       "Training time (s)                  716.800000   477.733333   92.733333   \n",
       "Peak RAM Usage (MB)                399.501302   351.279948  338.697917   \n",
       "Training-incurred RAM Usage (MB)    83.274740    35.343750   24.444010   \n",
       "CPU Usage                         4177.193333  2402.776667  250.920000   \n",
       "\n",
       "                                          nr  \n",
       "Accuracy (%)                       94.623333  \n",
       "Training time (s)                 119.866667  \n",
       "Peak RAM Usage (MB)               520.505208  \n",
       "Training-incurred RAM Usage (MB)  207.837240  \n",
       "CPU Usage                         381.146667  "
      ]
     },
     "execution_count": 13,
     "metadata": {},
     "output_type": "execute_result"
    }
   ],
   "source": [
    "pd.DataFrame(mlp_metrics, index=['Accuracy (%)', \n",
    "                                 'Training time (s)', \n",
    "                                 'Peak RAM Usage (MB)' , \n",
    "                                 'Training-incurred RAM Usage (MB)', \n",
    "                                 'CPU Usage'])"
   ]
  },
  {
   "cell_type": "markdown",
   "metadata": {},
   "source": [
    "### 2.2. CNN Results"
   ]
  },
  {
   "cell_type": "code",
   "execution_count": 14,
   "metadata": {},
   "outputs": [
    {
     "data": {
      "text/html": [
       "<div>\n",
       "<style scoped>\n",
       "    .dataframe tbody tr th:only-of-type {\n",
       "        vertical-align: middle;\n",
       "    }\n",
       "\n",
       "    .dataframe tbody tr th {\n",
       "        vertical-align: top;\n",
       "    }\n",
       "\n",
       "    .dataframe thead th {\n",
       "        text-align: right;\n",
       "    }\n",
       "</style>\n",
       "<table border=\"1\" class=\"dataframe\">\n",
       "  <thead>\n",
       "    <tr style=\"text-align: right;\">\n",
       "      <th></th>\n",
       "      <th>gr</th>\n",
       "      <th>lgr</th>\n",
       "      <th>lr</th>\n",
       "      <th>nr</th>\n",
       "    </tr>\n",
       "  </thead>\n",
       "  <tbody>\n",
       "    <tr>\n",
       "      <td>Accuracy (%)</td>\n",
       "      <td>95.336667</td>\n",
       "      <td>91.846667</td>\n",
       "      <td>94.706667</td>\n",
       "      <td>96.323333</td>\n",
       "    </tr>\n",
       "    <tr>\n",
       "      <td>Training time (s)</td>\n",
       "      <td>1737.233333</td>\n",
       "      <td>1150.266667</td>\n",
       "      <td>246.166667</td>\n",
       "      <td>295.900000</td>\n",
       "    </tr>\n",
       "    <tr>\n",
       "      <td>Peak RAM Usage (MB)</td>\n",
       "      <td>421.968750</td>\n",
       "      <td>390.622396</td>\n",
       "      <td>354.044271</td>\n",
       "      <td>526.897135</td>\n",
       "    </tr>\n",
       "    <tr>\n",
       "      <td>Training-incurred RAM Usage (MB)</td>\n",
       "      <td>103.963542</td>\n",
       "      <td>72.972656</td>\n",
       "      <td>36.796875</td>\n",
       "      <td>209.287760</td>\n",
       "    </tr>\n",
       "    <tr>\n",
       "      <td>CPU Usage</td>\n",
       "      <td>10111.653333</td>\n",
       "      <td>5878.880000</td>\n",
       "      <td>810.190000</td>\n",
       "      <td>1055.026667</td>\n",
       "    </tr>\n",
       "  </tbody>\n",
       "</table>\n",
       "</div>"
      ],
      "text/plain": [
       "                                            gr          lgr          lr  \\\n",
       "Accuracy (%)                         95.336667    91.846667   94.706667   \n",
       "Training time (s)                  1737.233333  1150.266667  246.166667   \n",
       "Peak RAM Usage (MB)                 421.968750   390.622396  354.044271   \n",
       "Training-incurred RAM Usage (MB)    103.963542    72.972656   36.796875   \n",
       "CPU Usage                         10111.653333  5878.880000  810.190000   \n",
       "\n",
       "                                           nr  \n",
       "Accuracy (%)                        96.323333  \n",
       "Training time (s)                  295.900000  \n",
       "Peak RAM Usage (MB)                526.897135  \n",
       "Training-incurred RAM Usage (MB)   209.287760  \n",
       "CPU Usage                         1055.026667  "
      ]
     },
     "execution_count": 14,
     "metadata": {},
     "output_type": "execute_result"
    }
   ],
   "source": [
    "pd.DataFrame(cnn_metrics, index=['Accuracy (%)', \n",
    "                                 'Training time (s)', \n",
    "                                 'Peak RAM Usage (MB)' , \n",
    "                                 'Training-incurred RAM Usage (MB)', \n",
    "                                 'CPU Usage'])"
   ]
  },
  {
   "cell_type": "markdown",
   "metadata": {},
   "source": [
    "## 3. Task-IL + GPU"
   ]
  },
  {
   "cell_type": "code",
   "execution_count": 15,
   "metadata": {},
   "outputs": [
    {
     "name": "stdout",
     "output_type": "stream",
     "text": [
      "/Users/samuilstoychev/Desktop/research_project_repo/research_project/experiments/mnist/2021-04-17-19-24/task_gpu_fi\n"
     ]
    }
   ],
   "source": [
    "%cd ~/Desktop/research_project_repo/research_project/experiments/mnist/2021-04-17-19-24/task_gpu_fi/"
   ]
  },
  {
   "cell_type": "code",
   "execution_count": 16,
   "metadata": {},
   "outputs": [],
   "source": [
    "logs = !ls"
   ]
  },
  {
   "cell_type": "code",
   "execution_count": 17,
   "metadata": {},
   "outputs": [],
   "source": [
    "def extract_metrics_gpu(filename): \n",
    "    f = open(filename, 'r')\n",
    "    lines = f.readlines() \n",
    "    ram_init = None\n",
    "    ram_peak = None\n",
    "    cpu_init = None \n",
    "    cpu_end = None \n",
    "    for line in lines: \n",
    "        if \"=> Average precision\" in line: \n",
    "            accuracy = float(line.split(\" \")[-1])\n",
    "        if \"=> Total training time\" in line: \n",
    "            training_time = float(line.split(\" \")[-2])\n",
    "        if \"RAM BEFORE TRAINING:\" in line: \n",
    "            ram_init = float(line.split(\" \")[-1])\n",
    "        if \"PEAK TRAINING RAM:\" in line: \n",
    "            ram_peak = float(line.split(\" \")[-1])\n",
    "        if \"CPU BEFORE TRAINING:\" in line: \n",
    "            cpu_init = eval(line.split(\":\")[-1])\n",
    "        if \"CPU BEFORE EVALUATION:\" in line: \n",
    "            cpu_end = eval(line.split(\":\")[-1])\n",
    "        if \"GPU BEFORE EVALUATION:\" in line: \n",
    "            gpu_u, gpu_mem = eval(line.split(\":\")[-1])\n",
    "        \n",
    "    cpu_u, cpu_k = (cpu_end[0] - cpu_init[0], cpu_end[1] - cpu_init[1])\n",
    "    return (accuracy * 100, training_time, ram_peak * 1024, (ram_peak-ram_init) * 1024, cpu_u + cpu_k, gpu_u, gpu_mem)"
   ]
  },
  {
   "cell_type": "code",
   "execution_count": 18,
   "metadata": {},
   "outputs": [],
   "source": [
    "def calculate_metrics_gpu(files): \n",
    "    mlp_metrics = dict()\n",
    "    cnn_metrics = dict()\n",
    "    \n",
    "    for file in files: \n",
    "        arch, method, i = file.split(\"_\") \n",
    "        metrics = mlp_metrics if arch == \"mlp\" else cnn_metrics\n",
    "        \n",
    "        if method in metrics: \n",
    "            metrics[method].append(extract_metrics_gpu(file))\n",
    "        else: \n",
    "            metrics[method] = [extract_metrics_gpu(file)] \n",
    "    \n",
    "    return (mlp_metrics, cnn_metrics)"
   ]
  },
  {
   "cell_type": "code",
   "execution_count": 19,
   "metadata": {},
   "outputs": [],
   "source": [
    "def get_means(metrics): \n",
    "    return {method: [sum(x)/len(x) for x in list(zip(*metrics[method]))] for method in metrics}"
   ]
  },
  {
   "cell_type": "code",
   "execution_count": 20,
   "metadata": {},
   "outputs": [],
   "source": [
    "mlp_metrics, cnn_metrics = calculate_metrics_gpu(logs)\n",
    "mlp_metrics = get_means(mlp_metrics)\n",
    "cnn_metrics = get_means(cnn_metrics)"
   ]
  },
  {
   "cell_type": "markdown",
   "metadata": {},
   "source": [
    "### 3.1. MLP Results"
   ]
  },
  {
   "cell_type": "code",
   "execution_count": 21,
   "metadata": {},
   "outputs": [
    {
     "data": {
      "text/html": [
       "<div>\n",
       "<style scoped>\n",
       "    .dataframe tbody tr th:only-of-type {\n",
       "        vertical-align: middle;\n",
       "    }\n",
       "\n",
       "    .dataframe tbody tr th {\n",
       "        vertical-align: top;\n",
       "    }\n",
       "\n",
       "    .dataframe thead th {\n",
       "        text-align: right;\n",
       "    }\n",
       "</style>\n",
       "<table border=\"1\" class=\"dataframe\">\n",
       "  <thead>\n",
       "    <tr style=\"text-align: right;\">\n",
       "      <th></th>\n",
       "      <th>gr</th>\n",
       "      <th>lgr</th>\n",
       "      <th>lr</th>\n",
       "      <th>nr</th>\n",
       "    </tr>\n",
       "  </thead>\n",
       "  <tbody>\n",
       "    <tr>\n",
       "      <td>Accuracy (%)</td>\n",
       "      <td>99.136667</td>\n",
       "      <td>99.073333</td>\n",
       "      <td>98.633333</td>\n",
       "      <td>98.790000</td>\n",
       "    </tr>\n",
       "    <tr>\n",
       "      <td>Training time (s)</td>\n",
       "      <td>60.900000</td>\n",
       "      <td>60.866667</td>\n",
       "      <td>43.166667</td>\n",
       "      <td>44.366667</td>\n",
       "    </tr>\n",
       "    <tr>\n",
       "      <td>Peak RAM Usage (MB)</td>\n",
       "      <td>2309.666667</td>\n",
       "      <td>2309.842448</td>\n",
       "      <td>2311.101562</td>\n",
       "      <td>2312.420573</td>\n",
       "    </tr>\n",
       "    <tr>\n",
       "      <td>Training-incurred RAM Usage (MB)</td>\n",
       "      <td>2.348958</td>\n",
       "      <td>2.800781</td>\n",
       "      <td>3.496094</td>\n",
       "      <td>1.869792</td>\n",
       "    </tr>\n",
       "    <tr>\n",
       "      <td>CPU Usage</td>\n",
       "      <td>90.716667</td>\n",
       "      <td>89.833333</td>\n",
       "      <td>71.780000</td>\n",
       "      <td>73.006667</td>\n",
       "    </tr>\n",
       "    <tr>\n",
       "      <td>GPU Usage</td>\n",
       "      <td>13.428571</td>\n",
       "      <td>8.873016</td>\n",
       "      <td>3.533333</td>\n",
       "      <td>6.000000</td>\n",
       "    </tr>\n",
       "    <tr>\n",
       "      <td>GPU Memory Consumption</td>\n",
       "      <td>60.000000</td>\n",
       "      <td>6.000000</td>\n",
       "      <td>12.000000</td>\n",
       "      <td>90.666667</td>\n",
       "    </tr>\n",
       "  </tbody>\n",
       "</table>\n",
       "</div>"
      ],
      "text/plain": [
       "                                           gr          lgr           lr  \\\n",
       "Accuracy (%)                        99.136667    99.073333    98.633333   \n",
       "Training time (s)                   60.900000    60.866667    43.166667   \n",
       "Peak RAM Usage (MB)               2309.666667  2309.842448  2311.101562   \n",
       "Training-incurred RAM Usage (MB)     2.348958     2.800781     3.496094   \n",
       "CPU Usage                           90.716667    89.833333    71.780000   \n",
       "GPU Usage                           13.428571     8.873016     3.533333   \n",
       "GPU Memory Consumption              60.000000     6.000000    12.000000   \n",
       "\n",
       "                                           nr  \n",
       "Accuracy (%)                        98.790000  \n",
       "Training time (s)                   44.366667  \n",
       "Peak RAM Usage (MB)               2312.420573  \n",
       "Training-incurred RAM Usage (MB)     1.869792  \n",
       "CPU Usage                           73.006667  \n",
       "GPU Usage                            6.000000  \n",
       "GPU Memory Consumption              90.666667  "
      ]
     },
     "execution_count": 21,
     "metadata": {},
     "output_type": "execute_result"
    }
   ],
   "source": [
    "pd.DataFrame(mlp_metrics, index=['Accuracy (%)', \n",
    "                                 'Training time (s)', \n",
    "                                 'Peak RAM Usage (MB)' , \n",
    "                                 'Training-incurred RAM Usage (MB)', \n",
    "                                 'CPU Usage', \n",
    "                                 'GPU Usage', \n",
    "                                 'GPU Memory Consumption'])"
   ]
  },
  {
   "cell_type": "markdown",
   "metadata": {},
   "source": [
    "### 3.2. CNN Results"
   ]
  },
  {
   "cell_type": "code",
   "execution_count": 22,
   "metadata": {},
   "outputs": [
    {
     "data": {
      "text/html": [
       "<div>\n",
       "<style scoped>\n",
       "    .dataframe tbody tr th:only-of-type {\n",
       "        vertical-align: middle;\n",
       "    }\n",
       "\n",
       "    .dataframe tbody tr th {\n",
       "        vertical-align: top;\n",
       "    }\n",
       "\n",
       "    .dataframe thead th {\n",
       "        text-align: right;\n",
       "    }\n",
       "</style>\n",
       "<table border=\"1\" class=\"dataframe\">\n",
       "  <thead>\n",
       "    <tr style=\"text-align: right;\">\n",
       "      <th></th>\n",
       "      <th>gr</th>\n",
       "      <th>lgr</th>\n",
       "      <th>lr</th>\n",
       "      <th>nr</th>\n",
       "    </tr>\n",
       "  </thead>\n",
       "  <tbody>\n",
       "    <tr>\n",
       "      <td>Accuracy (%)</td>\n",
       "      <td>99.106667</td>\n",
       "      <td>99.180000</td>\n",
       "      <td>98.866667</td>\n",
       "      <td>99.050000</td>\n",
       "    </tr>\n",
       "    <tr>\n",
       "      <td>Training time (s)</td>\n",
       "      <td>65.266667</td>\n",
       "      <td>63.933333</td>\n",
       "      <td>45.933333</td>\n",
       "      <td>47.633333</td>\n",
       "    </tr>\n",
       "    <tr>\n",
       "      <td>Peak RAM Usage (MB)</td>\n",
       "      <td>2315.045573</td>\n",
       "      <td>2312.105469</td>\n",
       "      <td>2313.367188</td>\n",
       "      <td>2314.279948</td>\n",
       "    </tr>\n",
       "    <tr>\n",
       "      <td>Training-incurred RAM Usage (MB)</td>\n",
       "      <td>2.324219</td>\n",
       "      <td>3.268229</td>\n",
       "      <td>2.929688</td>\n",
       "      <td>2.421875</td>\n",
       "    </tr>\n",
       "    <tr>\n",
       "      <td>CPU Usage</td>\n",
       "      <td>93.646667</td>\n",
       "      <td>92.373333</td>\n",
       "      <td>74.406667</td>\n",
       "      <td>75.573333</td>\n",
       "    </tr>\n",
       "    <tr>\n",
       "      <td>GPU Usage</td>\n",
       "      <td>15.380952</td>\n",
       "      <td>11.285714</td>\n",
       "      <td>5.400000</td>\n",
       "      <td>8.733333</td>\n",
       "    </tr>\n",
       "    <tr>\n",
       "      <td>GPU Memory Consumption</td>\n",
       "      <td>40.000000</td>\n",
       "      <td>4.000000</td>\n",
       "      <td>11.333333</td>\n",
       "      <td>90.000000</td>\n",
       "    </tr>\n",
       "  </tbody>\n",
       "</table>\n",
       "</div>"
      ],
      "text/plain": [
       "                                           gr          lgr           lr  \\\n",
       "Accuracy (%)                        99.106667    99.180000    98.866667   \n",
       "Training time (s)                   65.266667    63.933333    45.933333   \n",
       "Peak RAM Usage (MB)               2315.045573  2312.105469  2313.367188   \n",
       "Training-incurred RAM Usage (MB)     2.324219     3.268229     2.929688   \n",
       "CPU Usage                           93.646667    92.373333    74.406667   \n",
       "GPU Usage                           15.380952    11.285714     5.400000   \n",
       "GPU Memory Consumption              40.000000     4.000000    11.333333   \n",
       "\n",
       "                                           nr  \n",
       "Accuracy (%)                        99.050000  \n",
       "Training time (s)                   47.633333  \n",
       "Peak RAM Usage (MB)               2314.279948  \n",
       "Training-incurred RAM Usage (MB)     2.421875  \n",
       "CPU Usage                           75.573333  \n",
       "GPU Usage                            8.733333  \n",
       "GPU Memory Consumption              90.000000  "
      ]
     },
     "execution_count": 22,
     "metadata": {},
     "output_type": "execute_result"
    }
   ],
   "source": [
    "pd.DataFrame(cnn_metrics, index=['Accuracy (%)', \n",
    "                                 'Training time (s)', \n",
    "                                 'Peak RAM Usage (MB)' , \n",
    "                                 'Training-incurred RAM Usage (MB)', \n",
    "                                 'CPU Usage', \n",
    "                                 'GPU Usage', \n",
    "                                 'GPU Memory Consumption'])"
   ]
  },
  {
   "cell_type": "markdown",
   "metadata": {},
   "source": [
    "## 4. Class-IL + GPU "
   ]
  },
  {
   "cell_type": "code",
   "execution_count": 23,
   "metadata": {},
   "outputs": [
    {
     "name": "stdout",
     "output_type": "stream",
     "text": [
      "/Users/samuilstoychev/Desktop/research_project_repo/research_project/experiments/mnist/2021-04-17-21-14/class_gpu_fi\n"
     ]
    }
   ],
   "source": [
    "%cd ~/Desktop/research_project_repo/research_project/experiments/mnist/2021-04-17-21-14/class_gpu_fi/"
   ]
  },
  {
   "cell_type": "code",
   "execution_count": 24,
   "metadata": {},
   "outputs": [],
   "source": [
    "logs = !ls"
   ]
  },
  {
   "cell_type": "code",
   "execution_count": 25,
   "metadata": {},
   "outputs": [],
   "source": [
    "mlp_metrics, cnn_metrics = calculate_metrics_gpu(logs)\n",
    "mlp_metrics = get_means(mlp_metrics)\n",
    "cnn_metrics = get_means(cnn_metrics)"
   ]
  },
  {
   "cell_type": "markdown",
   "metadata": {},
   "source": [
    "### 4.1. MLP Results"
   ]
  },
  {
   "cell_type": "code",
   "execution_count": 26,
   "metadata": {},
   "outputs": [
    {
     "data": {
      "text/html": [
       "<div>\n",
       "<style scoped>\n",
       "    .dataframe tbody tr th:only-of-type {\n",
       "        vertical-align: middle;\n",
       "    }\n",
       "\n",
       "    .dataframe tbody tr th {\n",
       "        vertical-align: top;\n",
       "    }\n",
       "\n",
       "    .dataframe thead th {\n",
       "        text-align: right;\n",
       "    }\n",
       "</style>\n",
       "<table border=\"1\" class=\"dataframe\">\n",
       "  <thead>\n",
       "    <tr style=\"text-align: right;\">\n",
       "      <th></th>\n",
       "      <th>gr</th>\n",
       "      <th>lgr</th>\n",
       "      <th>lr</th>\n",
       "      <th>nr</th>\n",
       "    </tr>\n",
       "  </thead>\n",
       "  <tbody>\n",
       "    <tr>\n",
       "      <th>Accuracy (%)</th>\n",
       "      <td>93.820000</td>\n",
       "      <td>94.226667</td>\n",
       "      <td>94.520000</td>\n",
       "      <td>94.303333</td>\n",
       "    </tr>\n",
       "    <tr>\n",
       "      <th>Training time (s)</th>\n",
       "      <td>116.700000</td>\n",
       "      <td>111.700000</td>\n",
       "      <td>89.033333</td>\n",
       "      <td>87.766667</td>\n",
       "    </tr>\n",
       "    <tr>\n",
       "      <th>Peak RAM Usage (MB)</th>\n",
       "      <td>2313.587240</td>\n",
       "      <td>2313.041667</td>\n",
       "      <td>2311.313802</td>\n",
       "      <td>2311.686198</td>\n",
       "    </tr>\n",
       "    <tr>\n",
       "      <th>Training-incurred RAM Usage (MB)</th>\n",
       "      <td>2.079427</td>\n",
       "      <td>2.234375</td>\n",
       "      <td>3.126302</td>\n",
       "      <td>1.928385</td>\n",
       "    </tr>\n",
       "    <tr>\n",
       "      <th>CPU Usage</th>\n",
       "      <td>175.270000</td>\n",
       "      <td>170.186667</td>\n",
       "      <td>145.920000</td>\n",
       "      <td>144.603333</td>\n",
       "    </tr>\n",
       "    <tr>\n",
       "      <th>GPU Usage</th>\n",
       "      <td>13.250000</td>\n",
       "      <td>9.361111</td>\n",
       "      <td>3.640741</td>\n",
       "      <td>5.555556</td>\n",
       "    </tr>\n",
       "    <tr>\n",
       "      <th>GPU Memory Consumption</th>\n",
       "      <td>60.000000</td>\n",
       "      <td>6.000000</td>\n",
       "      <td>18.000000</td>\n",
       "      <td>142.000000</td>\n",
       "    </tr>\n",
       "  </tbody>\n",
       "</table>\n",
       "</div>"
      ],
      "text/plain": [
       "                                           gr          lgr           lr  \\\n",
       "Accuracy (%)                        93.820000    94.226667    94.520000   \n",
       "Training time (s)                  116.700000   111.700000    89.033333   \n",
       "Peak RAM Usage (MB)               2313.587240  2313.041667  2311.313802   \n",
       "Training-incurred RAM Usage (MB)     2.079427     2.234375     3.126302   \n",
       "CPU Usage                          175.270000   170.186667   145.920000   \n",
       "GPU Usage                           13.250000     9.361111     3.640741   \n",
       "GPU Memory Consumption              60.000000     6.000000    18.000000   \n",
       "\n",
       "                                           nr  \n",
       "Accuracy (%)                        94.303333  \n",
       "Training time (s)                   87.766667  \n",
       "Peak RAM Usage (MB)               2311.686198  \n",
       "Training-incurred RAM Usage (MB)     1.928385  \n",
       "CPU Usage                          144.603333  \n",
       "GPU Usage                            5.555556  \n",
       "GPU Memory Consumption             142.000000  "
      ]
     },
     "execution_count": 26,
     "metadata": {},
     "output_type": "execute_result"
    }
   ],
   "source": [
    "pd.DataFrame(mlp_metrics, index=['Accuracy (%)', \n",
    "                                 'Training time (s)', \n",
    "                                 'Peak RAM Usage (MB)' , \n",
    "                                 'Training-incurred RAM Usage (MB)', \n",
    "                                 'CPU Usage', \n",
    "                                 'GPU Usage', \n",
    "                                 'GPU Memory Consumption'])"
   ]
  },
  {
   "cell_type": "markdown",
   "metadata": {},
   "source": [
    "### 4.2. CNN Results "
   ]
  },
  {
   "cell_type": "code",
   "execution_count": 27,
   "metadata": {},
   "outputs": [
    {
     "data": {
      "text/html": [
       "<div>\n",
       "<style scoped>\n",
       "    .dataframe tbody tr th:only-of-type {\n",
       "        vertical-align: middle;\n",
       "    }\n",
       "\n",
       "    .dataframe tbody tr th {\n",
       "        vertical-align: top;\n",
       "    }\n",
       "\n",
       "    .dataframe thead th {\n",
       "        text-align: right;\n",
       "    }\n",
       "</style>\n",
       "<table border=\"1\" class=\"dataframe\">\n",
       "  <thead>\n",
       "    <tr style=\"text-align: right;\">\n",
       "      <th></th>\n",
       "      <th>gr</th>\n",
       "      <th>lgr</th>\n",
       "      <th>lr</th>\n",
       "      <th>nr</th>\n",
       "    </tr>\n",
       "  </thead>\n",
       "  <tbody>\n",
       "    <tr>\n",
       "      <th>Accuracy (%)</th>\n",
       "      <td>95.893333</td>\n",
       "      <td>91.406667</td>\n",
       "      <td>94.930000</td>\n",
       "      <td>96.733333</td>\n",
       "    </tr>\n",
       "    <tr>\n",
       "      <th>Training time (s)</th>\n",
       "      <td>248.800000</td>\n",
       "      <td>233.633333</td>\n",
       "      <td>184.133333</td>\n",
       "      <td>191.200000</td>\n",
       "    </tr>\n",
       "    <tr>\n",
       "      <th>Peak RAM Usage (MB)</th>\n",
       "      <td>2314.847656</td>\n",
       "      <td>2314.912760</td>\n",
       "      <td>2315.851562</td>\n",
       "      <td>2313.688802</td>\n",
       "    </tr>\n",
       "    <tr>\n",
       "      <th>Training-incurred RAM Usage (MB)</th>\n",
       "      <td>1.975260</td>\n",
       "      <td>2.539062</td>\n",
       "      <td>3.054688</td>\n",
       "      <td>3.260417</td>\n",
       "    </tr>\n",
       "    <tr>\n",
       "      <th>CPU Usage</th>\n",
       "      <td>362.140000</td>\n",
       "      <td>346.523333</td>\n",
       "      <td>296.370000</td>\n",
       "      <td>304.306667</td>\n",
       "    </tr>\n",
       "    <tr>\n",
       "      <th>GPU Usage</th>\n",
       "      <td>16.104103</td>\n",
       "      <td>10.850242</td>\n",
       "      <td>5.947368</td>\n",
       "      <td>8.544737</td>\n",
       "    </tr>\n",
       "    <tr>\n",
       "      <th>GPU Memory Consumption</th>\n",
       "      <td>40.000000</td>\n",
       "      <td>4.000000</td>\n",
       "      <td>18.000000</td>\n",
       "      <td>139.333333</td>\n",
       "    </tr>\n",
       "  </tbody>\n",
       "</table>\n",
       "</div>"
      ],
      "text/plain": [
       "                                           gr          lgr           lr  \\\n",
       "Accuracy (%)                        95.893333    91.406667    94.930000   \n",
       "Training time (s)                  248.800000   233.633333   184.133333   \n",
       "Peak RAM Usage (MB)               2314.847656  2314.912760  2315.851562   \n",
       "Training-incurred RAM Usage (MB)     1.975260     2.539062     3.054688   \n",
       "CPU Usage                          362.140000   346.523333   296.370000   \n",
       "GPU Usage                           16.104103    10.850242     5.947368   \n",
       "GPU Memory Consumption              40.000000     4.000000    18.000000   \n",
       "\n",
       "                                           nr  \n",
       "Accuracy (%)                        96.733333  \n",
       "Training time (s)                  191.200000  \n",
       "Peak RAM Usage (MB)               2313.688802  \n",
       "Training-incurred RAM Usage (MB)     3.260417  \n",
       "CPU Usage                          304.306667  \n",
       "GPU Usage                            8.544737  \n",
       "GPU Memory Consumption             139.333333  "
      ]
     },
     "execution_count": 27,
     "metadata": {},
     "output_type": "execute_result"
    }
   ],
   "source": [
    "pd.DataFrame(cnn_metrics, index=['Accuracy (%)', \n",
    "                                 'Training time (s)', \n",
    "                                 'Peak RAM Usage (MB)' , \n",
    "                                 'Training-incurred RAM Usage (MB)', \n",
    "                                 'CPU Usage', \n",
    "                                 'GPU Usage', \n",
    "                                 'GPU Memory Consumption'])"
   ]
  }
 ],
 "metadata": {
  "kernelspec": {
   "display_name": "Python 3",
   "language": "python",
   "name": "python3"
  },
  "language_info": {
   "codemirror_mode": {
    "name": "ipython",
    "version": 3
   },
   "file_extension": ".py",
   "mimetype": "text/x-python",
   "name": "python",
   "nbconvert_exporter": "python",
   "pygments_lexer": "ipython3",
   "version": "3.7.4"
  }
 },
 "nbformat": 4,
 "nbformat_minor": 5
}
