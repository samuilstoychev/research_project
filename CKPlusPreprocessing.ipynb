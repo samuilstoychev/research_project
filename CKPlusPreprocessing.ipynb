{
 "cells": [
  {
   "cell_type": "code",
   "execution_count": 6,
   "id": "welsh-friday",
   "metadata": {},
   "outputs": [],
   "source": [
    "import os\n",
    "import numpy as np\n",
    "import matplotlib.pyplot as plt\n",
    "from skimage import io, transform\n",
    "import torch\n",
    "import random\n",
    "from shutil import copyfile"
   ]
  },
  {
   "cell_type": "code",
   "execution_count": 202,
   "id": "conscious-poverty",
   "metadata": {},
   "outputs": [],
   "source": [
    "EMOTIONS = [\"neutral\", \"anger\", \"contempt\", \"disgust\", \"fear\", \"happy\", \"sadness\", \"surprise\"]"
   ]
  },
  {
   "cell_type": "markdown",
   "id": "british-logan",
   "metadata": {},
   "source": [
    "# 1. Auxiliary functions"
   ]
  },
  {
   "cell_type": "code",
   "execution_count": null,
   "id": "affected-monitor",
   "metadata": {},
   "outputs": [],
   "source": [
    "EMOTIONS_PATH = \"/Users/samuilstoychev/ckplus/CK+/Emotion\"\n",
    "IMAGES_PATH = \"/Users/samuilstoychev/ckplus/CK+/cohn-kanade-images\" "
   ]
  },
  {
   "cell_type": "code",
   "execution_count": null,
   "id": "unknown-keeping",
   "metadata": {},
   "outputs": [],
   "source": [
    "def listdir(path):\n",
    "    \"\"\"List all items in a given directory (in ascending order).\"\"\"\n",
    "    res = []\n",
    "    for f in os.listdir(path):\n",
    "        if not f.startswith('.'):\n",
    "            res.append(f)\n",
    "    return sorted(res)"
   ]
  },
  {
   "cell_type": "code",
   "execution_count": null,
   "id": "spread-chase",
   "metadata": {},
   "outputs": [],
   "source": [
    "def get_images(subject, sample): \n",
    "    folder = \"/\".join([IMAGES_PATH, subject, sample])\n",
    "    images = listdir(folder)\n",
    "    neutral = folder + \"/\" + images[0]\n",
    "    emotional = [folder + \"/\" + img for img in [images[-3], images[-2], images[-1]]]\n",
    "    return (neutral, emotional)"
   ]
  },
  {
   "cell_type": "markdown",
   "id": "shaped-allowance",
   "metadata": {},
   "source": [
    "# 2. Allocating images to emotions"
   ]
  },
  {
   "cell_type": "code",
   "execution_count": null,
   "id": "controversial-tutorial",
   "metadata": {},
   "outputs": [],
   "source": [
    "subjects = listdir(EMOTIONS_PATH) "
   ]
  },
  {
   "cell_type": "code",
   "execution_count": null,
   "id": "knowing-martin",
   "metadata": {},
   "outputs": [],
   "source": [
    "data = [[] for _ in range(8)] \n",
    "\n",
    "for subj in subjects: \n",
    "    samples = listdir(EMOTIONS_PATH + \"/\" + subj) \n",
    "    for samp in samples: \n",
    "        files = listdir(EMOTIONS_PATH + \"/\" + subj + \"/\" + samp)\n",
    "        if len(files) is not 0: \n",
    "            fsubj, fsample, _, _ = files[0].split(\"_\")\n",
    "            emotion = open(EMOTIONS_PATH + \"/\" + subj + \"/\" + samp + \"/\" + files[0], \"r\").read().strip()\n",
    "            emotion = int(float(emotion)) \n",
    "            neutral, emotional = get_images(fsubj, fsample)\n",
    "            data[0].append(neutral)\n",
    "            data[emotion] += emotional"
   ]
  },
  {
   "cell_type": "markdown",
   "id": "contained-pricing",
   "metadata": {},
   "source": [
    "### Distribution of emotions"
   ]
  },
  {
   "cell_type": "code",
   "execution_count": 211,
   "id": "adolescent-stock",
   "metadata": {},
   "outputs": [
    {
     "data": {
      "image/png": "[encoded data removed]",
      "text/plain": [
       "<Figure size 432x288 with 1 Axes>"
      ]
     },
     "metadata": {
      "needs_background": "light"
     },
     "output_type": "display_data"
    },
    {
     "name": "stdout",
     "output_type": "stream",
     "text": [
      "Distribution of emotions: [327, 135, 54, 177, 75, 207, 84, 249]\n",
      "Images in total: 1308\n"
     ]
    }
   ],
   "source": [
    "dist = [len(data[x]) for x in range(8)]\n",
    "y_pos = np.arange(len(EMOTIONS))\n",
    "\n",
    "plt.bar(y_pos, dist, align='center', alpha=0.8)\n",
    "plt.xticks(y_pos, EMOTIONS)\n",
    "\n",
    "plt.show()\n",
    "print(\"Distribution of emotions:\", dist)\n",
    "print(\"Images in total:\", sum(dist))"
   ]
  },
  {
   "cell_type": "markdown",
   "id": "nuclear-bobby",
   "metadata": {},
   "source": [
    "# 3. Splitting into train and test"
   ]
  },
  {
   "cell_type": "code",
   "execution_count": 213,
   "id": "royal-anxiety",
   "metadata": {},
   "outputs": [],
   "source": [
    "def split_train_test(data, test_ratio=0.2): \n",
    "    train = [] \n",
    "    test = [] \n",
    "    \n",
    "    for x in data: \n",
    "        random.shuffle(x)\n",
    "        split_point = int(test_ratio * len(x))\n",
    "        train.append(x[split_point:])\n",
    "        test.append(x[:split_point])\n",
    "    return (train, test)"
   ]
  },
  {
   "cell_type": "code",
   "execution_count": 192,
   "id": "sophisticated-eugene",
   "metadata": {},
   "outputs": [],
   "source": [
    "train_data, test_data = split_train_test(data)"
   ]
  },
  {
   "cell_type": "markdown",
   "id": "earned-parliament",
   "metadata": {},
   "source": [
    "# 4. Copy into new directory"
   ]
  },
  {
   "cell_type": "code",
   "execution_count": 227,
   "id": "opening-relationship",
   "metadata": {},
   "outputs": [],
   "source": [
    "# NEW_FOLDER_TRAIN = \"/Users/samuilstoychev/ckplus_preprocessed/train/\"\n",
    "# NEW_FOLDER_TEST = \"/Users/samuilstoychev/ckplus_preprocessed/test/\"\n",
    "# for emotion_index in range(8): \n",
    "#     train_folder = NEW_FOLDER_TRAIN + \"class_\" + str(emotion_index) + \"/\" \n",
    "#     test_folder = NEW_FOLDER_TEST + \"class_\" + str(emotion_index) + \"/\" \n",
    "    \n",
    "#     for img_address in train_data[emotion_index]: \n",
    "#         filename = img_address.split(\"/\")[-1]\n",
    "#         copyfile(img_address, train_folder + filename)\n",
    "#     for img_address in test_data[emotion_index]: \n",
    "#         filename = img_address.split(\"/\")[-1]\n",
    "#         copyfile(img_address, test_folder + filename)\n",
    "    "
   ]
  },
  {
   "cell_type": "code",
   "execution_count": null,
   "id": "colored-category",
   "metadata": {},
   "outputs": [],
   "source": []
  },
  {
   "cell_type": "code",
   "execution_count": null,
   "id": "blessed-vegetation",
   "metadata": {},
   "outputs": [],
   "source": []
  },
  {
   "cell_type": "code",
   "execution_count": null,
   "id": "classified-fetish",
   "metadata": {},
   "outputs": [],
   "source": []
  },
  {
   "cell_type": "code",
   "execution_count": 2,
   "id": "moderate-simon",
   "metadata": {},
   "outputs": [],
   "source": [
    "from torchvision import datasets, transforms\n",
    "from PIL import Image"
   ]
  },
  {
   "cell_type": "code",
   "execution_count": null,
   "id": "funky-incident",
   "metadata": {},
   "outputs": [],
   "source": []
  },
  {
   "cell_type": "code",
   "execution_count": 25,
   "id": "religious-toddler",
   "metadata": {},
   "outputs": [],
   "source": [
    "ck_transforms = transforms.Compose([\n",
    "    transforms.CenterCrop((490, 640)),\n",
    "    transforms.Grayscale(), \n",
    "    transforms.Resize((490//5, 640//5)), \n",
    "    transforms.ToTensor(),\n",
    "])"
   ]
  },
  {
   "cell_type": "code",
   "execution_count": 26,
   "id": "equivalent-homeless",
   "metadata": {},
   "outputs": [],
   "source": [
    "sample_train = datasets.DatasetFolder(\"/Users/samuilstoychev/Desktop/sample_train\", \n",
    "                                      loader=lambda x: Image.open(x), extensions=[\"png\"], \n",
    "                                      transform=ck_transforms)"
   ]
  }
 ],
 "metadata": {
  "kernelspec": {
   "display_name": "Python 3",
   "language": "python",
   "name": "python3"
  },
  "language_info": {
   "codemirror_mode": {
    "name": "ipython",
    "version": 3
   },
   "file_extension": ".py",
   "mimetype": "text/x-python",
   "name": "python",
   "nbconvert_exporter": "python",
   "pygments_lexer": "ipython3",
   "version": "3.7.9"
  }
 },
 "nbformat": 4,
 "nbformat_minor": 5
}
