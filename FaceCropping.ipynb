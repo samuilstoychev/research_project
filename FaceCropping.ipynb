{
 "cells": [
  {
   "cell_type": "code",
   "execution_count": 5,
   "metadata": {},
   "outputs": [],
   "source": [
    "import sys \n",
    "import dlib\n",
    "import cv2\n",
    "import os\n",
    "\n",
    "import matplotlib.pyplot as plt"
   ]
  },
  {
   "cell_type": "code",
   "execution_count": 21,
   "metadata": {},
   "outputs": [],
   "source": [
    "SRC_PATH = \"/Users/samuilstoychev/ckplus_preprocessed/\"\n",
    "DEST_PATH = \"/Users/samuilstoychev/ckplus_cropped\" "
   ]
  },
  {
   "cell_type": "code",
   "execution_count": 12,
   "metadata": {},
   "outputs": [],
   "source": [
    "detector = dlib.get_frontal_face_detector()"
   ]
  },
  {
   "cell_type": "code",
   "execution_count": 3,
   "metadata": {},
   "outputs": [],
   "source": [
    "def listdir(path):\n",
    "    \"\"\"List all items in a given directory (in ascending order).\"\"\"\n",
    "    res = []\n",
    "    for f in os.listdir(path):\n",
    "        if not f.startswith('.'):\n",
    "            res.append(f)\n",
    "    return sorted(res)"
   ]
  },
  {
   "cell_type": "code",
   "execution_count": 31,
   "metadata": {},
   "outputs": [],
   "source": [
    "for split in [\"train\", \"test\"]: \n",
    "    for class_id in [\"class_\" + str(x) for x in range(8)]: \n",
    "        path = \"/\".join([SRC_PATH, split, class_id])\n",
    "        dest = \"/\".join([DEST_PATH, split, class_id])\n",
    "        image_names = listdir(path)\n",
    "        for image_name in image_names: \n",
    "            img = dlib.load_rgb_image(path + \"/\" + image_name)\n",
    "            dets = detector(img, 1)\n",
    "            crop = img[dets[0].top():dets[0].bottom(), dets[0].left():dets[0].right()]\n",
    "            # https://stackoverflow.com/questions/42406338/why-cv2-imwrite-changes-the-color-of-pics\n",
    "            cv2.imwrite(dest + \"/\" + image_name, cv2.cvtColor(crop, cv2.COLOR_RGB2BGR))"
   ]
  }
 ],
 "metadata": {
  "kernelspec": {
   "display_name": "Python 3",
   "language": "python",
   "name": "python3"
  },
  "language_info": {
   "codemirror_mode": {
    "name": "ipython",
    "version": 3
   },
   "file_extension": ".py",
   "mimetype": "text/x-python",
   "name": "python",
   "nbconvert_exporter": "python",
   "pygments_lexer": "ipython3",
   "version": "3.7.4"
  }
 },
 "nbformat": 4,
 "nbformat_minor": 5
}
